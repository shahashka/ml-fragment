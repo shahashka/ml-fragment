{
 "cells": [
  {
   "cell_type": "code",
   "execution_count": 1,
   "metadata": {},
   "outputs": [],
   "source": [
    "import mdtraj as md\n",
    "import numpy as np\n",
    "from pymol import cmd\n",
    "from pymol import stored\n",
    "import matplotlib.pyplot as plt\n",
    "import itertools\n",
    "import warnings\n",
    "import multiprocessing\n",
    "from tqdm import tqdm\n",
    "import cv2\n",
    "import os\n",
    "import warnings\n",
    "warnings.filterwarnings('ignore')\n",
    "import pickle\n",
    "import pandas as pd\n",
    "import glob"
   ]
  },
  {
   "cell_type": "code",
   "execution_count": 2,
   "metadata": {},
   "outputs": [],
   "source": [
    "import tensorflow as tf\n",
    "from tensorflow.keras.models import Sequential\n",
    "from tensorflow.keras.layers import Dense, Dropout, Flatten\n",
    "from tensorflow.keras.layers import Conv2D, MaxPooling2D, BatchNormalization\n",
    "import matplotlib.pyplot as plt\n",
    "from sklearn.preprocessing import MinMaxScaler, StandardScaler\n",
    "from sklearn.model_selection import train_test_split\n",
    "os.environ[\"CUDA_VISIBLE_DEVICES\"]=\"3\"\n"
   ]
  },
  {
   "cell_type": "code",
   "execution_count": 3,
   "metadata": {},
   "outputs": [],
   "source": [
    "def save_pocket(pdb, sdf, name):\n",
    "    cmd.reinitialize()\n",
    "    cmd.load(pdb)\n",
    "    cmd.load(sdf, \"LIG\")\n",
    "    cmd.select(\"POCK\",\"br. LIG around 4\")\n",
    "    stored.idx = 0\n",
    "    cmd.iterate(\"POCK and n. CA\", expression=\"stored.idx+=1\")\n",
    "    cmd.save(name, \"POCK\")\n",
    "    return stored.idx"
   ]
  },
  {
   "cell_type": "code",
   "execution_count": 4,
   "metadata": {},
   "outputs": [],
   "source": [
    "# dict_aa = {'CYS': 0, 'ASP': 1, 'SER': 2, 'GLN': 3, 'LYS': 4,\n",
    "#      'ILE': 5, 'PRO': 6, 'THR': 7, 'PHE': 8, 'ASN': 9, \n",
    "#      'GLY': 10, 'HIS': 11, 'LEU': 12, 'ARG': 13, 'TRP': 14, \n",
    "#      'ALA': 15, 'VAL':16, 'GLU': 17, 'TYR': 18, 'MET': 19}\n",
    "\n",
    "# dict_element = {\"H\": 20, \"I\":21,\n",
    "#        \"N\": 22,\n",
    "#        \"P\":23,\n",
    "#        \"C\": 24,\n",
    "#        \"O\":25,\n",
    "#        \"F\": 26,\n",
    "#        \"S\": 27,\n",
    "#        \"Li\": 28,\n",
    "#        \"Cl\": 29,\n",
    "#        \"Br\": 30}\n",
    "\n",
    "aa_hscale = {\n",
    "\"ALA\":  0.620,\n",
    "\"ARG\": -2.530,\n",
    "\"ASN\": -0.780,\n",
    "\"ASP\": -0.900,\n",
    "\"CYS\":  0.290,\n",
    "\"GLN\": -0.850,\n",
    "\"GLU\": -0.740,\n",
    "\"GLY\":  0.480,\n",
    "\"HIS\": -0.400,\n",
    "\"ILE\":  1.380,\n",
    "\"LEU\":  1.060,\n",
    "\"LYS\": -1.500,\n",
    "\"MET\":  0.640,\n",
    "\"PHE\":  1.190,\n",
    "\"PRO\":  0.120,\n",
    "\"SER\": -0.180,\n",
    "\"THR\": -0.050,\n",
    "\"TRP\":  0.810,\n",
    "\"TYR\":  0.260,\n",
    "\"VAL\":  1.080}\n",
    "\n",
    "element_charge = {\"H\": +1, \"I\":-1,\n",
    "           \"N\": -3,\n",
    "           \"P\":-3,\n",
    "           \"C\": +4,\n",
    "           \"O\":-2,\n",
    "           \"F\": -1,\n",
    "           \"S\": -2,\n",
    "           \"Li\": +1,\n",
    "           \"Cl\": -1,\n",
    "           \"Br\": -1}"
   ]
  },
  {
   "cell_type": "code",
   "execution_count": 11,
   "metadata": {},
   "outputs": [
    {
     "data": {
      "text/plain": [
       "True"
      ]
     },
     "execution_count": 11,
     "metadata": {},
     "output_type": "execute_result"
    }
   ],
   "source": [
    "'4'.isdigit()"
   ]
  },
  {
   "cell_type": "code",
   "execution_count": 181,
   "metadata": {},
   "outputs": [],
   "source": [
    "# convert files into list of strings\n",
    "# for the protein pdb and ligand sdf \n",
    "# (states are separated by $$$$)\n",
    "def stringify(sdf, pdb, num_states):\n",
    "    sdf_split = []\n",
    "    with open(sdf,'r') as f:\n",
    "        for key,group in itertools.groupby(f,lambda line: line.startswith('$$$$')):\n",
    "          if not key:\n",
    "            sdf_split.append(\"\".join(list(group)))\n",
    "          if len(sdf_split) == num_states:\n",
    "            break\n",
    "    \n",
    "#     with open(sdf,'r') as f:\n",
    "#         lines = f.readlines()\n",
    "#     lines = \"\".join(lines)\n",
    "#     test_split=lines.split(\"$$$$\")\n",
    "    \n",
    "#     correct=True\n",
    "#     for i,j in zip(test_split,sdf_split):\n",
    "#         correct = correct and i == j\n",
    "#         if i != j :\n",
    "#             print(i)\n",
    "#             print(j)\n",
    "#             return\n",
    "#     print(correct)\n",
    "#     return\n",
    "        \n",
    "    #sdf_split = sdf_split[-num_states:]\n",
    "    with open(pdb,'r') as f:\n",
    "        pdb_string = f.readlines()       \n",
    "    return sdf_split, \"\".join(pdb_string)\n",
    "\n",
    "def find_end(lines):\n",
    "    filtered_lines=[]\n",
    "    for l in lines:\n",
    "        split = l.split(' ')\n",
    "        split = list(filter(lambda x: x != '', split))\n",
    "        vals1 = (split[0])\n",
    "        \n",
    "        # stop when we get to the integers in the sdf\n",
    "        if vals1.isdigit():\n",
    "            return filtered_lines\n",
    "        filtered_lines.append(l)\n",
    "            \n",
    "def create_pdb(sdf, pdb_string,i):\n",
    "    lines = sdf.split('\\n')\n",
    "    #num_lines = (int)(lines[3].split(' ')[1])\n",
    "    \n",
    "    #lig = lines[4:4+num_lines-1]\n",
    "    lig = find_end(lines[4:])\n",
    "    lig = list(filter(lambda x: 'H' not in x, lig))\n",
    "    lig_pdb = list(map(create_line, lig, np.arange(1,len(lig)+1)))\n",
    "    f =  open(\"tmp{0}.pdb\".format(i), 'w+')\n",
    "    f.write(\"\\n\".join(lig_pdb))\n",
    "    f.write(\"\\n\")\n",
    "    f.write(pdb_string)\n",
    "    f.close()\n",
    "\n",
    "# Create one line in the new pdb file for one state\n",
    "# and the protein\n",
    "# Use the standardized pdb regex to create the correct string\n",
    "def create_line(line,i):\n",
    "    split = line.split(' ')\n",
    "    split = list(filter(lambda x: x != '', split))\n",
    "    vals1 = (float)(split[0])\n",
    "    vals2 = (float)(split[1])\n",
    "    vals3= (float)(split[2]) \n",
    "    atom = split[3]\n",
    "\n",
    "    # workaround to get the atoms in the ligand to be residues in mdtraj reader\n",
    "    if i >=10 :\n",
    "        new_string = \"{:6s}{:5d} {:^4s}{:1s}{:3s} {:1s}{:4d}{:1s}   {:8.3f}{:8.3f}{:8.3f}{:6.2f}{:6.2f}          {:>2s}{:2s}\".format(\"HETATM\",i,atom,'',\"U\"+str(i),'',0,'',vals1, vals2,vals3,0,0,atom,'')\n",
    "    else:\n",
    "        new_string = \"{:6s}{:5d} {:^4s}{:1s}{:3s} {:1s}{:4d}{:1s}   {:8.3f}{:8.3f}{:8.3f}{:6.2f}{:6.2f}          {:>2s}{:2s}\".format(\"HETATM\",i,atom,'',\"UN\"+str(i),'',0,'',vals1, vals2,vals3,0,0,atom,'')\n",
    "    return new_string\n",
    "\n",
    "# Create the data for ML model\n",
    "\n",
    "# First array is contact matrix\n",
    "# - ----------------| ligand atoms | protein residues\n",
    "# - ligand atoms    |              | \n",
    "# ------------------|--------------|-----------------\n",
    "# - protein residues|              |\n",
    "#\n",
    "# Second array is a mask for which cells correspond to ligand x ligand (-1), \n",
    "# protein x protein (1) and ligand x protein (0)\n",
    "#\n",
    "# Arrays are interpolated to 80x80\n",
    "def maker_w_strings(data):\n",
    "    i,sdf_state, num_residues, pdb = data\n",
    "    tmp_file = str(id(multiprocessing.current_process()))\n",
    "    create_pdb(sdf_state,pdb,tmp_file) # create the pdb for one states\n",
    "    \n",
    "    # Load the file into mdtraj\n",
    "    t = md.load(\"tmp{0}.pdb\".format(tmp_file))\n",
    "    pl = len(list(t.topology.residues))\n",
    "    resi = np.arange(pl)\n",
    "    pairs = list(itertools.product(resi, resi))\n",
    "    \n",
    "    # compute constacts\n",
    "    matrix, l = md.compute_contacts(t, contacts=pairs, scheme=\"closest-heavy\")\n",
    "    matrix = np.array(matrix).reshape((pl,pl))\n",
    "    \n",
    "    aa_matrix_h = np.zeros((pl, pl))\n",
    "    aa_matrix_v = np.zeros((pl, pl))\n",
    "    resi_list = list(t.topology.residues)\n",
    "    atom_list = list(t.topology.atoms)\n",
    "\n",
    "    for p in range(pl):\n",
    "        r = resi_list[p]\n",
    "        if not str(r).startswith('U'):\n",
    "            aa_matrix_v[:,p]=aa_hscale[r.name]\n",
    "            aa_matrix_h[p]=aa_hscale[r.name]\n",
    "        else:\n",
    "            a = atom_list[p]\n",
    "            aa_matrix_v[:,p] =element_charge[a.name]\n",
    "            aa_matrix_h[p]=element_charge[a.name]\n",
    "            \n",
    "    ### generate protein-ligand mask\n",
    "    mask = np.zeros((pl,pl))\n",
    "    for i in range(pl-num_residues):\n",
    "        for j in range(pl-num_residues):\n",
    "            # ligand\n",
    "            mask[i,j] = -1\n",
    "            \n",
    "    for i in range(pl - num_residues,pl):\n",
    "        for j in range( pl - num_residues,pl):\n",
    "            # protein\n",
    "            mask[i,j] = 1\n",
    "            \n",
    "    p_img = cv2.resize(matrix, dsize=(64, 64), interpolation=cv2.INTER_CUBIC).reshape(64,64,1)\n",
    "    m_img = cv2.resize(mask, dsize=(64, 64), interpolation=cv2.INTER_CUBIC).reshape(64,64,1)\n",
    "    v_img = cv2.resize(aa_matrix_v, dsize=(64, 64), interpolation=cv2.INTER_CUBIC).reshape(64,64,1)\n",
    "    h_img = cv2.resize(aa_matrix_h, dsize=(64, 64), interpolation=cv2.INTER_CUBIC).reshape(64,64,1)\n",
    "\n",
    "    p_contact_matrix = np.concatenate([p_img, m_img, v_img, h_img], axis=-1)\n",
    "    os.remove(\"tmp{0}.pdb\".format(tmp_file))\n",
    "    return p_contact_matrix\n",
    "    "
   ]
  },
  {
   "cell_type": "code",
   "execution_count": 182,
   "metadata": {},
   "outputs": [
    {
     "name": "stdout",
     "output_type": "stream",
     "text": [
      "done creating pocket\n"
     ]
    },
    {
     "name": "stderr",
     "output_type": "stream",
     "text": [
      "100%|██████████| 10000/10000 [00:52<00:00, 191.08it/s]\n"
     ]
    }
   ],
   "source": [
    "maps=[]\n",
    "num_residues = save_pocket(\"april27/ADRP/ADRP_6W02_A_1_H.pdb\", \"april27/ADRP/adrp_adpr_A_cat_sorted_top100.sdf\", \"april27/ADRP/adrp_gen_pock.pdb\")\n",
    "print(\"done creating pocket\")\n",
    "s, pdb_string = stringify(\"april27/ADRP/adrp_adpr_A_cat_sorted.sdf\", \"april27/ADRP/adrp_gen_pock.pdb\", 10000)\n",
    "pdb_string = [pdb_string for x in range(len(s))]\n",
    "\n",
    "with multiprocessing.Pool(32) as p:\n",
    "    num_states = len(s)\n",
    "    data = list(zip(range(num_states), s, num_residues*np.ones(num_states,dtype=int), pdb_string))\n",
    "    itern = p.imap(maker_w_strings, data)\n",
    "    for i,p_contact_matrix in enumerate(tqdm(itern, total=num_states)):\n",
    "        maps.append(p_contact_matrix)\n"
   ]
  },
  {
   "cell_type": "code",
   "execution_count": 183,
   "metadata": {},
   "outputs": [
    {
     "name": "stdout",
     "output_type": "stream",
     "text": [
      "(10000, 64, 64, 4)\n"
     ]
    }
   ],
   "source": [
    "images_100k = np.stack(maps,axis=0)\n",
    "print(images_100k.shape)"
   ]
  },
  {
   "cell_type": "code",
   "execution_count": 184,
   "metadata": {},
   "outputs": [
    {
     "data": {
      "text/plain": [
       "<matplotlib.colorbar.Colorbar at 0x7f4f06fcacd0>"
      ]
     },
     "execution_count": 184,
     "metadata": {},
     "output_type": "execute_result"
    },
    {
     "data": {
      "image/png": "[encoded data removed]",
      "text/plain": [
       "<Figure size 432x288 with 2 Axes>"
      ]
     },
     "metadata": {
      "needs_background": "light"
     },
     "output_type": "display_data"
    }
   ],
   "source": [
    "plt.imshow(maps[0][:,:,0])\n",
    "plt.colorbar()"
   ]
  },
  {
   "cell_type": "code",
   "execution_count": 27,
   "metadata": {},
   "outputs": [
    {
     "data": {
      "text/plain": [
       "<matplotlib.colorbar.Colorbar at 0x7f56d326a5d0>"
      ]
     },
     "execution_count": 27,
     "metadata": {},
     "output_type": "execute_result"
    },
    {
     "data": {
      "image/png": "[encoded data removed]",
      "text/plain": [
       "<Figure size 432x288 with 2 Axes>"
      ]
     },
     "metadata": {
      "needs_background": "light"
     },
     "output_type": "display_data"
    }
   ],
   "source": [
    "plt.imshow(maps[10][:,:,2])\n",
    "plt.colorbar()"
   ]
  },
  {
   "cell_type": "code",
   "execution_count": 185,
   "metadata": {},
   "outputs": [
    {
     "name": "stdout",
     "output_type": "stream",
     "text": [
      "SMILES        Cc1c([nH]c2c1c(ncn2)NC(=O)[C@@H](C)SCc3[nH]c(=...\n",
      "TITLE                                             SIM-32751-E15\n",
      "receptor                                          Not Available\n",
      "Chemgauss4                                             -13.8507\n",
      "Name: 0, dtype: object\n"
     ]
    }
   ],
   "source": [
    "df = pd.read_csv(\"april27/ADRP/adrp_adpr_A_cat_sorted.csv\")\n",
    "print(df.iloc[0])"
   ]
  },
  {
   "cell_type": "code",
   "execution_count": 193,
   "metadata": {},
   "outputs": [
    {
     "name": "stdout",
     "output_type": "stream",
     "text": [
      "./april27/PLPro/2/plpro_2.high.matrices.npy ./april27/PLPro/2/plpro_2.scores\n",
      "./april27/PLPro/1/plpro_1.high.matrices.npy ./april27/PLPro/1/plpro_1.scores\n",
      "./april27/NSP15_6w01/2/NSP15_2_6w01.high.matrices.npy ./april27/NSP15_6w01/2/NSP15_2_6w01.scores\n",
      "./april27/NSP15_6w01/1/NSP15_1_6w01.high.matrices.npy ./april27/NSP15_6w01/1/NSP15_1_6w01.scores\n",
      "./april27/NSP15_6vww/1/NSP15_1_6vww.high.matrices.npy ./april27/NSP15_6vww/1/NSP15_1_6vww.scores\n",
      "./april27/NSP15_6vww/2/NSP15_2_6vww.high.matrices.npy ./april27/NSP15_6vww/2/NSP15_2_6vww.scores\n",
      "./april27/3CLPro/1/3CLPro_1.high.matrices.npy ./april27/3CLPro/1/3CLPro_1.scores\n",
      "./april27/3CLPro/2/3CLPro_2.high.matrices.npy ./april27/3CLPro/2/3CLPro_2.scores\n",
      "./april27/3CLPro/3/3CLPro_3.high.matrices.npy ./april27/3CLPro/3/3CLPro_3.scores\n",
      "./april27/ADRP/ADRP_6W02_A_1_H.high.matrices.npy ./april27/ADRP/ADRP_6W02_A_1_H.scores\n",
      "./april27/DNMT3A/DNMT3A_chainA.high.matrices.npy ./april27/DNMT3A/DNMT3A_chainA.scores\n",
      "./april27/NSUN2/NSUN2_model.high.matrices.npy ./april27/NSUN2/NSUN2_model.scores\n"
     ]
    }
   ],
   "source": [
    "data_images =[]\n",
    "data_scores = []\n",
    "data_images_bottom =[]\n",
    "data_scores_bottom = []\n",
    "files_m = glob.glob('./**/*high.matrices.npy', recursive=True)\n",
    "files_s = glob.glob('./**/*.scores', recursive=True)\n",
    "for m,s in zip(files_m, files_s):\n",
    "    print(m,s)\n",
    "#     if \"bottom\" not in m:\n",
    "    data_images.append(np.load(m)[0:5000])\n",
    "    data_scores.append(pd.read_csv(s).iloc[0:5000])\n",
    "#     else:\n",
    "#     data_images_bottom.append(np.load(m)[-5000:])\n",
    "#     data_scores_bottom.append(pd.read_csv(s).iloc[-5000:])\n",
    "    "
   ]
  },
  {
   "cell_type": "code",
   "execution_count": 209,
   "metadata": {},
   "outputs": [
    {
     "name": "stdout",
     "output_type": "stream",
     "text": [
      "(60000, 64, 64, 4)\n",
      "<bound method NDFrame.head of       Unnamed: 0                                             SMILES  \\\n",
      "0              0       c1cc(cc(c1)NC(=O)NCc2ccncc2)NC(=O)c3ccc[nH]3   \n",
      "1              1            c1ccc2c(c1)c3c4c(c5cnccc5c3[nH]2)CNC4=O   \n",
      "2              2  Cc1c(cc(c2c1oc(c(c2=O)[O-])c3[nH]c(c[nH+]3)Cl)...   \n",
      "3              3  Cc1c(cc(c2c1oc(c(c2=O)[O-])c3[nH]c(c[nH+]3)OC)...   \n",
      "4              4  C[C@H]1[C@@H]2[C@H]3[C@H]4[C@@H]([C@@H]([C@@H]...   \n",
      "...          ...                                                ...   \n",
      "4995        4995  c1ccc(cc1)c2c[nH+]c([nH]2)CNC(=O)c3cc4cc(sc4[n...   \n",
      "4996        4996   C[C@@H](C(=O)N1CCC1)Sc2nc([nH]n2)c3ccc4c(c3)CCC4   \n",
      "4997        4997              c1ccc(c(c1)c2cc(n[nH]2)C(=O)NCCOCCO)O   \n",
      "4998        4998      C[C@@H](c1cccs1)NC(=O)c2cc([nH]n2)c3ccc(cc3)F   \n",
      "4999        4999      C[C@@H](c1cccs1)NC(=O)c2cc([nH]n2)c3ccc(cc3)F   \n",
      "\n",
      "               TITLE                   receptor  Chemgauss4  \n",
      "0         T2K-520944    april27/PLPro/2/plpro_2  -13.482728  \n",
      "1     SIM-501635-ZIN    april27/PLPro/2/plpro_2  -13.324015  \n",
      "2          CAS=11098    april27/PLPro/2/plpro_2  -13.313546  \n",
      "3          CAS=11306    april27/PLPro/2/plpro_2  -13.262964  \n",
      "4         T2K-146987    april27/PLPro/2/plpro_2  -13.218845  \n",
      "...              ...                        ...         ...  \n",
      "4995      T2K-473398  april27/NSUN2/NSUN2_model  -10.162597  \n",
      "4996  SIM-129178-ENA  april27/NSUN2/NSUN2_model  -10.162563  \n",
      "4997      T2K-501671  april27/NSUN2/NSUN2_model  -10.162533  \n",
      "4998  SIM-127682-ZIN  april27/NSUN2/NSUN2_model  -10.162489  \n",
      "4999      EDB=177403  april27/NSUN2/NSUN2_model  -10.162489  \n",
      "\n",
      "[60000 rows x 5 columns]>\n"
     ]
    }
   ],
   "source": [
    "X = np.vstack(data_images)\n",
    "y = pd.concat(data_scores)\n",
    "# X = np.stack(maps,axis=0)\n",
    "print(X.shape)\n",
    "print(y.head)"
   ]
  },
  {
   "cell_type": "code",
   "execution_count": 212,
   "metadata": {},
   "outputs": [
    {
     "name": "stdout",
     "output_type": "stream",
     "text": [
      "0      -13.482728\n",
      "1      -13.324015\n",
      "2      -13.313546\n",
      "3      -13.262964\n",
      "4      -13.218845\n",
      "          ...    \n",
      "4995   -10.162597\n",
      "4996   -10.162563\n",
      "4997   -10.162533\n",
      "4998   -10.162489\n",
      "4999   -10.162489\n",
      "Name: Chemgauss4, Length: 60000, dtype: float64\n"
     ]
    }
   ],
   "source": [
    "print(y['Chemgauss4'])"
   ]
  },
  {
   "cell_type": "code",
   "execution_count": 218,
   "metadata": {},
   "outputs": [],
   "source": [
    "scaler = MinMaxScaler()\n",
    "dock_score= np.clip(-100, 0, y['Chemgauss4']).to_numpy()\n",
    "dock_score = np.abs(dock_score)\n",
    "dock_score = scaler.fit_transform(dock_score.reshape(-1,1))\n",
    "y['Chemgauss4'] = dock_score"
   ]
  },
  {
   "cell_type": "code",
   "execution_count": 219,
   "metadata": {},
   "outputs": [
    {
     "name": "stdout",
     "output_type": "stream",
     "text": [
      "(60000, 64, 64, 4) (60000, 1)\n"
     ]
    }
   ],
   "source": [
    "print(X.shape, dock_score.shape)"
   ]
  },
  {
   "cell_type": "code",
   "execution_count": 220,
   "metadata": {},
   "outputs": [
    {
     "data": {
      "text/plain": [
       "<matplotlib.legend.Legend at 0x7f536d17d250>"
      ]
     },
     "execution_count": 220,
     "metadata": {},
     "output_type": "execute_result"
    },
    {
     "data": {
      "image/png": "[encoded data removed]",
      "text/plain": [
       "<Figure size 432x288 with 1 Axes>"
      ]
     },
     "metadata": {
      "needs_background": "light"
     },
     "output_type": "display_data"
    }
   ],
   "source": [
    "for i in range(12):\n",
    "    plt.scatter(np.arange(5000), dock_score[5000*i:5000*(i+1)], label=i)\n",
    "plt.legend()    "
   ]
  },
  {
   "cell_type": "code",
   "execution_count": 221,
   "metadata": {},
   "outputs": [
    {
     "name": "stdout",
     "output_type": "stream",
     "text": [
      "(60000, 64, 64, 2)\n",
      "(60000, 64, 64, 2)\n"
     ]
    },
    {
     "data": {
      "image/png": "[encoded data removed]",
      "text/plain": [
       "<Figure size 432x288 with 1 Axes>"
      ]
     },
     "metadata": {
      "needs_background": "light"
     },
     "output_type": "display_data"
    }
   ],
   "source": [
    "X_2d = X[:,:,:,0:2]\n",
    "print(X_2d.shape)\n",
    "plt.imshow(X_2d[0][:,:,0])\n",
    "\n",
    "X_2d_bottom = X_bottom[:,:,:,0:2]\n",
    "print(X_2d_bottom.shape)"
   ]
  },
  {
   "cell_type": "code",
   "execution_count": 222,
   "metadata": {},
   "outputs": [],
   "source": [
    "# X_train, X_test, y_train, y_test = train_test_split(X_set,y_set, test_size=0.25,\n",
    "#                                                      shuffle=True)\n",
    "X_train_top, X_test_top, y_train_top, y_test_top = train_test_split(X_2d, y, test_size=0.25,\n",
    "                                                     shuffle=True)"
   ]
  },
  {
   "cell_type": "code",
   "execution_count": 237,
   "metadata": {},
   "outputs": [],
   "source": [
    "dock_score_train=y_train_top[\"Chemgauss4\"].to_numpy()\n",
    "dock_score_test = y_test_top[\"Chemgauss4\"].to_numpy()"
   ]
  },
  {
   "cell_type": "code",
   "execution_count": 129,
   "metadata": {},
   "outputs": [],
   "source": [
    "# X_train_3d = np.array([ np.concatenate((X_train_top[i],np.expand_dims(X_train_top[i][:,:,0], axis=-1)), axis=-1) for i in range(X_train_top.shape[0])])\n",
    "# print(X_train_3d.shape)\n",
    "# X_test_3d = np.array([ np.concatenate((X_test_top[i],np.expand_dims(X_test_top[i][:,:,0], axis=-1)), axis=-1) for i in range(X_test_top.shape[0])])\n",
    "# print(X_test_3d.shape)"
   ]
  },
  {
   "cell_type": "code",
   "execution_count": 236,
   "metadata": {},
   "outputs": [
    {
     "data": {
      "text/plain": [
       "<matplotlib.legend.Legend at 0x7f536c1d8f10>"
      ]
     },
     "execution_count": 236,
     "metadata": {},
     "output_type": "execute_result"
    },
    {
     "data": {
      "image/png": "[encoded data removed]",
      "text/plain": [
       "<Figure size 432x288 with 1 Axes>"
      ]
     },
     "metadata": {
      "needs_background": "light"
     },
     "output_type": "display_data"
    }
   ],
   "source": [
    "plt.hist(dock_score_train, alpha=0.5, label='train')\n",
    "plt.hist(dock_score_test,alpha=1, label='test')\n",
    "#plt.hist(scores,alpha=0.25, label='100k scores')\n",
    "plt.legend()"
   ]
  },
  {
   "cell_type": "code",
   "execution_count": 224,
   "metadata": {},
   "outputs": [],
   "source": [
    "def adapt_learning_rate(epoch):\n",
    "    return 1e-3 * epoch\n",
    "my_lr_scheduler = tf.keras.callbacks.LearningRateScheduler(adapt_learning_rate)"
   ]
  },
  {
   "cell_type": "code",
   "execution_count": 225,
   "metadata": {},
   "outputs": [],
   "source": [
    "def r2_keras(y_true, y_pred):\n",
    "    from tensorflow.keras import backend as K\n",
    "    SS_res =  K.sum(K.square(y_true - y_pred)) \n",
    "    SS_tot = K.sum(K.square(y_true - K.mean(y_true))) \n",
    "    return ( 1 - SS_res/(SS_tot + K.epsilon()) )"
   ]
  },
  {
   "cell_type": "code",
   "execution_count": 226,
   "metadata": {},
   "outputs": [],
   "source": [
    "# from tensorflow.keras.preprocessing.image import ImageDataGenerator\n",
    "# # applying transformation to image\n",
    "# train_gen = ImageDataGenerator(rotation_range=180)\n",
    "# test_gen = ImageDataGenerator()\n",
    "# training_set= train_gen.flow(X_train_3d, y_train_top, batch_size=64)\n",
    "# test_set= train_gen.flow(X_test_3d, y_test_top, batch_size=64)"
   ]
  },
  {
   "cell_type": "code",
   "execution_count": 244,
   "metadata": {
    "scrolled": false
   },
   "outputs": [
    {
     "name": "stdout",
     "output_type": "stream",
     "text": [
      "Model: \"sequential_7\"\n",
      "_________________________________________________________________\n",
      "Layer (type)                 Output Shape              Param #   \n",
      "=================================================================\n",
      "conv2d_21 (Conv2D)           (None, 59, 59, 8)         584       \n",
      "_________________________________________________________________\n",
      "conv2d_22 (Conv2D)           (None, 57, 57, 32)        2336      \n",
      "_________________________________________________________________\n",
      "conv2d_23 (Conv2D)           (None, 55, 55, 32)        9248      \n",
      "_________________________________________________________________\n",
      "max_pooling2d_7 (MaxPooling2 (None, 27, 27, 32)        0         \n",
      "_________________________________________________________________\n",
      "dropout_21 (Dropout)         (None, 27, 27, 32)        0         \n",
      "_________________________________________________________________\n",
      "flatten_7 (Flatten)          (None, 23328)             0         \n",
      "_________________________________________________________________\n",
      "dense_21 (Dense)             (None, 64)                1493056   \n",
      "_________________________________________________________________\n",
      "dropout_22 (Dropout)         (None, 64)                0         \n",
      "_________________________________________________________________\n",
      "dense_22 (Dense)             (None, 64)                4160      \n",
      "_________________________________________________________________\n",
      "dropout_23 (Dropout)         (None, 64)                0         \n",
      "_________________________________________________________________\n",
      "dense_23 (Dense)             (None, 1)                 65        \n",
      "=================================================================\n",
      "Total params: 1,509,449\n",
      "Trainable params: 1,509,449\n",
      "Non-trainable params: 0\n",
      "_________________________________________________________________\n",
      "None\n",
      "Train on 45000 samples, validate on 15000 samples\n",
      "Epoch 1/50\n",
      "45000/45000 [==============================] - 6s 141us/sample - loss: 0.0216 - mean_squared_error: 0.0216 - r2_keras: 0.4597 - val_loss: 0.0074 - val_mean_squared_error: 0.0074 - val_r2_keras: 0.8184\n",
      "Epoch 2/50\n",
      "45000/45000 [==============================] - 6s 130us/sample - loss: 0.0095 - mean_squared_error: 0.0095 - r2_keras: 0.7612 - val_loss: 0.0045 - val_mean_squared_error: 0.0045 - val_r2_keras: 0.8893\n",
      "Epoch 3/50\n",
      "45000/45000 [==============================] - 6s 134us/sample - loss: 0.0075 - mean_squared_error: 0.0075 - r2_keras: 0.8110 - val_loss: 0.0043 - val_mean_squared_error: 0.0043 - val_r2_keras: 0.8956\n",
      "Epoch 4/50\n",
      "45000/45000 [==============================] - 6s 130us/sample - loss: 0.0067 - mean_squared_error: 0.0067 - r2_keras: 0.8327 - val_loss: 0.0040 - val_mean_squared_error: 0.0040 - val_r2_keras: 0.9012\n",
      "Epoch 5/50\n",
      "45000/45000 [==============================] - 6s 134us/sample - loss: 0.0062 - mean_squared_error: 0.0062 - r2_keras: 0.8453 - val_loss: 0.0035 - val_mean_squared_error: 0.0035 - val_r2_keras: 0.9150\n",
      "Epoch 6/50\n",
      "45000/45000 [==============================] - 6s 132us/sample - loss: 0.0058 - mean_squared_error: 0.0058 - r2_keras: 0.8557 - val_loss: 0.0037 - val_mean_squared_error: 0.0037 - val_r2_keras: 0.9082\n",
      "Epoch 7/50\n",
      "45000/45000 [==============================] - 6s 137us/sample - loss: 0.0055 - mean_squared_error: 0.0055 - r2_keras: 0.8608 - val_loss: 0.0036 - val_mean_squared_error: 0.0036 - val_r2_keras: 0.9118\n",
      "Epoch 8/50\n",
      "45000/45000 [==============================] - 6s 137us/sample - loss: 0.0053 - mean_squared_error: 0.0053 - r2_keras: 0.8672 - val_loss: 0.0037 - val_mean_squared_error: 0.0037 - val_r2_keras: 0.9099\n",
      "Epoch 9/50\n",
      "45000/45000 [==============================] - 6s 133us/sample - loss: 0.0051 - mean_squared_error: 0.0051 - r2_keras: 0.8728 - val_loss: 0.0037 - val_mean_squared_error: 0.0037 - val_r2_keras: 0.9088\n",
      "Epoch 10/50\n",
      "45000/45000 [==============================] - 6s 134us/sample - loss: 0.0049 - mean_squared_error: 0.0049 - r2_keras: 0.8776 - val_loss: 0.0039 - val_mean_squared_error: 0.0039 - val_r2_keras: 0.9046\n",
      "Epoch 11/50\n",
      "45000/45000 [==============================] - 6s 134us/sample - loss: 0.0048 - mean_squared_error: 0.0048 - r2_keras: 0.8791 - val_loss: 0.0034 - val_mean_squared_error: 0.0034 - val_r2_keras: 0.9181\n",
      "Epoch 12/50\n",
      "45000/45000 [==============================] - 6s 131us/sample - loss: 0.0047 - mean_squared_error: 0.0047 - r2_keras: 0.8820 - val_loss: 0.0034 - val_mean_squared_error: 0.0034 - val_r2_keras: 0.9161\n",
      "Epoch 13/50\n",
      "45000/45000 [==============================] - 6s 137us/sample - loss: 0.0045 - mean_squared_error: 0.0045 - r2_keras: 0.8858 - val_loss: 0.0033 - val_mean_squared_error: 0.0033 - val_r2_keras: 0.9189\n",
      "Epoch 14/50\n",
      "45000/45000 [==============================] - 6s 136us/sample - loss: 0.0045 - mean_squared_error: 0.0045 - r2_keras: 0.8880 - val_loss: 0.0032 - val_mean_squared_error: 0.0032 - val_r2_keras: 0.9213\n",
      "Epoch 15/50\n",
      "45000/45000 [==============================] - 6s 136us/sample - loss: 0.0044 - mean_squared_error: 0.0044 - r2_keras: 0.8885 - val_loss: 0.0033 - val_mean_squared_error: 0.0033 - val_r2_keras: 0.9186\n",
      "Epoch 16/50\n",
      "45000/45000 [==============================] - 6s 136us/sample - loss: 0.0044 - mean_squared_error: 0.0044 - r2_keras: 0.8905 - val_loss: 0.0033 - val_mean_squared_error: 0.0033 - val_r2_keras: 0.9188\n",
      "Epoch 17/50\n",
      "45000/45000 [==============================] - 6s 136us/sample - loss: 0.0043 - mean_squared_error: 0.0043 - r2_keras: 0.8926 - val_loss: 0.0034 - val_mean_squared_error: 0.0034 - val_r2_keras: 0.9167\n",
      "Epoch 18/50\n",
      "45000/45000 [==============================] - 6s 130us/sample - loss: 0.0042 - mean_squared_error: 0.0042 - r2_keras: 0.8937 - val_loss: 0.0032 - val_mean_squared_error: 0.0032 - val_r2_keras: 0.9216\n",
      "Epoch 19/50\n",
      "45000/45000 [==============================] - 6s 123us/sample - loss: 0.0042 - mean_squared_error: 0.0042 - r2_keras: 0.8960 - val_loss: 0.0034 - val_mean_squared_error: 0.0034 - val_r2_keras: 0.9180\n",
      "Epoch 20/50\n",
      "45000/45000 [==============================] - 6s 125us/sample - loss: 0.0041 - mean_squared_error: 0.0041 - r2_keras: 0.8963 - val_loss: 0.0031 - val_mean_squared_error: 0.0031 - val_r2_keras: 0.9249\n",
      "Epoch 21/50\n",
      "45000/45000 [==============================] - 6s 134us/sample - loss: 0.0041 - mean_squared_error: 0.0041 - r2_keras: 0.8982 - val_loss: 0.0031 - val_mean_squared_error: 0.0031 - val_r2_keras: 0.9231\n",
      "Epoch 22/50\n",
      "45000/45000 [==============================] - 6s 129us/sample - loss: 0.0041 - mean_squared_error: 0.0041 - r2_keras: 0.8987 - val_loss: 0.0033 - val_mean_squared_error: 0.0033 - val_r2_keras: 0.9203\n",
      "Epoch 23/50\n",
      "45000/45000 [==============================] - 6s 136us/sample - loss: 0.0040 - mean_squared_error: 0.0040 - r2_keras: 0.8989 - val_loss: 0.0030 - val_mean_squared_error: 0.0030 - val_r2_keras: 0.9259\n",
      "Epoch 24/50\n",
      "45000/45000 [==============================] - 6s 135us/sample - loss: 0.0040 - mean_squared_error: 0.0040 - r2_keras: 0.9001 - val_loss: 0.0033 - val_mean_squared_error: 0.0033 - val_r2_keras: 0.9193\n",
      "Epoch 25/50\n",
      "45000/45000 [==============================] - 6s 134us/sample - loss: 0.0040 - mean_squared_error: 0.0040 - r2_keras: 0.9007 - val_loss: 0.0032 - val_mean_squared_error: 0.0032 - val_r2_keras: 0.9227\n",
      "Epoch 26/50\n",
      "45000/45000 [==============================] - 6s 133us/sample - loss: 0.0039 - mean_squared_error: 0.0039 - r2_keras: 0.9020 - val_loss: 0.0031 - val_mean_squared_error: 0.0031 - val_r2_keras: 0.9249\n",
      "Epoch 27/50\n",
      "45000/45000 [==============================] - 6s 127us/sample - loss: 0.0039 - mean_squared_error: 0.0039 - r2_keras: 0.9035 - val_loss: 0.0033 - val_mean_squared_error: 0.0033 - val_r2_keras: 0.9204\n",
      "Epoch 28/50\n",
      "45000/45000 [==============================] - 6s 135us/sample - loss: 0.0038 - mean_squared_error: 0.0038 - r2_keras: 0.9038 - val_loss: 0.0030 - val_mean_squared_error: 0.0030 - val_r2_keras: 0.9267\n",
      "Epoch 29/50\n",
      "45000/45000 [==============================] - 6s 134us/sample - loss: 0.0038 - mean_squared_error: 0.0038 - r2_keras: 0.9046 - val_loss: 0.0030 - val_mean_squared_error: 0.0030 - val_r2_keras: 0.9262\n",
      "Epoch 30/50\n",
      "45000/45000 [==============================] - 6s 135us/sample - loss: 0.0038 - mean_squared_error: 0.0038 - r2_keras: 0.9056 - val_loss: 0.0031 - val_mean_squared_error: 0.0031 - val_r2_keras: 0.9248\n"
     ]
    },
    {
     "name": "stdout",
     "output_type": "stream",
     "text": [
      "Epoch 31/50\n",
      "45000/45000 [==============================] - 6s 131us/sample - loss: 0.0038 - mean_squared_error: 0.0038 - r2_keras: 0.9057 - val_loss: 0.0031 - val_mean_squared_error: 0.0031 - val_r2_keras: 0.9253\n",
      "Epoch 32/50\n",
      "45000/45000 [==============================] - 6s 136us/sample - loss: 0.0037 - mean_squared_error: 0.0037 - r2_keras: 0.9073 - val_loss: 0.0031 - val_mean_squared_error: 0.0031 - val_r2_keras: 0.9246\n",
      "Epoch 33/50\n",
      "45000/45000 [==============================] - 6s 132us/sample - loss: 0.0037 - mean_squared_error: 0.0037 - r2_keras: 0.9066 - val_loss: 0.0034 - val_mean_squared_error: 0.0034 - val_r2_keras: 0.9172\n",
      "Epoch 34/50\n",
      "45000/45000 [==============================] - 6s 123us/sample - loss: 0.0036 - mean_squared_error: 0.0036 - r2_keras: 0.9087 - val_loss: 0.0031 - val_mean_squared_error: 0.0031 - val_r2_keras: 0.9234\n",
      "Epoch 35/50\n",
      "45000/45000 [==============================] - 6s 134us/sample - loss: 0.0037 - mean_squared_error: 0.0037 - r2_keras: 0.9080 - val_loss: 0.0031 - val_mean_squared_error: 0.0031 - val_r2_keras: 0.9251\n",
      "Epoch 36/50\n",
      "45000/45000 [==============================] - 6s 134us/sample - loss: 0.0036 - mean_squared_error: 0.0036 - r2_keras: 0.9104 - val_loss: 0.0031 - val_mean_squared_error: 0.0031 - val_r2_keras: 0.9251\n",
      "Epoch 37/50\n",
      "45000/45000 [==============================] - 6s 136us/sample - loss: 0.0036 - mean_squared_error: 0.0036 - r2_keras: 0.9102 - val_loss: 0.0030 - val_mean_squared_error: 0.0030 - val_r2_keras: 0.9271\n",
      "Epoch 38/50\n",
      "45000/45000 [==============================] - 6s 132us/sample - loss: 0.0036 - mean_squared_error: 0.0036 - r2_keras: 0.9110 - val_loss: 0.0032 - val_mean_squared_error: 0.0032 - val_r2_keras: 0.9226\n",
      "Epoch 39/50\n",
      "45000/45000 [==============================] - 6s 130us/sample - loss: 0.0035 - mean_squared_error: 0.0035 - r2_keras: 0.9114 - val_loss: 0.0031 - val_mean_squared_error: 0.0031 - val_r2_keras: 0.9234\n",
      "Epoch 40/50\n",
      "45000/45000 [==============================] - 6s 125us/sample - loss: 0.0035 - mean_squared_error: 0.0035 - r2_keras: 0.9117 - val_loss: 0.0031 - val_mean_squared_error: 0.0031 - val_r2_keras: 0.9251\n",
      "Epoch 41/50\n",
      "45000/45000 [==============================] - 6s 131us/sample - loss: 0.0035 - mean_squared_error: 0.0035 - r2_keras: 0.9128 - val_loss: 0.0031 - val_mean_squared_error: 0.0031 - val_r2_keras: 0.9244\n",
      "Epoch 42/50\n",
      "45000/45000 [==============================] - 6s 131us/sample - loss: 0.0035 - mean_squared_error: 0.0035 - r2_keras: 0.9130 - val_loss: 0.0032 - val_mean_squared_error: 0.0032 - val_r2_keras: 0.9210\n",
      "Epoch 43/50\n",
      "45000/45000 [==============================] - 6s 128us/sample - loss: 0.0035 - mean_squared_error: 0.0035 - r2_keras: 0.9127 - val_loss: 0.0034 - val_mean_squared_error: 0.0034 - val_r2_keras: 0.9179\n",
      "Epoch 44/50\n",
      "45000/45000 [==============================] - 6s 135us/sample - loss: 0.0034 - mean_squared_error: 0.0034 - r2_keras: 0.9133 - val_loss: 0.0033 - val_mean_squared_error: 0.0033 - val_r2_keras: 0.9196\n",
      "Epoch 45/50\n",
      "45000/45000 [==============================] - 6s 135us/sample - loss: 0.0034 - mean_squared_error: 0.0034 - r2_keras: 0.9148 - val_loss: 0.0032 - val_mean_squared_error: 0.0032 - val_r2_keras: 0.9216\n",
      "Epoch 46/50\n",
      "45000/45000 [==============================] - 6s 135us/sample - loss: 0.0034 - mean_squared_error: 0.0034 - r2_keras: 0.9148 - val_loss: 0.0033 - val_mean_squared_error: 0.0033 - val_r2_keras: 0.9203\n",
      "Epoch 47/50\n",
      "45000/45000 [==============================] - 6s 131us/sample - loss: 0.0034 - mean_squared_error: 0.0034 - r2_keras: 0.9146 - val_loss: 0.0032 - val_mean_squared_error: 0.0032 - val_r2_keras: 0.9229\n",
      "Epoch 48/50\n",
      "45000/45000 [==============================] - 6s 132us/sample - loss: 0.0034 - mean_squared_error: 0.0034 - r2_keras: 0.9154 - val_loss: 0.0031 - val_mean_squared_error: 0.0031 - val_r2_keras: 0.9236\n",
      "Epoch 49/50\n",
      "45000/45000 [==============================] - 6s 126us/sample - loss: 0.0033 - mean_squared_error: 0.0033 - r2_keras: 0.9162 - val_loss: 0.0034 - val_mean_squared_error: 0.0034 - val_r2_keras: 0.9181\n",
      "Epoch 50/50\n",
      "45000/45000 [==============================] - 6s 135us/sample - loss: 0.0033 - mean_squared_error: 0.0033 - r2_keras: 0.9164 - val_loss: 0.0032 - val_mean_squared_error: 0.0032 - val_r2_keras: 0.9221\n"
     ]
    }
   ],
   "source": [
    "dr = 0.1\n",
    "model = Sequential()\n",
    "model.add(Conv2D(8, kernel_size=(6, 6),\n",
    "                 activation='relu',\n",
    "                 input_shape=(64,64,2)))\n",
    "model.add(Conv2D(32, (3, 3), activation='relu'))\n",
    "model.add(Conv2D(32, (3, 3), activation='relu'))\n",
    "model.add(MaxPooling2D(pool_size=(2,2)))\n",
    "model.add(Dropout(dr))\n",
    "model.add(Flatten())\n",
    "# model.add(Dense(128, activation='relu'))\n",
    "# model.add(Dropout(dr))\n",
    "model.add(Dense(64, activation='relu'))\n",
    "model.add(Dropout(dr))\n",
    "model.add(Dense(64, activation='relu'))\n",
    "model.add(Dropout(dr))\n",
    "model.add(Dense(1))\n",
    "\n",
    "model.compile(loss=tf.keras.losses.mean_squared_error,\n",
    "              optimizer=tf.keras.optimizers.Adam(lr=5e-6),\n",
    "              metrics=['mean_squared_error', r2_keras])\n",
    "print(model.summary())\n",
    "history = model.fit(X_train_top, y_train_top['Chemgauss4'],\n",
    "          batch_size=64,\n",
    "          epochs=50,\n",
    "          verbose=1,\n",
    "          validation_data=(X_test_top, y_test_top['Chemgauss4']))"
   ]
  },
  {
   "cell_type": "code",
   "execution_count": 245,
   "metadata": {},
   "outputs": [
    {
     "data": {
      "image/png": "[encoded data removed]",
      "text/plain": [
       "<Figure size 432x288 with 1 Axes>"
      ]
     },
     "metadata": {
      "needs_background": "light"
     },
     "output_type": "display_data"
    },
    {
     "data": {
      "image/png": "[encoded data removed]",
      "text/plain": [
       "<Figure size 432x288 with 1 Axes>"
      ]
     },
     "metadata": {
      "needs_background": "light"
     },
     "output_type": "display_data"
    }
   ],
   "source": [
    "# Plot training & validation loss values\n",
    "plt.plot(history.history['r2_keras'])\n",
    "plt.plot(history.history['val_r2_keras'])\n",
    "plt.title('Model r2')\n",
    "plt.ylabel('r2')\n",
    "plt.xlabel('Epoch')\n",
    "plt.legend(['Train', 'Test'], loc='upper left')\n",
    "plt.show()\n",
    "\n",
    "plt.plot(history.history['loss'])\n",
    "plt.plot(history.history['val_loss'])\n",
    "plt.title('Model loss')\n",
    "plt.ylabel('Loss')\n",
    "\n",
    "plt.xlabel('Epoch')\n",
    "plt.legend(['Train', 'Test'], loc='upper left')\n",
    "plt.show()"
   ]
  },
  {
   "cell_type": "code",
   "execution_count": 246,
   "metadata": {},
   "outputs": [
    {
     "name": "stdout",
     "output_type": "stream",
     "text": [
      "0.9229512769683382\n"
     ]
    }
   ],
   "source": [
    "from sklearn.metrics import r2_score\n",
    "y_pred = model.predict(X_test_top)\n",
    "y_pred_inv = scaler.inverse_transform(y_pred)\n",
    "y_test_inv = scaler.inverse_transform(dock_score_test.reshape(-1,1))\n",
    "y_train_inv = scaler.inverse_transform(dock_score_train.reshape(-1,1))\n",
    "\n",
    "#print(r2_score(y_test_top, y_pred))\n",
    "print(r2_score(y_test_inv, y_pred_inv))"
   ]
  },
  {
   "cell_type": "code",
   "execution_count": 247,
   "metadata": {},
   "outputs": [
    {
     "name": "stdout",
     "output_type": "stream",
     "text": [
      "6960\n",
      "15.131067\n",
      "8757\n",
      "17.595382999999995\n"
     ]
    }
   ],
   "source": [
    "print(np.argmax(y_pred_inv))\n",
    "print(np.max(y_pred_inv))\n",
    "\n",
    "print(np.argmax(y_test_inv))\n",
    "print(np.max(y_test_inv))"
   ]
  },
  {
   "cell_type": "code",
   "execution_count": 250,
   "metadata": {},
   "outputs": [
    {
     "data": {
      "text/plain": [
       "Unnamed: 0                                                 1979\n",
       "SMILES        c1cc(c(cc1C(=O)[O-])[C@H]2c3cc(ccc3CC4([NH2+]2...\n",
       "TITLE                                                T2K-353497\n",
       "receptor                           april27/DNMT3A/DNMT3A_chainA\n",
       "Chemgauss4                                             0.586223\n",
       "Name: 1979, dtype: object"
      ]
     },
     "execution_count": 250,
     "metadata": {},
     "output_type": "execute_result"
    }
   ],
   "source": [
    "y_test_top.iloc[np.argmax(y_pred_inv)]"
   ]
  },
  {
   "cell_type": "code",
   "execution_count": 242,
   "metadata": {},
   "outputs": [
    {
     "data": {
      "text/plain": [
       "'c1cc2c(cc1Cl)[C@@H]([NH2+]C3(C2)CCN(CC3)c4c5cc[nH]c5ncn4)c6ccc(cc6O)Cl'"
      ]
     },
     "execution_count": 242,
     "metadata": {},
     "output_type": "execute_result"
    }
   ],
   "source": [
    "y_test_top.iloc[np.argmax(y_pred_inv)][\"SMILES\"]"
   ]
  },
  {
   "cell_type": "code",
   "execution_count": 249,
   "metadata": {},
   "outputs": [
    {
     "data": {
      "text/plain": [
       "'c1cc2c(cc[nH]2)c(c1)NC(=O)c3c[nH]nc3c4ccc(cc4)F'"
      ]
     },
     "execution_count": 249,
     "metadata": {},
     "output_type": "execute_result"
    }
   ],
   "source": [
    "y_test_top.iloc[np.argmax(y_test_inv)][\"SMILES\"]"
   ]
  },
  {
   "cell_type": "code",
   "execution_count": 243,
   "metadata": {},
   "outputs": [
    {
     "data": {
      "text/plain": [
       "'c1cc2c(cc[nH]2)c(c1)NC(=O)c3c[nH]nc3c4ccc(cc4)F'"
      ]
     },
     "execution_count": 243,
     "metadata": {},
     "output_type": "execute_result"
    }
   ],
   "source": [
    "y_test_top.iloc[np.argmax(y_test_inv)][\"SMILES\"]"
   ]
  },
  {
   "cell_type": "code",
   "execution_count": 171,
   "metadata": {},
   "outputs": [
    {
     "name": "stdout",
     "output_type": "stream",
     "text": [
      "(0.9651940131236157, 0.0)\n",
      "SpearmanrResult(correlation=0.938452273573127, pvalue=0.0)\n"
     ]
    }
   ],
   "source": [
    "from scipy.stats import pearsonr\n",
    "from scipy.stats import spearmanr\n",
    "print(pearsonr(y_test_inv.flatten(),y_pred_inv.flatten()))\n",
    "print(spearmanr(y_test_inv.flatten(),y_pred_inv.flatten()))\n",
    "# print(pearsonr(y_test_top.flatten(),y_pred.flatten()))\n",
    "# print(spearmanr(y_test_top.flatten(),y_pred.flatten()))"
   ]
  },
  {
   "cell_type": "code",
   "execution_count": 172,
   "metadata": {},
   "outputs": [
    {
     "name": "stdout",
     "output_type": "stream",
     "text": [
      "0.0028665663716548506\n",
      "0.0028665663716548506\n"
     ]
    }
   ],
   "source": [
    "from sklearn.metrics import mean_squared_error, mean_absolute_error\n",
    "print(mean_squared_error(y_test_top, y_pred))\n",
    "print(mean_squared_error(y_test_inv, y_pred_inv))"
   ]
  },
  {
   "cell_type": "code",
   "execution_count": 173,
   "metadata": {},
   "outputs": [
    {
     "data": {
      "image/png": "[encoded data removed]",
      "text/plain": [
       "<Figure size 432x288 with 1 Axes>"
      ]
     },
     "metadata": {
      "needs_background": "light"
     },
     "output_type": "display_data"
    }
   ],
   "source": [
    "# plt.hist(y_test_top, alpha=0.5, label=\"test\")\n",
    "# plt.hist(y_pred, alpha=0.5, label=\"pred\")\n",
    "# plt.show()\n",
    "plt.hist(y_test_inv, alpha=0.5, label=\"test\")\n",
    "#plt.show()\n",
    "plt.hist(y_pred_inv,alpha=0.5, label=\"pred\")\n",
    "plt.legend()\n",
    "plt.show()"
   ]
  },
  {
   "cell_type": "code",
   "execution_count": 174,
   "metadata": {},
   "outputs": [
    {
     "data": {
      "image/png": "[encoded data removed]",
      "text/plain": [
       "<Figure size 432x288 with 1 Axes>"
      ]
     },
     "metadata": {
      "needs_background": "light"
     },
     "output_type": "display_data"
    }
   ],
   "source": [
    "y_bottom = np.clip(-100, 0, y_bottom)\n",
    "y_bottom = np.abs(y_bottom)\n",
    "\n",
    "y_pred = model.predict(X_2d_bottom)\n",
    "y_pred_inv = scaler.inverse_transform(y_pred)\n",
    "\n",
    "plt.hist(y_bottom, alpha=0.5, label=\"test\")\n",
    "plt.hist(y_pred_inv,alpha=0.5, label=\"pred\")\n",
    "plt.legend()\n",
    "plt.show()\n",
    "\n",
    "# y_pred = model.predict(X_2d_bottom)\n",
    "# plt.hist(y_bottom, alpha=0.5, label=\"test\")\n",
    "# plt.hist(y_pred,alpha=0.5, label=\"pred\")\n",
    "# plt.legend()\n",
    "# plt.show()\n"
   ]
  },
  {
   "cell_type": "code",
   "execution_count": null,
   "metadata": {},
   "outputs": [],
   "source": []
  }
 ],
 "metadata": {
  "kernelspec": {
   "display_name": "Python 3",
   "language": "python",
   "name": "python3"
  },
  "language_info": {
   "codemirror_mode": {
    "name": "ipython",
    "version": 3
   },
   "file_extension": ".py",
   "mimetype": "text/x-python",
   "name": "python",
   "nbconvert_exporter": "python",
   "pygments_lexer": "ipython3",
   "version": "3.7.7"
  }
 },
 "nbformat": 4,
 "nbformat_minor": 4
}
