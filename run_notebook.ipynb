{
 "cells": [
  {
   "cell_type": "code",
   "execution_count": 1,
   "metadata": {},
   "outputs": [],
   "source": [
    "import mdtraj as md\n",
    "import numpy as np\n",
    "from pymol import cmd\n",
    "from pymol import stored\n",
    "import matplotlib.pyplot as plt\n",
    "import itertools\n",
    "import warnings\n",
    "import multiprocessing\n",
    "from tqdm import tqdm\n",
    "import cv2\n",
    "import os\n",
    "import warnings\n",
    "warnings.filterwarnings('ignore')\n",
    "import pickle\n",
    "import pandas as pd\n",
    "import glob"
   ]
  },
  {
   "cell_type": "code",
   "execution_count": 2,
   "metadata": {},
   "outputs": [],
   "source": [
    "import tensorflow as tf\n",
    "from tensorflow.keras.models import Sequential\n",
    "from tensorflow.keras.layers import Dense, Dropout, Flatten\n",
    "from tensorflow.keras.layers import Conv2D, MaxPooling2D, BatchNormalization\n",
    "import matplotlib.pyplot as plt\n",
    "from sklearn.preprocessing import MinMaxScaler, StandardScaler\n",
    "from sklearn.model_selection import train_test_split\n",
    "from scipy.stats import pearsonr\n",
    "from scipy.stats import spearmanr\n",
    "from sklearn.metrics import mean_squared_error, mean_absolute_error\n",
    "from sklearn.metrics import r2_score\n",
    "\n",
    "os.environ[\"CUDA_VISIBLE_DEVICES\"]=\"1\"\n"
   ]
  },
  {
   "cell_type": "code",
   "execution_count": 3,
   "metadata": {},
   "outputs": [],
   "source": [
    "from scipy import stats\n",
    "from sklearn.metrics import mean_absolute_error, r2_score, confusion_matrix, accuracy_score, precision_score, recall_score, roc_curve, auc\n",
    "from regression_enrichment_surface import regression_enrichment_surface as rds"
   ]
  },
  {
   "cell_type": "markdown",
   "metadata": {},
   "source": [
    "## Preprocessing"
   ]
  },
  {
   "cell_type": "code",
   "execution_count": 4,
   "metadata": {},
   "outputs": [],
   "source": [
    "def save_pocket(pdb, sdf, name):\n",
    "    cmd.reinitialize()\n",
    "    cmd.load(pdb)\n",
    "    cmd.load(sdf, \"LIG\")\n",
    "    cmd.select(\"POCK\",\"br. LIG around 4\")\n",
    "    stored.idx = 0\n",
    "    cmd.iterate(\"POCK and n. CA\", expression=\"stored.idx+=1\")\n",
    "    cmd.save(name, \"POCK\")\n",
    "    return stored.idx"
   ]
  },
  {
   "cell_type": "code",
   "execution_count": 5,
   "metadata": {},
   "outputs": [],
   "source": [
    "element_charge = {\"H\": +1, \"I\":-1,\n",
    "           \"N\": -3,\n",
    "           \"P\":-3,\n",
    "           \"C\": +4,\n",
    "           \"O\":-2,\n",
    "           \"F\": -1,\n",
    "           \"S\": -2,\n",
    "           \"Li\": +1,\n",
    "           \"Cl\": -1,\n",
    "           \"Br\": -1}\n",
    "element_radius = {\"H\": 1.20, \"I\": 1.98,\n",
    "           \"N\": 1.55 ,\n",
    "           \"P\":1.95,\n",
    "           \"C\": 1.70,\n",
    "           \"O\":1.52,\n",
    "           \"F\": 1.47,\n",
    "           \"S\":1.80,\n",
    "           \"Li\": 1.82,\n",
    "           \"Cl\": 1.75,\n",
    "           \"Br\": 1.85}\n",
    "aa_hscale = {\n",
    "\"ALA\":  0.620,\n",
    "\"ARG\": -2.530,\n",
    "\"ASN\": -0.780,\n",
    "\"ASP\": -0.900,\n",
    "\"CYS\":  0.290,\n",
    "\"GLN\": -0.850,\n",
    "\"GLU\": -0.740,\n",
    "\"GLY\":  0.480,\n",
    "\"HIS\": -0.400,\n",
    "\"ILE\":  1.380,\n",
    "\"LEU\":  1.060,\n",
    "\"LYS\": -1.500,\n",
    "\"MET\":  0.640,\n",
    "\"PHE\":  1.190,\n",
    "\"PRO\":  0.120,\n",
    "\"SER\": -0.180,\n",
    "\"THR\": -0.050,\n",
    "\"TRP\":  0.810,\n",
    "\"TYR\":  0.260,\n",
    "\"VAL\":  1.080}\n"
   ]
  },
  {
   "cell_type": "code",
   "execution_count": 6,
   "metadata": {},
   "outputs": [],
   "source": [
    "def get_coulomb(i,j,z_i,z_j,r):\n",
    "    if i==j:\n",
    "        return 0.5*z_i**2.4\n",
    "    else:\n",
    "        return z_i*z_j/r\n",
    "\n",
    "def get_e_map(t,sdf_state, pqr, grid, d_matrix):\n",
    "    pocket = list(t.topology.residues)\n",
    "    indices =  [int(str(residue)[3:]) for residue in t.topology.residues]\n",
    "    # open the pqr and iterate through lines\n",
    "    pqr = open(pqr)\n",
    "    lines = pqr.readlines()\n",
    "    data = []\n",
    "\n",
    "    # discard lines that do not have the residue number\n",
    "    for l in lines:\n",
    "        split = l.split(' ')\n",
    "        split = list(filter(lambda x: x != '', split))\n",
    "        if split[0] == 'TER':\n",
    "            break\n",
    "        res = split[4]\n",
    "        if int(res) in indices:\n",
    "            # collect all x,y,charge, radius values\n",
    "            data.append([float(split[5]), float(split[6]), float(split[8]), float(split[9])])\n",
    "    data = np.asarray(data)\n",
    "\n",
    "    # initialize 2D array\n",
    "    e_map = np.zeros([grid,grid])\n",
    "    \n",
    "    for i in range(e_map.shape[0]):\n",
    "        x_cell = (np.max(data[:,0]) - np.min(data[:,0]))/grid\n",
    "        y_cell = (np.max(data[:,1]) - np.min(data[:,1]))/grid\n",
    "        x_min = np.min(data[:,0])\n",
    "        y_min = np.min(data[:,1])\n",
    "        x_axis = [x_min+x_cell*i for i in range(grid)]\n",
    "        y_axis = [y_min+y_cell*j for j in range(grid)]\n",
    "\n",
    "        # place (x,y) from file into appropriate grid point\n",
    "        for val in range(data.shape[0]):\n",
    "            d = data[val]\n",
    "            x_value = d[0]\n",
    "            y_value=d[1]\n",
    "            charge = d[2]\n",
    "            radius = d[3]\n",
    "\n",
    "            # naive \"box\" charge instead of point charge\n",
    "            # also assuming constant charge rather than 1/r^2 drop off\n",
    "            i_min = (int)(np.floor((x_value-x_min-radius)/x_cell))\n",
    "            i_max = (int)(np.floor((x_value-x_min+radius)/x_cell))\n",
    "            j_min = (int)(np.floor((y_value-y_min-radius)/y_cell))\n",
    "            j_max = (int)(np.floor((y_value-y_min+radius)/y_cell))\n",
    "\n",
    "            if i_min <0:\n",
    "                i_min=0\n",
    "            if j_min <0:\n",
    "                j_min=0\n",
    "            if i_max>=grid:\n",
    "                i_max=grid-1\n",
    "            if j_max>=grid:\n",
    "                j_max=grid-1\n",
    "\n",
    "            if i_min>i_max:\n",
    "                print(\"smoething went wrot=ng\")\n",
    "                break\n",
    "            if j_min>j_max:\n",
    "                print(\"something went wrong\")\n",
    "\n",
    "            e_map[i_min:i_max,j_min:j_max] += charge\n",
    "        \n",
    "    # for each atom in the ligand add in ionic charge according to ionic radius\n",
    "    lines = sdf_state.split('\\n')\n",
    "    lig = find_end(lines[4:])\n",
    "    lig = list(filter(lambda x: 'H' not in x, lig))\n",
    "    l_map = np.zeros([grid,grid])\n",
    "\n",
    "    for l in lig:\n",
    "        split = l.split(' ')\n",
    "        split = list(filter(lambda x: x != '', split))\n",
    "        x_value = (float)(split[0])\n",
    "        y_value=(float)(split[1])\n",
    "        atom = split[3]\n",
    "        charge = element_charge[atom]\n",
    "        radius = element_radius[atom]\n",
    "\n",
    "        # naive \"box\" charge instead of point charge\n",
    "        # also assuming constant charge rather than 1/r^2 drop off\n",
    "        i_min = (int)(np.floor((x_value-x_min-radius)/x_cell))\n",
    "        i_max = (int)(np.floor((x_value-x_min+radius)/x_cell))\n",
    "        j_min = (int)(np.floor((y_value-y_min-radius)/y_cell))\n",
    "        j_max = (int)(np.floor((y_value-y_min+radius)/y_cell))\n",
    "\n",
    "        if i_min <0:\n",
    "            i_min=0\n",
    "        if j_min <0:\n",
    "            j_min=0\n",
    "        if i_max>=grid:\n",
    "            i_max=grid-1\n",
    "        if j_max>=grid:\n",
    "            j_max=grid-1\n",
    "\n",
    "        if i_min>i_max:\n",
    "            print(\"smoething went wrot=ng\")\n",
    "            break\n",
    "        if j_min>j_max:\n",
    "            print(\"something went wrong\")\n",
    "\n",
    "        l_map[i_min:i_max,j_min:j_max] += charge\n",
    "  \n",
    "    return e_map, l_map"
   ]
  },
  {
   "cell_type": "code",
   "execution_count": 7,
   "metadata": {},
   "outputs": [],
   "source": [
    "# convert files into list of strings\n",
    "# for the protein pdb and ligand sdf \n",
    "# (states are separated by $$$$)\n",
    "def stringify(sdf, pdb, num_states):\n",
    "    sdf_split = []\n",
    "    with open(sdf,'r') as f:\n",
    "        for key,group in itertools.groupby(f,lambda line: line.startswith('$$$$')):\n",
    "          if not key:\n",
    "            sdf_split.append(\"\".join(list(group)))\n",
    "          if len(sdf_split) == num_states:\n",
    "            break\n",
    "    \n",
    "#     with open(sdf,'r') as f:\n",
    "#         lines = f.readlines()\n",
    "#     lines = \"\".join(lines)\n",
    "#     test_split=lines.split(\"$$$$\")\n",
    "    \n",
    "#     correct=True\n",
    "#     for i,j in zip(test_split,sdf_split):\n",
    "#         correct = correct and i == j\n",
    "#         if i != j :\n",
    "#             print(i)\n",
    "#             print(j)\n",
    "#             return\n",
    "#     print(correct)\n",
    "#     return\n",
    "        \n",
    "    #sdf_split = sdf_split[-num_states:]\n",
    "    with open(pdb,'r') as f:\n",
    "        pdb_string = f.readlines()       \n",
    "    return sdf_split, \"\".join(pdb_string)\n",
    "\n",
    "def find_end(lines):\n",
    "    filtered_lines=[]\n",
    "    for l in lines:\n",
    "        split = l.split(' ')\n",
    "        split = list(filter(lambda x: x != '', split))\n",
    "        vals1 = (split[0])\n",
    "        \n",
    "        # stop when we get to the integers in the sdf\n",
    "        if vals1.isdigit():\n",
    "            return filtered_lines\n",
    "        filtered_lines.append(l)\n",
    "            \n",
    "def create_pdb(sdf, pdb_string,i):\n",
    "    lines = sdf.split('\\n')\n",
    "    #num_lines = (int)(lines[3].split(' ')[1])\n",
    "    \n",
    "    #lig = lines[4:4+num_lines-1]\n",
    "    lig = find_end(lines[4:])\n",
    "    lig = list(filter(lambda x: 'H' not in x, lig))\n",
    "    lig_pdb = list(map(create_line, lig, np.arange(1,len(lig)+1)))\n",
    "    f =  open(\"tmp{0}.pdb\".format(i), 'w+')\n",
    "    f.write(\"\\n\".join(lig_pdb))\n",
    "    f.write(\"\\n\")\n",
    "    f.write(pdb_string)\n",
    "    f.close()\n",
    "\n",
    "# Create one line in the new pdb file for one state\n",
    "# and the protein\n",
    "# Use the standardized pdb regex to create the correct string\n",
    "def create_line(line,i):\n",
    "    split = line.split(' ')\n",
    "    split = list(filter(lambda x: x != '', split))\n",
    "    vals1 = (float)(split[0])\n",
    "    vals2 = (float)(split[1])\n",
    "    vals3= (float)(split[2]) \n",
    "    atom = split[3]\n",
    "\n",
    "    # workaround to get the atoms in the ligand to be residues in mdtraj reader\n",
    "    if i >=10 :\n",
    "        new_string = \"{:6s}{:5d} {:^4s}{:1s}{:3s} {:1s}{:4d}{:1s}   {:8.3f}{:8.3f}{:8.3f}{:6.2f}{:6.2f}          {:>2s}{:2s}\".format(\"HETATM\",i,atom,'',\"U\"+str(i),'',0,'',vals1, vals2,vals3,0,0,atom,'')\n",
    "    else:\n",
    "        new_string = \"{:6s}{:5d} {:^4s}{:1s}{:3s} {:1s}{:4d}{:1s}   {:8.3f}{:8.3f}{:8.3f}{:6.2f}{:6.2f}          {:>2s}{:2s}\".format(\"HETATM\",i,atom,'',\"UN\"+str(i),'',0,'',vals1, vals2,vals3,0,0,atom,'')\n",
    "    return new_string\n",
    "\n",
    "# Create the data for ML model\n",
    "\n",
    "# First array is contact matrix\n",
    "# - ----------------| ligand atoms | protein residues\n",
    "# - ligand atoms    |              | \n",
    "# ------------------|--------------|-----------------\n",
    "# - protein residues|              |\n",
    "#\n",
    "# Second array is a mask for which cells correspond to ligand x ligand (-1), \n",
    "# protein x protein (1) and ligand x protein (0)\n",
    "#\n",
    "# Arrays are interpolated to 64x64\n",
    "def maker_w_strings(data):\n",
    "    i,sdf_state, num_residues, pdb = data\n",
    "    tmp_file = str(id(multiprocessing.current_process()))\n",
    "    create_pdb(sdf_state,pdb,tmp_file) # create the pdb for one states\n",
    "    \n",
    "    # Load the file into mdtraj\n",
    "    t = md.load(\"tmp{0}.pdb\".format(tmp_file))\n",
    "    pl = len(list(t.topology.residues))\n",
    "    resi = np.arange(pl)\n",
    "    pairs = list(itertools.product(resi, resi))\n",
    "    \n",
    "    # compute constacts\n",
    "    matrix, l = md.compute_contacts(t, contacts=pairs, scheme=\"closest-heavy\")\n",
    "    matrix = np.array(matrix).reshape((pl,pl))\n",
    "    \n",
    "    aa_matrix_h = np.zeros((pl, pl))\n",
    "    aa_matrix_v = np.zeros((pl, pl))\n",
    "    resi_list = list(t.topology.residues)\n",
    "    atom_list = list(t.topology.atoms)\n",
    "\n",
    "    for p in range(pl):\n",
    "        r = resi_list[p]\n",
    "        if not str(r).startswith('U'):\n",
    "            aa_matrix_v[:,p]=aa_hscale[r.name]\n",
    "            aa_matrix_h[p]=aa_hscale[r.name]\n",
    "        else:\n",
    "            a = atom_list[p]\n",
    "            aa_matrix_v[:,p] =element_charge[a.name]\n",
    "            aa_matrix_h[p]=element_charge[a.name]\n",
    "            \n",
    "    ### generate protein-ligand mask\n",
    "    mask = np.zeros((pl,pl))\n",
    "    for i in range(pl-num_residues):\n",
    "        for j in range(pl-num_residues):\n",
    "            # ligand\n",
    "            mask[i,j] = -1\n",
    "            \n",
    "    for i in range(pl - num_residues,pl):\n",
    "        for j in range( pl - num_residues,pl):\n",
    "            # protein\n",
    "            mask[i,j] = 1\n",
    "            \n",
    "    #e_map, l_map = get_e_map(t, sdf_state, \"mol.pqr\", 64, matrix)\n",
    "    \n",
    "    p_img = cv2.resize(matrix, dsize=(64, 64), interpolation=cv2.INTER_CUBIC).reshape(64,64,1)\n",
    "    m_img = cv2.resize(mask, dsize=(64, 64), interpolation=cv2.INTER_CUBIC).reshape(64,64,1)\n",
    "    #v_img = cv2.resize(aa_matrix_v, dsize=(64, 64), interpolation=cv2.INTER_CUBIC).reshape(64,64,1)\n",
    "    #h_img = cv2.resize(aa_matrix_h, dsize=(64, 64), interpolation=cv2.INTER_CUBIC).reshape(64,64,1)\n",
    "    \n",
    "\n",
    "    p_contact_matrix = np.concatenate([p_img, m_img], axis=-1)\n",
    "    os.remove(\"tmp{0}.pdb\".format(tmp_file))\n",
    "    return p_contact_matrix\n",
    "    "
   ]
  },
  {
   "cell_type": "code",
   "execution_count": 8,
   "metadata": {},
   "outputs": [
    {
     "name": "stdout",
     "output_type": "stream",
     "text": [
      " PyMOL not running, entering library mode (experimental)\n",
      "done creating pocket\n"
     ]
    },
    {
     "name": "stderr",
     "output_type": "stream",
     "text": [
      "100%|██████████| 50000/50000 [04:21<00:00, 191.19it/s]\n"
     ]
    }
   ],
   "source": [
    "maps=[]\n",
    "num_residues = save_pocket(\"april27/ADRP/ADRP_6W02_A_1_H.pdb\", \"april27/ADRP/adrp_adpr_A_cat_sorted_top100.sdf\", \"april27/ADRP/adrp_gen_pock.pdb\")\n",
    "print(\"done creating pocket\")\n",
    "s, pdb_string = stringify(\"april27/ADRP/adrp_adpr_A_cat_sorted.sdf\", \"april27/ADRP/adrp_gen_pock.pdb\", 50000)\n",
    "pdb_string = [pdb_string for x in range(len(s))]\n",
    "\n",
    "with multiprocessing.Pool(32) as p:\n",
    "    num_states = len(s)\n",
    "    data = list(zip(range(num_states), s, num_residues*np.ones(num_states,dtype=int), pdb_string))\n",
    "    itern = p.imap(maker_w_strings, data)\n",
    "    for i,p_contact_matrix in enumerate(tqdm(itern, total=num_states)):\n",
    "        maps.append(p_contact_matrix)\n",
    "p.close()\n",
    "p.join()"
   ]
  },
  {
   "cell_type": "code",
   "execution_count": 9,
   "metadata": {},
   "outputs": [
    {
     "data": {
      "text/plain": [
       "<matplotlib.colorbar.Colorbar at 0x7f428a024f90>"
      ]
     },
     "execution_count": 9,
     "metadata": {},
     "output_type": "execute_result"
    },
    {
     "data": {
      "image/png": "[encoded data removed]",
      "text/plain": [
       "<Figure size 432x288 with 2 Axes>"
      ]
     },
     "metadata": {
      "needs_background": "light"
     },
     "output_type": "display_data"
    }
   ],
   "source": [
    "plt.imshow(maps[0][:,:,0])\n",
    "plt.colorbar()"
   ]
  },
  {
   "cell_type": "markdown",
   "metadata": {},
   "source": [
    "## ADRP"
   ]
  },
  {
   "cell_type": "code",
   "execution_count": 15,
   "metadata": {},
   "outputs": [
    {
     "name": "stdout",
     "output_type": "stream",
     "text": [
      "(50000, 64, 64, 2)\n"
     ]
    }
   ],
   "source": [
    "images_adrp = np.stack(maps,axis=0)\n",
    "print(images_adrp.shape)"
   ]
  },
  {
   "cell_type": "code",
   "execution_count": 17,
   "metadata": {},
   "outputs": [],
   "source": [
    "#df_adrp = pd.read_csv(\"rescore_top10k.csv\")\n",
    "df_adrp = pd.read_csv(\"april27/ADRP/adrp_adpr_A_cat_sorted.csv\").iloc[0:50000]\n",
    "docks = df_adrp[\"Chemgauss4\"].values\n",
    "scaler = MinMaxScaler()\n",
    "docks = scaler.fit_transform(docks.reshape(-1,1))"
   ]
  },
  {
   "cell_type": "code",
   "execution_count": 18,
   "metadata": {},
   "outputs": [],
   "source": [
    "def r2_keras(y_true, y_pred):\n",
    "    from tensorflow.keras import backend as K\n",
    "    SS_res =  K.sum(K.square(y_true - y_pred)) \n",
    "    SS_tot = K.sum(K.square(y_true - K.mean(y_true))) \n",
    "    return ( 1 - SS_res/(SS_tot + K.epsilon()) )"
   ]
  },
  {
   "cell_type": "code",
   "execution_count": 23,
   "metadata": {},
   "outputs": [
    {
     "data": {
      "image/png": "[encoded data removed]",
      "text/plain": [
       "<Figure size 432x288 with 1 Axes>"
      ]
     },
     "metadata": {
      "needs_background": "light"
     },
     "output_type": "display_data"
    },
    {
     "name": "stdout",
     "output_type": "stream",
     "text": [
      "Model: \"sequential_4\"\n",
      "_________________________________________________________________\n",
      "Layer (type)                 Output Shape              Param #   \n",
      "=================================================================\n",
      "conv2d_20 (Conv2D)           (None, 63, 63, 3)         27        \n",
      "_________________________________________________________________\n",
      "conv2d_21 (Conv2D)           (None, 61, 61, 32)        896       \n",
      "_________________________________________________________________\n",
      "conv2d_22 (Conv2D)           (None, 59, 59, 32)        9248      \n",
      "_________________________________________________________________\n",
      "max_pooling2d_4 (MaxPooling2 (None, 29, 29, 32)        0         \n",
      "_________________________________________________________________\n",
      "dropout_8 (Dropout)          (None, 29, 29, 32)        0         \n",
      "_________________________________________________________________\n",
      "flatten_4 (Flatten)          (None, 26912)             0         \n",
      "_________________________________________________________________\n",
      "dropout_9 (Dropout)          (None, 26912)             0         \n",
      "_________________________________________________________________\n",
      "dense_8 (Dense)              (None, 64)                1722432   \n",
      "_________________________________________________________________\n",
      "dense_9 (Dense)              (None, 1)                 65        \n",
      "=================================================================\n",
      "Total params: 1,732,668\n",
      "Trainable params: 1,732,668\n",
      "Non-trainable params: 0\n",
      "_________________________________________________________________\n",
      "None\n",
      "Train on 7500 samples, validate on 2500 samples\n",
      "Epoch 1/50\n",
      "7500/7500 [==============================] - 1s 193us/sample - loss: 0.0349 - mean_squared_error: 0.0349 - r2_keras: -3.1436 - val_loss: 0.0102 - val_mean_squared_error: 0.0102 - val_r2_keras: -0.1478\n",
      "Epoch 2/50\n",
      "7500/7500 [==============================] - 1s 115us/sample - loss: 0.0105 - mean_squared_error: 0.0105 - r2_keras: -0.0621 - val_loss: 0.0096 - val_mean_squared_error: 0.0096 - val_r2_keras: -0.0741\n",
      "Epoch 3/50\n",
      "7500/7500 [==============================] - 1s 116us/sample - loss: 0.0103 - mean_squared_error: 0.0103 - r2_keras: -0.0435 - val_loss: 0.0092 - val_mean_squared_error: 0.0092 - val_r2_keras: -0.0181\n",
      "Epoch 4/50\n",
      "7500/7500 [==============================] - 1s 120us/sample - loss: 0.0100 - mean_squared_error: 0.0100 - r2_keras: -0.0179 - val_loss: 0.0090 - val_mean_squared_error: 0.0090 - val_r2_keras: -0.0053\n",
      "Epoch 5/50\n",
      "7500/7500 [==============================] - 1s 114us/sample - loss: 0.0098 - mean_squared_error: 0.0098 - r2_keras: -0.0063 - val_loss: 0.0088 - val_mean_squared_error: 0.0088 - val_r2_keras: 0.0307\n",
      "Epoch 6/50\n",
      "7500/7500 [==============================] - 1s 120us/sample - loss: 0.0095 - mean_squared_error: 0.0095 - r2_keras: 0.0301 - val_loss: 0.0091 - val_mean_squared_error: 0.0091 - val_r2_keras: -0.0165\n",
      "Epoch 7/50\n",
      "7500/7500 [==============================] - 1s 120us/sample - loss: 0.0096 - mean_squared_error: 0.0096 - r2_keras: 0.0265 - val_loss: 0.0086 - val_mean_squared_error: 0.0086 - val_r2_keras: 0.0507\n",
      "Epoch 8/50\n",
      "7500/7500 [==============================] - 1s 122us/sample - loss: 0.0092 - mean_squared_error: 0.0092 - r2_keras: 0.0507 - val_loss: 0.0086 - val_mean_squared_error: 0.0086 - val_r2_keras: 0.0489\n",
      "Epoch 9/50\n",
      "7500/7500 [==============================] - 1s 120us/sample - loss: 0.0092 - mean_squared_error: 0.0092 - r2_keras: 0.0363 - val_loss: 0.0086 - val_mean_squared_error: 0.0086 - val_r2_keras: 0.0431\n",
      "Epoch 10/50\n",
      "7500/7500 [==============================] - 1s 121us/sample - loss: 0.0091 - mean_squared_error: 0.0091 - r2_keras: 0.0584 - val_loss: 0.0085 - val_mean_squared_error: 0.0085 - val_r2_keras: 0.0676\n",
      "Epoch 11/50\n",
      "7500/7500 [==============================] - 1s 120us/sample - loss: 0.0091 - mean_squared_error: 0.0091 - r2_keras: 0.0609 - val_loss: 0.0097 - val_mean_squared_error: 0.0097 - val_r2_keras: -0.0966\n",
      "Epoch 12/50\n",
      "7500/7500 [==============================] - 1s 116us/sample - loss: 0.0089 - mean_squared_error: 0.0089 - r2_keras: 0.0925 - val_loss: 0.0085 - val_mean_squared_error: 0.0085 - val_r2_keras: 0.0628\n",
      "Epoch 13/50\n",
      "7500/7500 [==============================] - 1s 120us/sample - loss: 0.0089 - mean_squared_error: 0.0089 - r2_keras: 0.0907 - val_loss: 0.0088 - val_mean_squared_error: 0.0088 - val_r2_keras: 0.0099\n",
      "Epoch 14/50\n",
      "7500/7500 [==============================] - 1s 121us/sample - loss: 0.0087 - mean_squared_error: 0.0087 - r2_keras: 0.1037 - val_loss: 0.0084 - val_mean_squared_error: 0.0084 - val_r2_keras: 0.0693\n",
      "Epoch 15/50\n",
      "7500/7500 [==============================] - 1s 123us/sample - loss: 0.0087 - mean_squared_error: 0.0087 - r2_keras: 0.1031 - val_loss: 0.0083 - val_mean_squared_error: 0.0083 - val_r2_keras: 0.0796\n",
      "Epoch 16/50\n",
      "7500/7500 [==============================] - 1s 123us/sample - loss: 0.0086 - mean_squared_error: 0.0086 - r2_keras: 0.1020 - val_loss: 0.0084 - val_mean_squared_error: 0.0084 - val_r2_keras: 0.0615\n",
      "Epoch 17/50\n",
      "7500/7500 [==============================] - 1s 118us/sample - loss: 0.0086 - mean_squared_error: 0.0086 - r2_keras: 0.1133 - val_loss: 0.0083 - val_mean_squared_error: 0.0083 - val_r2_keras: 0.0853\n",
      "Epoch 18/50\n",
      "7500/7500 [==============================] - 1s 117us/sample - loss: 0.0084 - mean_squared_error: 0.0084 - r2_keras: 0.1366 - val_loss: 0.0086 - val_mean_squared_error: 0.0086 - val_r2_keras: 0.0427\n",
      "Epoch 19/50\n",
      "7500/7500 [==============================] - 1s 120us/sample - loss: 0.0084 - mean_squared_error: 0.0084 - r2_keras: 0.1439 - val_loss: 0.0084 - val_mean_squared_error: 0.0084 - val_r2_keras: 0.0796\n",
      "Epoch 20/50\n",
      "7500/7500 [==============================] - 1s 126us/sample - loss: 0.0083 - mean_squared_error: 0.0083 - r2_keras: 0.1394 - val_loss: 0.0083 - val_mean_squared_error: 0.0083 - val_r2_keras: 0.0847\n",
      "Epoch 21/50\n",
      "7500/7500 [==============================] - 1s 119us/sample - loss: 0.0083 - mean_squared_error: 0.0083 - r2_keras: 0.1479 - val_loss: 0.0087 - val_mean_squared_error: 0.0087 - val_r2_keras: 0.0244\n",
      "Epoch 22/50\n",
      "7500/7500 [==============================] - 1s 124us/sample - loss: 0.0082 - mean_squared_error: 0.0082 - r2_keras: 0.1566 - val_loss: 0.0083 - val_mean_squared_error: 0.0083 - val_r2_keras: 0.0811\n",
      "Epoch 23/50\n",
      "7500/7500 [==============================] - 1s 119us/sample - loss: 0.0080 - mean_squared_error: 0.0080 - r2_keras: 0.1910 - val_loss: 0.0083 - val_mean_squared_error: 0.0083 - val_r2_keras: 0.0829\n",
      "Epoch 24/50\n",
      "7500/7500 [==============================] - 1s 115us/sample - loss: 0.0080 - mean_squared_error: 0.0080 - r2_keras: 0.1740 - val_loss: 0.0084 - val_mean_squared_error: 0.0084 - val_r2_keras: 0.0743\n",
      "Epoch 25/50\n",
      "7500/7500 [==============================] - 1s 118us/sample - loss: 0.0079 - mean_squared_error: 0.0079 - r2_keras: 0.1799 - val_loss: 0.0084 - val_mean_squared_error: 0.0084 - val_r2_keras: 0.0812\n",
      "Epoch 26/50\n",
      "7500/7500 [==============================] - 1s 122us/sample - loss: 0.0079 - mean_squared_error: 0.0079 - r2_keras: 0.1953 - val_loss: 0.0084 - val_mean_squared_error: 0.0084 - val_r2_keras: 0.0796\n",
      "Epoch 27/50\n",
      "7500/7500 [==============================] - 1s 126us/sample - loss: 0.0078 - mean_squared_error: 0.0078 - r2_keras: 0.2035 - val_loss: 0.0083 - val_mean_squared_error: 0.0083 - val_r2_keras: 0.0871\n",
      "Epoch 28/50\n",
      "7500/7500 [==============================] - 1s 125us/sample - loss: 0.0077 - mean_squared_error: 0.0077 - r2_keras: 0.2043 - val_loss: 0.0086 - val_mean_squared_error: 0.0086 - val_r2_keras: 0.0579\n",
      "Epoch 29/50\n",
      "7500/7500 [==============================] - 1s 116us/sample - loss: 0.0079 - mean_squared_error: 0.0079 - r2_keras: 0.1933 - val_loss: 0.0104 - val_mean_squared_error: 0.0104 - val_r2_keras: -0.1459\n",
      "Epoch 30/50\n",
      "7500/7500 [==============================] - 1s 119us/sample - loss: 0.0076 - mean_squared_error: 0.0076 - r2_keras: 0.2090 - val_loss: 0.0083 - val_mean_squared_error: 0.0083 - val_r2_keras: 0.0843\n",
      "Epoch 31/50\n",
      "7500/7500 [==============================] - 1s 121us/sample - loss: 0.0076 - mean_squared_error: 0.0076 - r2_keras: 0.2121 - val_loss: 0.0084 - val_mean_squared_error: 0.0084 - val_r2_keras: 0.0657\n",
      "Epoch 32/50\n"
     ]
    },
    {
     "name": "stdout",
     "output_type": "stream",
     "text": [
      "7500/7500 [==============================] - 1s 118us/sample - loss: 0.0074 - mean_squared_error: 0.0074 - r2_keras: 0.2298 - val_loss: 0.0083 - val_mean_squared_error: 0.0083 - val_r2_keras: 0.0735\n",
      "Epoch 33/50\n",
      "7500/7500 [==============================] - 1s 121us/sample - loss: 0.0075 - mean_squared_error: 0.0075 - r2_keras: 0.2323 - val_loss: 0.0083 - val_mean_squared_error: 0.0083 - val_r2_keras: 0.0811\n",
      "Epoch 34/50\n",
      "7500/7500 [==============================] - 1s 121us/sample - loss: 0.0074 - mean_squared_error: 0.0074 - r2_keras: 0.2341 - val_loss: 0.0084 - val_mean_squared_error: 0.0084 - val_r2_keras: 0.0734\n",
      "Epoch 35/50\n",
      "7500/7500 [==============================] - 1s 126us/sample - loss: 0.0074 - mean_squared_error: 0.0074 - r2_keras: 0.2393 - val_loss: 0.0087 - val_mean_squared_error: 0.0087 - val_r2_keras: 0.0181\n",
      "Epoch 36/50\n",
      "7500/7500 [==============================] - 1s 121us/sample - loss: 0.0072 - mean_squared_error: 0.0072 - r2_keras: 0.2483 - val_loss: 0.0090 - val_mean_squared_error: 0.0090 - val_r2_keras: 0.0158\n",
      "Epoch 37/50\n",
      "7500/7500 [==============================] - 1s 125us/sample - loss: 0.0073 - mean_squared_error: 0.0073 - r2_keras: 0.2538 - val_loss: 0.0084 - val_mean_squared_error: 0.0084 - val_r2_keras: 0.0727\n",
      "Epoch 38/50\n",
      "7500/7500 [==============================] - 1s 119us/sample - loss: 0.0071 - mean_squared_error: 0.0071 - r2_keras: 0.2630 - val_loss: 0.0086 - val_mean_squared_error: 0.0086 - val_r2_keras: 0.0568\n",
      "Epoch 39/50\n",
      "7500/7500 [==============================] - 1s 117us/sample - loss: 0.0070 - mean_squared_error: 0.0070 - r2_keras: 0.2820 - val_loss: 0.0091 - val_mean_squared_error: 0.0091 - val_r2_keras: -0.0254\n",
      "Epoch 40/50\n",
      "7500/7500 [==============================] - 1s 119us/sample - loss: 0.0070 - mean_squared_error: 0.0070 - r2_keras: 0.2799 - val_loss: 0.0088 - val_mean_squared_error: 0.0088 - val_r2_keras: 0.0061\n",
      "Epoch 41/50\n",
      "7500/7500 [==============================] - 1s 120us/sample - loss: 0.0069 - mean_squared_error: 0.0069 - r2_keras: 0.2949 - val_loss: 0.0084 - val_mean_squared_error: 0.0084 - val_r2_keras: 0.0704\n",
      "Epoch 42/50\n",
      "7500/7500 [==============================] - 1s 119us/sample - loss: 0.0071 - mean_squared_error: 0.0071 - r2_keras: 0.2717 - val_loss: 0.0093 - val_mean_squared_error: 0.0093 - val_r2_keras: -0.0653\n",
      "Epoch 43/50\n",
      "7500/7500 [==============================] - 1s 116us/sample - loss: 0.0068 - mean_squared_error: 0.0068 - r2_keras: 0.2951 - val_loss: 0.0086 - val_mean_squared_error: 0.0086 - val_r2_keras: 0.0386\n",
      "Epoch 44/50\n",
      "7500/7500 [==============================] - 1s 120us/sample - loss: 0.0068 - mean_squared_error: 0.0068 - r2_keras: 0.3064 - val_loss: 0.0085 - val_mean_squared_error: 0.0085 - val_r2_keras: 0.0587\n",
      "Epoch 45/50\n",
      "7500/7500 [==============================] - 1s 119us/sample - loss: 0.0067 - mean_squared_error: 0.0067 - r2_keras: 0.3139 - val_loss: 0.0085 - val_mean_squared_error: 0.0085 - val_r2_keras: 0.0519\n",
      "Epoch 46/50\n",
      "7500/7500 [==============================] - 1s 121us/sample - loss: 0.0068 - mean_squared_error: 0.0068 - r2_keras: 0.3009 - val_loss: 0.0085 - val_mean_squared_error: 0.0085 - val_r2_keras: 0.0429\n",
      "Epoch 47/50\n",
      "7500/7500 [==============================] - 1s 124us/sample - loss: 0.0066 - mean_squared_error: 0.0066 - r2_keras: 0.3181 - val_loss: 0.0085 - val_mean_squared_error: 0.0085 - val_r2_keras: 0.0629\n",
      "Epoch 48/50\n",
      "7500/7500 [==============================] - 1s 127us/sample - loss: 0.0065 - mean_squared_error: 0.0065 - r2_keras: 0.3221 - val_loss: 0.0084 - val_mean_squared_error: 0.0084 - val_r2_keras: 0.0655\n",
      "Epoch 49/50\n",
      "7500/7500 [==============================] - 1s 122us/sample - loss: 0.0065 - mean_squared_error: 0.0065 - r2_keras: 0.3293 - val_loss: 0.0086 - val_mean_squared_error: 0.0086 - val_r2_keras: 0.0387\n",
      "Epoch 50/50\n",
      "7500/7500 [==============================] - 1s 121us/sample - loss: 0.0064 - mean_squared_error: 0.0064 - r2_keras: 0.3346 - val_loss: 0.0087 - val_mean_squared_error: 0.0087 - val_r2_keras: 0.0458\n"
     ]
    },
    {
     "data": {
      "image/png": "[encoded data removed]",
      "text/plain": [
       "<Figure size 432x288 with 1 Axes>"
      ]
     },
     "metadata": {
      "needs_background": "light"
     },
     "output_type": "display_data"
    },
    {
     "data": {
      "image/png": "[encoded data removed]",
      "text/plain": [
       "<Figure size 432x288 with 1 Axes>"
      ]
     },
     "metadata": {
      "needs_background": "light"
     },
     "output_type": "display_data"
    },
    {
     "name": "stdout",
     "output_type": "stream",
     "text": [
      "r2 0.06732281047330246\n",
      "pearson (0.32824364592143274, 7.029108124976533e-64)\n",
      "spearman SpearmanrResult(correlation=0.24467832570783574, pvalue=2.11335294229492e-35)\n",
      "MSE actual 0.2737980566233692\n"
     ]
    },
    {
     "data": {
      "image/png": "[encoded data removed]",
      "text/plain": [
       "<Figure size 432x288 with 1 Axes>"
      ]
     },
     "metadata": {
      "needs_background": "light"
     },
     "output_type": "display_data"
    }
   ],
   "source": [
    "X_train, X_test, y_train, y_test = train_test_split(images_adrp[0:10000], docks[0:10000], test_size=0.25,\n",
    "                                                         shuffle=True)        \n",
    "\n",
    "# plot train/test split\n",
    "plt.hist(y_train, alpha=0.5, label='train')\n",
    "plt.hist(y_test,alpha=1, label='test')\n",
    "plt.legend()\n",
    "plt.show()\n",
    "\n",
    "# model stuff\n",
    "dr = 0.1\n",
    "model = Sequential()\n",
    "model.add(Conv2D(3, kernel_size=(2, 2),\n",
    "                 activation='relu',\n",
    "                 input_shape=(64,64,2)))\n",
    "model.add(Conv2D(32, (3, 3), activation='relu'))\n",
    "model.add(Conv2D(32, (3, 3), activation='relu'))\n",
    "model.add(MaxPooling2D(pool_size=(2,2)))\n",
    "model.add(Dropout(dr))\n",
    "model.add(Flatten())\n",
    "#     model.add(Dense(128, activation='relu'))\n",
    "#     model.add(Dense(64, activation='relu'))\n",
    "model.add(Dropout(dr))\n",
    "model.add(Dense(64, activation='relu'))\n",
    "# model.add(Dropout(dr))\n",
    "model.add(Dense(1))\n",
    "\n",
    "model.compile(loss=tf.keras.losses.mean_squared_error,\n",
    "              optimizer=tf.keras.optimizers.Adam(lr=5e-5),\n",
    "              metrics=['mean_squared_error', r2_keras])\n",
    "print(model.summary())\n",
    "history = model.fit(X_train, y_train,\n",
    "          batch_size=64,\n",
    "          epochs=50,\n",
    "          verbose=1,\n",
    "          validation_data=(X_test, y_test))\n",
    "\n",
    "# Plot training & validation loss values\n",
    "plt.plot(history.history['r2_keras'])\n",
    "plt.plot(history.history['val_r2_keras'])\n",
    "plt.title('adrp r2 ')\n",
    "plt.ylabel('r2')\n",
    "plt.xlabel('Epoch')\n",
    "plt.legend(['Train', 'Test'], loc='upper left')\n",
    "plt.show()\n",
    "\n",
    "plt.plot(history.history['loss'])\n",
    "plt.plot(history.history['val_loss'])\n",
    "plt.title('adrp loss ')\n",
    "plt.ylabel('mse')\n",
    "\n",
    "plt.xlabel('Epoch')\n",
    "plt.legend(['Train', 'Test'], loc='upper left')\n",
    "plt.show()\n",
    "\n",
    "y_pred = model.predict(X_test)\n",
    "y_pred_inv = scaler.inverse_transform(y_pred)\n",
    "y_test_inv = scaler.inverse_transform(y_test.reshape(-1,1))\n",
    "\n",
    "print(\"r2\", r2_score(y_test_inv, y_pred_inv))\n",
    "print(\"pearson\", pearsonr(y_test_inv.flatten(),y_pred_inv.flatten()))\n",
    "print(\"spearman\", spearmanr(y_test_inv.flatten(),y_pred_inv.flatten()))\n",
    "print(\"MSE actual\", mean_squared_error(y_test_inv, y_pred_inv))\n",
    "\n",
    "plt.hist(y_test_inv, alpha=0.5, label=\"test\")\n",
    "plt.hist(y_pred_inv,alpha=0.5, label=\"pred\")\n",
    "plt.legend()\n",
    "plt.show()"
   ]
  },
  {
   "cell_type": "markdown",
   "metadata": {},
   "source": [
    "## Multi-protein"
   ]
  },
  {
   "cell_type": "code",
   "execution_count": 8,
   "metadata": {},
   "outputs": [
    {
     "name": "stdout",
     "output_type": "stream",
     "text": [
      "./april27/PLPro/2/plpro_2.high.matrices.npy ./april27/PLPro/2/plpro_2.scores\n",
      "./april27/PLPro/1/plpro_1.high.matrices.npy ./april27/PLPro/1/plpro_1.scores\n",
      "./april27/NSP15_6w01/2/NSP15_2_6w01.high.matrices.npy ./april27/NSP15_6w01/2/NSP15_2_6w01.scores\n",
      "./april27/NSP15_6w01/1/NSP15_1_6w01.high.matrices.npy ./april27/NSP15_6w01/1/NSP15_1_6w01.scores\n",
      "./april27/NSP15_6vww/1/NSP15_1_6vww.high.matrices.npy ./april27/NSP15_6vww/1/NSP15_1_6vww.scores\n",
      "./april27/NSP15_6vww/2/NSP15_2_6vww.high.matrices.npy ./april27/NSP15_6vww/2/NSP15_2_6vww.scores\n",
      "./april27/3CLPro/1/3CLPro_1.high.matrices.npy ./april27/3CLPro/1/3CLPro_1.scores\n",
      "./april27/3CLPro/2/3CLPro_2.high.matrices.npy ./april27/3CLPro/2/3CLPro_2.scores\n",
      "./april27/3CLPro/3/3CLPro_3.high.matrices.npy ./april27/3CLPro/3/3CLPro_3.scores\n",
      "./april27/ADRP/ADRP_6W02_A_1_H.high.matrices.npy ./april27/ADRP/ADRP_6W02_A_1_H.scores\n",
      "./april27/DNMT3A/DNMT3A_chainA.high.matrices.npy ./april27/DNMT3A/DNMT3A_chainA.scores\n",
      "./april27/NSUN2/NSUN2_model.high.matrices.npy ./april27/NSUN2/NSUN2_model.scores\n"
     ]
    }
   ],
   "source": [
    "data_images =[]\n",
    "data_scores = []\n",
    "data_images_bottom =[]\n",
    "data_scores_bottom = []\n",
    "files_m = glob.glob('./**/*high.matrices.npy', recursive=True)\n",
    "files_s = glob.glob('./**/*.scores', recursive=True)\n",
    "for m,s in zip(files_m, files_s):\n",
    "    print(m,s)\n",
    "#     if \"bottom\" not in m:\n",
    "    data_images.append(np.load(m)[0:5000])\n",
    "    data_scores.append(pd.read_csv(s).iloc[0:5000])\n",
    "#     else:\n",
    "#     data_images_bottom.append(np.load(m)[-5000:])\n",
    "#     data_scores_bottom.append(pd.read_csv(s).iloc[-5000:])\n",
    "    "
   ]
  },
  {
   "cell_type": "code",
   "execution_count": 9,
   "metadata": {},
   "outputs": [],
   "source": [
    "X = np.vstack(data_images)\n",
    "y = pd.concat(data_scores)"
   ]
  },
  {
   "cell_type": "code",
   "execution_count": 10,
   "metadata": {},
   "outputs": [
    {
     "data": {
      "text/plain": [
       "Text(0.5, -0.1, 'test')"
      ]
     },
     "execution_count": 10,
     "metadata": {},
     "output_type": "execute_result"
    },
    {
     "data": {
      "image/png": "[encoded data removed]",
      "text/plain": [
       "<Figure size 432x288 with 1 Axes>"
      ]
     },
     "metadata": {
      "needs_background": "light"
     },
     "output_type": "display_data"
    }
   ],
   "source": [
    "for i in range(12):\n",
    "    plt.hist(-1*y['Chemgauss4'].iloc[5000*i:5000*(i+1)], label=i)\n",
    "plt.legend()    \n",
    "plt.figtext(0.5, -0.1,\n",
    "                \"test\", ha=\"center\", fontsize=12)\n"
   ]
  },
  {
   "cell_type": "code",
   "execution_count": 11,
   "metadata": {},
   "outputs": [
    {
     "name": "stdout",
     "output_type": "stream",
     "text": [
      "(60000, 64, 64, 2)\n"
     ]
    },
    {
     "data": {
      "text/plain": [
       "<matplotlib.image.AxesImage at 0x7f534ee3ad10>"
      ]
     },
     "execution_count": 11,
     "metadata": {},
     "output_type": "execute_result"
    },
    {
     "data": {
      "image/png": "[encoded data removed]",
      "text/plain": [
       "<Figure size 432x288 with 1 Axes>"
      ]
     },
     "metadata": {
      "needs_background": "light"
     },
     "output_type": "display_data"
    }
   ],
   "source": [
    "X_2d = X[:,:,:,0:2]\n",
    "print(X_2d.shape)\n",
    "plt.imshow(X_2d[0][:,:,0])\n",
    "\n",
    "# X_2d_bottom = X_bottom[:,:,:,0:2]\n",
    "# print(X_2d_bottom.shape)"
   ]
  },
  {
   "cell_type": "code",
   "execution_count": 21,
   "metadata": {
    "scrolled": false
   },
   "outputs": [
    {
     "name": "stdout",
     "output_type": "stream",
     "text": [
      "Chemgauss4\n"
     ]
    },
    {
     "data": {
      "image/png": "[encoded data removed]",
      "text/plain": [
       "<Figure size 432x288 with 1 Axes>"
      ]
     },
     "metadata": {
      "needs_background": "light"
     },
     "output_type": "display_data"
    },
    {
     "name": "stdout",
     "output_type": "stream",
     "text": [
      "Model: \"sequential_9\"\n",
      "_________________________________________________________________\n",
      "Layer (type)                 Output Shape              Param #   \n",
      "=================================================================\n",
      "conv2d_19 (Conv2D)           (None, 63, 63, 3)         27        \n",
      "_________________________________________________________________\n",
      "flatten_7 (Flatten)          (None, 11907)             0         \n",
      "_________________________________________________________________\n",
      "dropout_15 (Dropout)         (None, 11907)             0         \n",
      "_________________________________________________________________\n",
      "dense_16 (Dense)             (None, 64)                762112    \n",
      "_________________________________________________________________\n",
      "dense_17 (Dense)             (None, 1)                 65        \n",
      "=================================================================\n",
      "Total params: 762,204\n",
      "Trainable params: 762,204\n",
      "Non-trainable params: 0\n",
      "_________________________________________________________________\n",
      "None\n",
      "Train on 45000 samples, validate on 15000 samples\n",
      "Epoch 1/50\n",
      "45000/45000 [==============================] - 5s 103us/sample - loss: 0.0464 - mean_squared_error: 0.0464 - r2_keras: -0.1674 - val_loss: 0.0119 - val_mean_squared_error: 0.0119 - val_r2_keras: 0.7022\n",
      "Epoch 2/50\n",
      "45000/45000 [==============================] - 4s 89us/sample - loss: 0.0200 - mean_squared_error: 0.0200 - r2_keras: 0.4997 - val_loss: 0.0074 - val_mean_squared_error: 0.0074 - val_r2_keras: 0.8138\n",
      "Epoch 3/50\n",
      "45000/45000 [==============================] - 4s 89us/sample - loss: 0.0117 - mean_squared_error: 0.0117 - r2_keras: 0.7076 - val_loss: 0.0058 - val_mean_squared_error: 0.0058 - val_r2_keras: 0.8555\n",
      "Epoch 4/50\n",
      "45000/45000 [==============================] - 4s 90us/sample - loss: 0.0093 - mean_squared_error: 0.0093 - r2_keras: 0.7669 - val_loss: 0.0048 - val_mean_squared_error: 0.0048 - val_r2_keras: 0.8793\n",
      "Epoch 5/50\n",
      "45000/45000 [==============================] - 4s 88us/sample - loss: 0.0081 - mean_squared_error: 0.0081 - r2_keras: 0.7970 - val_loss: 0.0043 - val_mean_squared_error: 0.0043 - val_r2_keras: 0.8920\n",
      "Epoch 6/50\n",
      "45000/45000 [==============================] - 4s 85us/sample - loss: 0.0074 - mean_squared_error: 0.0074 - r2_keras: 0.8165 - val_loss: 0.0040 - val_mean_squared_error: 0.0040 - val_r2_keras: 0.9011\n",
      "Epoch 7/50\n",
      "45000/45000 [==============================] - 4s 92us/sample - loss: 0.0068 - mean_squared_error: 0.0068 - r2_keras: 0.8315 - val_loss: 0.0036 - val_mean_squared_error: 0.0036 - val_r2_keras: 0.9090\n",
      "Epoch 8/50\n",
      "45000/45000 [==============================] - 4s 86us/sample - loss: 0.0062 - mean_squared_error: 0.0062 - r2_keras: 0.8448 - val_loss: 0.0035 - val_mean_squared_error: 0.0035 - val_r2_keras: 0.9123\n",
      "Epoch 9/50\n",
      "45000/45000 [==============================] - 4s 89us/sample - loss: 0.0058 - mean_squared_error: 0.0058 - r2_keras: 0.8541 - val_loss: 0.0033 - val_mean_squared_error: 0.0033 - val_r2_keras: 0.9167\n",
      "Epoch 10/50\n",
      "45000/45000 [==============================] - 4s 89us/sample - loss: 0.0055 - mean_squared_error: 0.0055 - r2_keras: 0.8619 - val_loss: 0.0032 - val_mean_squared_error: 0.0032 - val_r2_keras: 0.9193\n",
      "Epoch 11/50\n",
      "45000/45000 [==============================] - 4s 86us/sample - loss: 0.0053 - mean_squared_error: 0.0053 - r2_keras: 0.8690 - val_loss: 0.0032 - val_mean_squared_error: 0.0032 - val_r2_keras: 0.9201\n",
      "Epoch 12/50\n",
      "45000/45000 [==============================] - 4s 87us/sample - loss: 0.0050 - mean_squared_error: 0.0050 - r2_keras: 0.8756 - val_loss: 0.0031 - val_mean_squared_error: 0.0031 - val_r2_keras: 0.9223\n",
      "Epoch 13/50\n",
      "45000/45000 [==============================] - 4s 86us/sample - loss: 0.0048 - mean_squared_error: 0.0048 - r2_keras: 0.8807 - val_loss: 0.0031 - val_mean_squared_error: 0.0031 - val_r2_keras: 0.9232\n",
      "Epoch 14/50\n",
      "45000/45000 [==============================] - 4s 85us/sample - loss: 0.0046 - mean_squared_error: 0.0046 - r2_keras: 0.8847 - val_loss: 0.0031 - val_mean_squared_error: 0.0031 - val_r2_keras: 0.9233\n",
      "Epoch 15/50\n",
      "45000/45000 [==============================] - 4s 88us/sample - loss: 0.0044 - mean_squared_error: 0.0044 - r2_keras: 0.8898 - val_loss: 0.0030 - val_mean_squared_error: 0.0030 - val_r2_keras: 0.9246\n",
      "Epoch 16/50\n",
      "45000/45000 [==============================] - 4s 88us/sample - loss: 0.0043 - mean_squared_error: 0.0043 - r2_keras: 0.8925 - val_loss: 0.0030 - val_mean_squared_error: 0.0030 - val_r2_keras: 0.9252\n",
      "Epoch 17/50\n",
      "45000/45000 [==============================] - 4s 87us/sample - loss: 0.0042 - mean_squared_error: 0.0042 - r2_keras: 0.8951 - val_loss: 0.0031 - val_mean_squared_error: 0.0031 - val_r2_keras: 0.9226\n",
      "Epoch 18/50\n",
      "45000/45000 [==============================] - 4s 87us/sample - loss: 0.0041 - mean_squared_error: 0.0041 - r2_keras: 0.8983 - val_loss: 0.0030 - val_mean_squared_error: 0.0030 - val_r2_keras: 0.9249\n",
      "Epoch 19/50\n",
      "45000/45000 [==============================] - 4s 88us/sample - loss: 0.0040 - mean_squared_error: 0.0040 - r2_keras: 0.9011 - val_loss: 0.0030 - val_mean_squared_error: 0.0030 - val_r2_keras: 0.9254\n",
      "Epoch 20/50\n",
      "45000/45000 [==============================] - 4s 86us/sample - loss: 0.0039 - mean_squared_error: 0.0039 - r2_keras: 0.9025 - val_loss: 0.0029 - val_mean_squared_error: 0.0029 - val_r2_keras: 0.9269\n",
      "Epoch 21/50\n",
      "45000/45000 [==============================] - 4s 88us/sample - loss: 0.0038 - mean_squared_error: 0.0038 - r2_keras: 0.9049 - val_loss: 0.0029 - val_mean_squared_error: 0.0029 - val_r2_keras: 0.9273\n",
      "Epoch 22/50\n",
      "45000/45000 [==============================] - 4s 87us/sample - loss: 0.0038 - mean_squared_error: 0.0038 - r2_keras: 0.9064 - val_loss: 0.0030 - val_mean_squared_error: 0.0030 - val_r2_keras: 0.9242\n",
      "Epoch 23/50\n",
      "45000/45000 [==============================] - 4s 87us/sample - loss: 0.0037 - mean_squared_error: 0.0037 - r2_keras: 0.9089 - val_loss: 0.0028 - val_mean_squared_error: 0.0028 - val_r2_keras: 0.9293\n",
      "Epoch 24/50\n",
      "45000/45000 [==============================] - 4s 90us/sample - loss: 0.0036 - mean_squared_error: 0.0036 - r2_keras: 0.9103 - val_loss: 0.0029 - val_mean_squared_error: 0.0029 - val_r2_keras: 0.9264\n",
      "Epoch 25/50\n",
      "45000/45000 [==============================] - 4s 91us/sample - loss: 0.0036 - mean_squared_error: 0.0036 - r2_keras: 0.9110 - val_loss: 0.0028 - val_mean_squared_error: 0.0028 - val_r2_keras: 0.9289\n",
      "Epoch 26/50\n",
      "45000/45000 [==============================] - 4s 91us/sample - loss: 0.0035 - mean_squared_error: 0.0035 - r2_keras: 0.9123 - val_loss: 0.0028 - val_mean_squared_error: 0.0028 - val_r2_keras: 0.9302\n",
      "Epoch 27/50\n",
      "45000/45000 [==============================] - 4s 90us/sample - loss: 0.0035 - mean_squared_error: 0.0035 - r2_keras: 0.9138 - val_loss: 0.0028 - val_mean_squared_error: 0.0028 - val_r2_keras: 0.9298\n",
      "Epoch 28/50\n",
      "45000/45000 [==============================] - 4s 90us/sample - loss: 0.0034 - mean_squared_error: 0.0034 - r2_keras: 0.9150 - val_loss: 0.0028 - val_mean_squared_error: 0.0028 - val_r2_keras: 0.9302\n",
      "Epoch 29/50\n",
      "45000/45000 [==============================] - 4s 90us/sample - loss: 0.0034 - mean_squared_error: 0.0034 - r2_keras: 0.9158 - val_loss: 0.0029 - val_mean_squared_error: 0.0029 - val_r2_keras: 0.9283\n",
      "Epoch 30/50\n",
      "45000/45000 [==============================] - 4s 91us/sample - loss: 0.0034 - mean_squared_error: 0.0034 - r2_keras: 0.9165 - val_loss: 0.0028 - val_mean_squared_error: 0.0028 - val_r2_keras: 0.9307\n",
      "Epoch 31/50\n",
      "45000/45000 [==============================] - 4s 88us/sample - loss: 0.0033 - mean_squared_error: 0.0033 - r2_keras: 0.9175 - val_loss: 0.0028 - val_mean_squared_error: 0.0028 - val_r2_keras: 0.9301\n",
      "Epoch 32/50\n",
      "45000/45000 [==============================] - 4s 87us/sample - loss: 0.0033 - mean_squared_error: 0.0033 - r2_keras: 0.9186 - val_loss: 0.0028 - val_mean_squared_error: 0.0028 - val_r2_keras: 0.9311\n",
      "Epoch 33/50\n",
      "45000/45000 [==============================] - 4s 87us/sample - loss: 0.0033 - mean_squared_error: 0.0033 - r2_keras: 0.9186 - val_loss: 0.0028 - val_mean_squared_error: 0.0028 - val_r2_keras: 0.9304\n",
      "Epoch 34/50\n",
      "45000/45000 [==============================] - 4s 89us/sample - loss: 0.0032 - mean_squared_error: 0.0032 - r2_keras: 0.9199 - val_loss: 0.0028 - val_mean_squared_error: 0.0028 - val_r2_keras: 0.9294\n"
     ]
    },
    {
     "name": "stdout",
     "output_type": "stream",
     "text": [
      "Epoch 35/50\n",
      "45000/45000 [==============================] - 4s 87us/sample - loss: 0.0032 - mean_squared_error: 0.0032 - r2_keras: 0.9206 - val_loss: 0.0028 - val_mean_squared_error: 0.0028 - val_r2_keras: 0.9300\n",
      "Epoch 36/50\n",
      "45000/45000 [==============================] - 4s 88us/sample - loss: 0.0032 - mean_squared_error: 0.0032 - r2_keras: 0.9215 - val_loss: 0.0028 - val_mean_squared_error: 0.0028 - val_r2_keras: 0.9312\n",
      "Epoch 37/50\n",
      "45000/45000 [==============================] - 4s 85us/sample - loss: 0.0031 - mean_squared_error: 0.0031 - r2_keras: 0.9220 - val_loss: 0.0028 - val_mean_squared_error: 0.0028 - val_r2_keras: 0.9289\n",
      "Epoch 38/50\n",
      "45000/45000 [==============================] - 4s 85us/sample - loss: 0.0031 - mean_squared_error: 0.0031 - r2_keras: 0.9217 - val_loss: 0.0028 - val_mean_squared_error: 0.0028 - val_r2_keras: 0.9310\n",
      "Epoch 39/50\n",
      "45000/45000 [==============================] - 4s 83us/sample - loss: 0.0031 - mean_squared_error: 0.0031 - r2_keras: 0.9225 - val_loss: 0.0028 - val_mean_squared_error: 0.0028 - val_r2_keras: 0.9310\n",
      "Epoch 40/50\n",
      "45000/45000 [==============================] - 4s 86us/sample - loss: 0.0031 - mean_squared_error: 0.0031 - r2_keras: 0.9232 - val_loss: 0.0028 - val_mean_squared_error: 0.0028 - val_r2_keras: 0.9307\n",
      "Epoch 41/50\n",
      "45000/45000 [==============================] - 4s 85us/sample - loss: 0.0031 - mean_squared_error: 0.0031 - r2_keras: 0.9231 - val_loss: 0.0028 - val_mean_squared_error: 0.0028 - val_r2_keras: 0.9297\n",
      "Epoch 42/50\n",
      "45000/45000 [==============================] - 4s 87us/sample - loss: 0.0030 - mean_squared_error: 0.0030 - r2_keras: 0.9243 - val_loss: 0.0028 - val_mean_squared_error: 0.0028 - val_r2_keras: 0.9303\n",
      "Epoch 43/50\n",
      "45000/45000 [==============================] - 4s 91us/sample - loss: 0.0031 - mean_squared_error: 0.0031 - r2_keras: 0.9238 - val_loss: 0.0028 - val_mean_squared_error: 0.0028 - val_r2_keras: 0.9307\n",
      "Epoch 44/50\n",
      "45000/45000 [==============================] - 4s 90us/sample - loss: 0.0030 - mean_squared_error: 0.0030 - r2_keras: 0.9250 - val_loss: 0.0028 - val_mean_squared_error: 0.0028 - val_r2_keras: 0.9290\n",
      "Epoch 45/50\n",
      "45000/45000 [==============================] - 4s 88us/sample - loss: 0.0030 - mean_squared_error: 0.0030 - r2_keras: 0.9254 - val_loss: 0.0027 - val_mean_squared_error: 0.0027 - val_r2_keras: 0.9312\n",
      "Epoch 46/50\n",
      "45000/45000 [==============================] - 4s 88us/sample - loss: 0.0030 - mean_squared_error: 0.0030 - r2_keras: 0.9261 - val_loss: 0.0028 - val_mean_squared_error: 0.0028 - val_r2_keras: 0.9306\n",
      "Epoch 47/50\n",
      "45000/45000 [==============================] - 4s 89us/sample - loss: 0.0030 - mean_squared_error: 0.0030 - r2_keras: 0.9262 - val_loss: 0.0027 - val_mean_squared_error: 0.0027 - val_r2_keras: 0.9315\n",
      "Epoch 48/50\n",
      "45000/45000 [==============================] - 4s 90us/sample - loss: 0.0030 - mean_squared_error: 0.0030 - r2_keras: 0.9262 - val_loss: 0.0028 - val_mean_squared_error: 0.0028 - val_r2_keras: 0.9292\n",
      "Epoch 49/50\n",
      "45000/45000 [==============================] - 4s 90us/sample - loss: 0.0030 - mean_squared_error: 0.0030 - r2_keras: 0.9264 - val_loss: 0.0027 - val_mean_squared_error: 0.0027 - val_r2_keras: 0.9316\n",
      "Epoch 50/50\n",
      "45000/45000 [==============================] - 4s 89us/sample - loss: 0.0029 - mean_squared_error: 0.0029 - r2_keras: 0.9272 - val_loss: 0.0027 - val_mean_squared_error: 0.0027 - val_r2_keras: 0.9314\n"
     ]
    },
    {
     "data": {
      "image/png": "[encoded data removed]",
      "text/plain": [
       "<Figure size 432x288 with 1 Axes>"
      ]
     },
     "metadata": {
      "needs_background": "light"
     },
     "output_type": "display_data"
    },
    {
     "data": {
      "image/png": "[encoded data removed]",
      "text/plain": [
       "<Figure size 432x288 with 1 Axes>"
      ]
     },
     "metadata": {
      "needs_background": "light"
     },
     "output_type": "display_data"
    },
    {
     "name": "stdout",
     "output_type": "stream",
     "text": [
      "r2 0.9325494659214879\n",
      "pearson (0.9658584058005424, 0.0)\n",
      "spearman SpearmanrResult(correlation=0.9372587094397805, pvalue=0.0)\n",
      "MSE actual 0.24274051538732389\n"
     ]
    },
    {
     "data": {
      "image/png": "[encoded data removed]",
      "text/plain": [
       "<Figure size 432x288 with 1 Axes>"
      ]
     },
     "metadata": {
      "needs_background": "light"
     },
     "output_type": "display_data"
    }
   ],
   "source": [
    "# X_adrp = images_adrp[:,:,:,2:4]\n",
    "# y=df_adrp\n",
    "columns = [ 'CG3:Steric', 'CG3:Clash', 'CG3:ProDesolv', 'CG3:LigDesolv',\n",
    "       'CG3:LigDesolvHB', 'CG4:HB', 'Chemgauss4']\n",
    "subsets = [ ['CG3:Steric', 'CG3:Clash', 'CG4:HB'], ['CG3:ProDesolv', 'CG3:LigDesolv',\n",
    "       'CG3:LigDesolvHB'], ['Chemgauss4']]\n",
    "total = ['Chemgauss4']\n",
    "for c in total:\n",
    "    print(c)\n",
    "    isList = isinstance(c,list)\n",
    "    df_new = y.copy(deep=True)\n",
    "    scaler = MinMaxScaler()\n",
    "    dock_score = np.abs(df_new[c].to_numpy())\n",
    "    if isList:\n",
    "        dock_score = scaler.fit_transform(np.sum(dock_score,axis=-1).reshape(-1,1))\n",
    "    else:\n",
    "        dock_score = scaler.fit_transform(dock_score.reshape(-1,1))\n",
    "    df_new['score'] = dock_score    \n",
    "    \n",
    "    X_train_top, X_test_top, y_train_top, y_test_top = train_test_split(X_2d, df_new, test_size=0.25,\n",
    "                                                         shuffle=True)        \n",
    "\n",
    "    dock_score_train= y_train_top['score'].to_numpy()\n",
    "    dock_score_test = y_test_top['score'].to_numpy()\n",
    "    plt_train=scaler.inverse_transform(dock_score_train.reshape(-1,1))\n",
    "    plt_test=scaler.inverse_transform(dock_score_test.reshape(-1,1))\n",
    "        \n",
    "    # plot train/test split\n",
    "    plt.hist(plt_train, alpha=0.5, label='train')\n",
    "    plt.hist(plt_test,alpha=1, label='test')\n",
    "    plt.legend()\n",
    "    plt.show()\n",
    "    \n",
    "    # model stuff\n",
    "    dr = 0.1\n",
    "    model = Sequential()\n",
    "    model.add(Conv2D(3, kernel_size=(2, 2),\n",
    "                     activation='relu',\n",
    "                     input_shape=(64,64,2)))\n",
    " #   model.add(Conv2D(32, (3, 3), activation='relu'))\n",
    " #   model.add(Conv2D(32, (3, 3), activation='relu'))\n",
    "#    model.add(MaxPooling2D(pool_size=(2,2)))\n",
    "#    model.add(Dropout(dr))\n",
    "    model.add(Flatten())\n",
    "#     model.add(Dense(128, activation='relu'))\n",
    "#     model.add(Dense(64, activation='relu'))\n",
    "    model.add(Dropout(dr))\n",
    "    model.add(Dense(64, activation='relu'))\n",
    "   # model.add(Dropout(dr))\n",
    "    model.add(Dense(1))\n",
    "\n",
    "    model.compile(loss=tf.keras.losses.mean_squared_error,\n",
    "                  optimizer=tf.keras.optimizers.Adam(lr=1e-5),\n",
    "                  metrics=['mean_squared_error', r2_keras])\n",
    "    print(model.summary())\n",
    "    history = model.fit(X_train_top, dock_score_train,\n",
    "              batch_size=64,\n",
    "              epochs=50,\n",
    "              verbose=1,\n",
    "              validation_data=(X_test_top, dock_score_test))\n",
    "    \n",
    "    # Plot training & validation loss values\n",
    "    plt.plot(history.history['r2_keras'])\n",
    "    plt.plot(history.history['val_r2_keras'])\n",
    "    plt.title('Model r2 ' + ', '.join(c))\n",
    "    plt.ylabel('r2')\n",
    "    plt.xlabel('Epoch')\n",
    "    plt.legend(['Train', 'Test'], loc='upper left')\n",
    "    plt.show()\n",
    "\n",
    "    plt.plot(history.history['loss'])\n",
    "    plt.plot(history.history['val_loss'])\n",
    "    plt.title('Model loss ' + ', '.join(c))\n",
    "    plt.ylabel('Loss')\n",
    "\n",
    "    plt.xlabel('Epoch')\n",
    "    plt.legend(['Train', 'Test'], loc='upper left')\n",
    "    plt.show()\n",
    "    \n",
    "    y_pred = model.predict(X_test_top)\n",
    "    y_pred_inv = scaler.inverse_transform(y_pred)\n",
    "    y_test_inv = scaler.inverse_transform(dock_score_test.reshape(-1,1))\n",
    "\n",
    "    print(\"r2\", r2_score(y_test_inv, y_pred_inv))\n",
    "    print(\"pearson\", pearsonr(y_test_inv.flatten(),y_pred_inv.flatten()))\n",
    "    print(\"spearman\", spearmanr(y_test_inv.flatten(),y_pred_inv.flatten()))\n",
    "    print(\"MSE actual\", mean_squared_error(y_test_inv, y_pred_inv))\n",
    "\n",
    "    plt.hist(y_test_inv, alpha=0.5, label=\"test\")\n",
    "    plt.hist(y_pred_inv,alpha=0.5, label=\"pred\")\n",
    "    plt.legend()\n",
    "    plt.show()"
   ]
  },
  {
   "cell_type": "code",
   "execution_count": null,
   "metadata": {},
   "outputs": [],
   "source": [
    "print(np.max(y_pred_inv))\n",
    "print(np.max(y_test_inv))"
   ]
  },
  {
   "cell_type": "code",
   "execution_count": 66,
   "metadata": {},
   "outputs": [],
   "source": [
    "top_pred = y_test_top.iloc[np.argsort(y_pred_inv.flatten())[-1000:]][['SMILES']].to_numpy()\n",
    "top_true = y_test_top.iloc[np.argsort(y_test_inv.flatten())[-1000:]][['SMILES']].to_numpy()"
   ]
  },
  {
   "cell_type": "code",
   "execution_count": 67,
   "metadata": {},
   "outputs": [
    {
     "name": "stdout",
     "output_type": "stream",
     "text": [
      "357\n"
     ]
    }
   ],
   "source": [
    "check = []\n",
    "for i in range(top_pred.shape[0]):\n",
    "    check.append(top_pred[i] in top_true)\n",
    "print(np.sum(check))"
   ]
  },
  {
   "cell_type": "code",
   "execution_count": null,
   "metadata": {},
   "outputs": [],
   "source": []
  }
 ],
 "metadata": {
  "kernelspec": {
   "display_name": "Python 3",
   "language": "python",
   "name": "python3"
  },
  "language_info": {
   "codemirror_mode": {
    "name": "ipython",
    "version": 3
   },
   "file_extension": ".py",
   "mimetype": "text/x-python",
   "name": "python",
   "nbconvert_exporter": "python",
   "pygments_lexer": "ipython3",
   "version": "3.7.7"
  }
 },
 "nbformat": 4,
 "nbformat_minor": 4
}
