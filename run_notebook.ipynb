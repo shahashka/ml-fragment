{
 "cells": [
  {
   "cell_type": "code",
   "execution_count": 1,
   "metadata": {},
   "outputs": [],
   "source": [
    "import mdtraj as md\n",
    "import numpy as np\n",
    "from pymol import cmd\n",
    "from pymol import stored\n",
    "import matplotlib.pyplot as plt\n",
    "import itertools\n",
    "import warnings\n",
    "import multiprocessing\n",
    "from tqdm import tqdm\n",
    "import cv2\n",
    "import os\n",
    "import warnings\n",
    "warnings.filterwarnings('ignore')\n",
    "import pickle\n",
    "import pandas as pd\n",
    "import glob"
   ]
  },
  {
   "cell_type": "code",
   "execution_count": 2,
   "metadata": {},
   "outputs": [],
   "source": [
    "import tensorflow as tf\n",
    "from tensorflow.keras.models import Sequential\n",
    "from tensorflow.keras.layers import Dense, Dropout, Flatten\n",
    "from tensorflow.keras.layers import Conv2D, MaxPooling2D, BatchNormalization\n",
    "import matplotlib.pyplot as plt\n",
    "from sklearn.preprocessing import MinMaxScaler, StandardScaler\n",
    "from sklearn.model_selection import train_test_split\n",
    "from scipy.stats import pearsonr\n",
    "from scipy.stats import spearmanr\n",
    "from sklearn.metrics import mean_squared_error, mean_absolute_error\n",
    "from sklearn.metrics import r2_score\n",
    "\n",
    "os.environ[\"CUDA_VISIBLE_DEVICES\"]=\"3\"\n"
   ]
  },
  {
   "cell_type": "code",
   "execution_count": 3,
   "metadata": {},
   "outputs": [],
   "source": [
    "from scipy import stats\n",
    "from sklearn.metrics import mean_absolute_error, r2_score, confusion_matrix, accuracy_score, precision_score, recall_score, roc_curve, auc\n",
    "from regression_enrichment_surface import regression_enrichment_surface as rds"
   ]
  },
  {
   "cell_type": "code",
   "execution_count": 4,
   "metadata": {},
   "outputs": [],
   "source": [
    "def save_pocket(pdb, sdf, name):\n",
    "    cmd.reinitialize()\n",
    "    cmd.load(pdb)\n",
    "    cmd.load(sdf, \"LIG\")\n",
    "    cmd.select(\"POCK\",\"br. LIG around 4\")\n",
    "    stored.idx = 0\n",
    "    cmd.iterate(\"POCK and n. CA\", expression=\"stored.idx+=1\")\n",
    "    cmd.save(name, \"POCK\")\n",
    "    return stored.idx"
   ]
  },
  {
   "cell_type": "code",
   "execution_count": 5,
   "metadata": {},
   "outputs": [],
   "source": [
    "element_charge = {\"H\": +1, \"I\":-1,\n",
    "           \"N\": -3,\n",
    "           \"P\":-3,\n",
    "           \"C\": +4,\n",
    "           \"O\":-2,\n",
    "           \"F\": -1,\n",
    "           \"S\": -2,\n",
    "           \"Li\": +1,\n",
    "           \"Cl\": -1,\n",
    "           \"Br\": -1}\n",
    "element_radius = {\"H\": 1.20, \"I\": 1.98,\n",
    "           \"N\": 1.55 ,\n",
    "           \"P\":1.95,\n",
    "           \"C\": 1.70,\n",
    "           \"O\":1.52,\n",
    "           \"F\": 1.47,\n",
    "           \"S\":1.80,\n",
    "           \"Li\": 1.82,\n",
    "           \"Cl\": 1.75,\n",
    "           \"Br\": 1.85}\n",
    "aa_hscale = {\n",
    "\"ALA\":  0.620,\n",
    "\"ARG\": -2.530,\n",
    "\"ASN\": -0.780,\n",
    "\"ASP\": -0.900,\n",
    "\"CYS\":  0.290,\n",
    "\"GLN\": -0.850,\n",
    "\"GLU\": -0.740,\n",
    "\"GLY\":  0.480,\n",
    "\"HIS\": -0.400,\n",
    "\"ILE\":  1.380,\n",
    "\"LEU\":  1.060,\n",
    "\"LYS\": -1.500,\n",
    "\"MET\":  0.640,\n",
    "\"PHE\":  1.190,\n",
    "\"PRO\":  0.120,\n",
    "\"SER\": -0.180,\n",
    "\"THR\": -0.050,\n",
    "\"TRP\":  0.810,\n",
    "\"TYR\":  0.260,\n",
    "\"VAL\":  1.080}\n"
   ]
  },
  {
   "cell_type": "code",
   "execution_count": 14,
   "metadata": {},
   "outputs": [],
   "source": [
    "def get_coulomb(i,j,z_i,z_j,r):\n",
    "    if i==j:\n",
    "        return 0.5*z_i**2.4\n",
    "    else:\n",
    "        return z_i*z_j/r\n",
    "\n",
    "def get_e_map(t,sdf_state, pqr, grid, d_matrix):\n",
    "    pocket = list(t.topology.residues)\n",
    "    indices =  [int(str(residue)[3:]) for residue in t.topology.residues]\n",
    "    # open the pqr and iterate through lines\n",
    "    pqr = open(pqr)\n",
    "    lines = pqr.readlines()\n",
    "    data = []\n",
    "\n",
    "    # discard lines that do not have the residue number\n",
    "    for l in lines:\n",
    "        split = l.split(' ')\n",
    "        split = list(filter(lambda x: x != '', split))\n",
    "        if split[0] == 'TER':\n",
    "            break\n",
    "        res = split[4]\n",
    "        if int(res) in indices:\n",
    "            # collect all x,y,charge, radius values\n",
    "            data.append([float(split[5]), float(split[6]), float(split[8]), float(split[9])])\n",
    "    data = np.asarray(data)\n",
    "\n",
    "    # initialize 2D array\n",
    "    e_map = np.zeros([grid,grid])\n",
    "    \n",
    "    for i in range(e_map.shape[0]):\n",
    "        x_cell = (np.max(data[:,0]) - np.min(data[:,0]))/grid\n",
    "        y_cell = (np.max(data[:,1]) - np.min(data[:,1]))/grid\n",
    "        x_min = np.min(data[:,0])\n",
    "        y_min = np.min(data[:,1])\n",
    "        x_axis = [x_min+x_cell*i for i in range(grid)]\n",
    "        y_axis = [y_min+y_cell*j for j in range(grid)]\n",
    "\n",
    "        # place (x,y) from file into appropriate grid point\n",
    "        for val in range(data.shape[0]):\n",
    "            d = data[val]\n",
    "            x_value = d[0]\n",
    "            y_value=d[1]\n",
    "            charge = d[2]\n",
    "            radius = d[3]\n",
    "\n",
    "            # naive \"box\" charge instead of point charge\n",
    "            # also assuming constant charge rather than 1/r^2 drop off\n",
    "            i_min = (int)(np.floor((x_value-x_min-radius)/x_cell))\n",
    "            i_max = (int)(np.floor((x_value-x_min+radius)/x_cell))\n",
    "            j_min = (int)(np.floor((y_value-y_min-radius)/y_cell))\n",
    "            j_max = (int)(np.floor((y_value-y_min+radius)/y_cell))\n",
    "\n",
    "            if i_min <0:\n",
    "                i_min=0\n",
    "            if j_min <0:\n",
    "                j_min=0\n",
    "            if i_max>=grid:\n",
    "                i_max=grid-1\n",
    "            if j_max>=grid:\n",
    "                j_max=grid-1\n",
    "\n",
    "            if i_min>i_max:\n",
    "                print(\"smoething went wrot=ng\")\n",
    "                break\n",
    "            if j_min>j_max:\n",
    "                print(\"something went wrong\")\n",
    "\n",
    "            e_map[i_min:i_max,j_min:j_max] += charge\n",
    "        \n",
    "    # for each atom in the ligand add in ionic charge according to ionic radius\n",
    "    lines = sdf_state.split('\\n')\n",
    "    lig = find_end(lines[4:])\n",
    "    lig = list(filter(lambda x: 'H' not in x, lig))\n",
    "    l_map = np.zeros([grid,grid])\n",
    "\n",
    "    for l in lig:\n",
    "        split = l.split(' ')\n",
    "        split = list(filter(lambda x: x != '', split))\n",
    "        x_value = (float)(split[0])\n",
    "        y_value=(float)(split[1])\n",
    "        atom = split[3]\n",
    "        charge = element_charge[atom]\n",
    "        radius = element_radius[atom]\n",
    "\n",
    "        # naive \"box\" charge instead of point charge\n",
    "        # also assuming constant charge rather than 1/r^2 drop off\n",
    "        i_min = (int)(np.floor((x_value-x_min-radius)/x_cell))\n",
    "        i_max = (int)(np.floor((x_value-x_min+radius)/x_cell))\n",
    "        j_min = (int)(np.floor((y_value-y_min-radius)/y_cell))\n",
    "        j_max = (int)(np.floor((y_value-y_min+radius)/y_cell))\n",
    "\n",
    "        if i_min <0:\n",
    "            i_min=0\n",
    "        if j_min <0:\n",
    "            j_min=0\n",
    "        if i_max>=grid:\n",
    "            i_max=grid-1\n",
    "        if j_max>=grid:\n",
    "            j_max=grid-1\n",
    "\n",
    "        if i_min>i_max:\n",
    "            print(\"smoething went wrot=ng\")\n",
    "            break\n",
    "        if j_min>j_max:\n",
    "            print(\"something went wrong\")\n",
    "\n",
    "        l_map[i_min:i_max,j_min:j_max] += charge\n",
    "  \n",
    "    return e_map, l_map"
   ]
  },
  {
   "cell_type": "code",
   "execution_count": 15,
   "metadata": {},
   "outputs": [],
   "source": [
    "# convert files into list of strings\n",
    "# for the protein pdb and ligand sdf \n",
    "# (states are separated by $$$$)\n",
    "def stringify(sdf, pdb, num_states):\n",
    "    sdf_split = []\n",
    "    with open(sdf,'r') as f:\n",
    "        for key,group in itertools.groupby(f,lambda line: line.startswith('$$$$')):\n",
    "          if not key:\n",
    "            sdf_split.append(\"\".join(list(group)))\n",
    "          if len(sdf_split) == num_states:\n",
    "            break\n",
    "    \n",
    "#     with open(sdf,'r') as f:\n",
    "#         lines = f.readlines()\n",
    "#     lines = \"\".join(lines)\n",
    "#     test_split=lines.split(\"$$$$\")\n",
    "    \n",
    "#     correct=True\n",
    "#     for i,j in zip(test_split,sdf_split):\n",
    "#         correct = correct and i == j\n",
    "#         if i != j :\n",
    "#             print(i)\n",
    "#             print(j)\n",
    "#             return\n",
    "#     print(correct)\n",
    "#     return\n",
    "        \n",
    "    #sdf_split = sdf_split[-num_states:]\n",
    "    with open(pdb,'r') as f:\n",
    "        pdb_string = f.readlines()       \n",
    "    return sdf_split, \"\".join(pdb_string)\n",
    "\n",
    "def find_end(lines):\n",
    "    filtered_lines=[]\n",
    "    for l in lines:\n",
    "        split = l.split(' ')\n",
    "        split = list(filter(lambda x: x != '', split))\n",
    "        vals1 = (split[0])\n",
    "        \n",
    "        # stop when we get to the integers in the sdf\n",
    "        if vals1.isdigit():\n",
    "            return filtered_lines\n",
    "        filtered_lines.append(l)\n",
    "            \n",
    "def create_pdb(sdf, pdb_string,i):\n",
    "    lines = sdf.split('\\n')\n",
    "    #num_lines = (int)(lines[3].split(' ')[1])\n",
    "    \n",
    "    #lig = lines[4:4+num_lines-1]\n",
    "    lig = find_end(lines[4:])\n",
    "    lig = list(filter(lambda x: 'H' not in x, lig))\n",
    "    lig_pdb = list(map(create_line, lig, np.arange(1,len(lig)+1)))\n",
    "    f =  open(\"tmp{0}.pdb\".format(i), 'w+')\n",
    "    f.write(\"\\n\".join(lig_pdb))\n",
    "    f.write(\"\\n\")\n",
    "    f.write(pdb_string)\n",
    "    f.close()\n",
    "\n",
    "# Create one line in the new pdb file for one state\n",
    "# and the protein\n",
    "# Use the standardized pdb regex to create the correct string\n",
    "def create_line(line,i):\n",
    "    split = line.split(' ')\n",
    "    split = list(filter(lambda x: x != '', split))\n",
    "    vals1 = (float)(split[0])\n",
    "    vals2 = (float)(split[1])\n",
    "    vals3= (float)(split[2]) \n",
    "    atom = split[3]\n",
    "\n",
    "    # workaround to get the atoms in the ligand to be residues in mdtraj reader\n",
    "    if i >=10 :\n",
    "        new_string = \"{:6s}{:5d} {:^4s}{:1s}{:3s} {:1s}{:4d}{:1s}   {:8.3f}{:8.3f}{:8.3f}{:6.2f}{:6.2f}          {:>2s}{:2s}\".format(\"HETATM\",i,atom,'',\"U\"+str(i),'',0,'',vals1, vals2,vals3,0,0,atom,'')\n",
    "    else:\n",
    "        new_string = \"{:6s}{:5d} {:^4s}{:1s}{:3s} {:1s}{:4d}{:1s}   {:8.3f}{:8.3f}{:8.3f}{:6.2f}{:6.2f}          {:>2s}{:2s}\".format(\"HETATM\",i,atom,'',\"UN\"+str(i),'',0,'',vals1, vals2,vals3,0,0,atom,'')\n",
    "    return new_string\n",
    "\n",
    "# Create the data for ML model\n",
    "\n",
    "# First array is contact matrix\n",
    "# - ----------------| ligand atoms | protein residues\n",
    "# - ligand atoms    |              | \n",
    "# ------------------|--------------|-----------------\n",
    "# - protein residues|              |\n",
    "#\n",
    "# Second array is a mask for which cells correspond to ligand x ligand (-1), \n",
    "# protein x protein (1) and ligand x protein (0)\n",
    "#\n",
    "# Arrays are interpolated to 64x64\n",
    "def maker_w_strings(data):\n",
    "    i,sdf_state, num_residues, pdb = data\n",
    "    tmp_file = str(id(multiprocessing.current_process()))\n",
    "    create_pdb(sdf_state,pdb,tmp_file) # create the pdb for one states\n",
    "    \n",
    "    # Load the file into mdtraj\n",
    "    t = md.load(\"tmp{0}.pdb\".format(tmp_file))\n",
    "    pl = len(list(t.topology.residues))\n",
    "    resi = np.arange(pl)\n",
    "    pairs = list(itertools.product(resi, resi))\n",
    "    \n",
    "    # compute constacts\n",
    "    matrix, l = md.compute_contacts(t, contacts=pairs, scheme=\"closest-heavy\")\n",
    "    matrix = np.array(matrix).reshape((pl,pl))\n",
    "    \n",
    "    aa_matrix_h = np.zeros((pl, pl))\n",
    "    aa_matrix_v = np.zeros((pl, pl))\n",
    "    resi_list = list(t.topology.residues)\n",
    "    atom_list = list(t.topology.atoms)\n",
    "\n",
    "    for p in range(pl):\n",
    "        r = resi_list[p]\n",
    "        if not str(r).startswith('U'):\n",
    "            aa_matrix_v[:,p]=aa_hscale[r.name]\n",
    "            aa_matrix_h[p]=aa_hscale[r.name]\n",
    "        else:\n",
    "            a = atom_list[p]\n",
    "            aa_matrix_v[:,p] =element_charge[a.name]\n",
    "            aa_matrix_h[p]=element_charge[a.name]\n",
    "            \n",
    "    ### generate protein-ligand mask\n",
    "    mask = np.zeros((pl,pl))\n",
    "    for i in range(pl-num_residues):\n",
    "        for j in range(pl-num_residues):\n",
    "            # ligand\n",
    "            mask[i,j] = -1\n",
    "            \n",
    "    for i in range(pl - num_residues,pl):\n",
    "        for j in range( pl - num_residues,pl):\n",
    "            # protein\n",
    "            mask[i,j] = 1\n",
    "            \n",
    "    e_map, l_map = get_e_map(t, sdf_state, \"mol.pqr\", 64, matrix)\n",
    "    \n",
    "    p_img = cv2.resize(matrix, dsize=(64, 64), interpolation=cv2.INTER_CUBIC).reshape(64,64,1)\n",
    "    m_img = cv2.resize(mask, dsize=(64, 64), interpolation=cv2.INTER_CUBIC).reshape(64,64,1)\n",
    "    v_img = cv2.resize(aa_matrix_v, dsize=(64, 64), interpolation=cv2.INTER_CUBIC).reshape(64,64,1)\n",
    "    h_img = cv2.resize(aa_matrix_h, dsize=(64, 64), interpolation=cv2.INTER_CUBIC).reshape(64,64,1)\n",
    "    \n",
    "\n",
    "    p_contact_matrix = np.concatenate([p_img, m_img, e_map.reshape(64,64,1), l_map.reshape(64,64,1)], axis=-1)\n",
    "    os.remove(\"tmp{0}.pdb\".format(tmp_file))\n",
    "    return p_contact_matrix\n",
    "    "
   ]
  },
  {
   "cell_type": "code",
   "execution_count": 19,
   "metadata": {},
   "outputs": [
    {
     "name": "stdout",
     "output_type": "stream",
     "text": [
      "done creating pocket\n"
     ]
    },
    {
     "name": "stderr",
     "output_type": "stream",
     "text": [
      "100%|██████████| 10000/10000 [04:38<00:00, 35.92it/s]\n"
     ]
    }
   ],
   "source": [
    "maps=[]\n",
    "num_residues = save_pocket(\"april27/ADRP/ADRP_6W02_A_1_H.pdb\", \"april27/ADRP/adrp_adpr_A_cat_sorted_top100.sdf\", \"april27/ADRP/adrp_gen_pock.pdb\")\n",
    "print(\"done creating pocket\")\n",
    "s, pdb_string = stringify(\"april27/ADRP/adrp_adpr_A_cat_sorted.sdf\", \"april27/ADRP/adrp_gen_pock.pdb\", 10000)\n",
    "pdb_string = [pdb_string for x in range(len(s))]\n",
    "\n",
    "with multiprocessing.Pool(32) as p:\n",
    "    num_states = len(s)\n",
    "    data = list(zip(range(num_states), s, num_residues*np.ones(num_states,dtype=int), pdb_string))\n",
    "    itern = p.imap(maker_w_strings, data)\n",
    "    for i,p_contact_matrix in enumerate(tqdm(itern, total=num_states)):\n",
    "        maps.append(p_contact_matrix)\n"
   ]
  },
  {
   "cell_type": "code",
   "execution_count": 21,
   "metadata": {},
   "outputs": [
    {
     "data": {
      "text/plain": [
       "<matplotlib.colorbar.Colorbar at 0x7f0082a40f90>"
      ]
     },
     "execution_count": 21,
     "metadata": {},
     "output_type": "execute_result"
    },
    {
     "data": {
      "image/png": "[encoded data removed]",
      "text/plain": [
       "<Figure size 432x288 with 2 Axes>"
      ]
     },
     "metadata": {
      "needs_background": "light"
     },
     "output_type": "display_data"
    }
   ],
   "source": [
    "plt.imshow(maps[0][:,:,3])\n",
    "plt.colorbar()"
   ]
  },
  {
   "cell_type": "code",
   "execution_count": 22,
   "metadata": {},
   "outputs": [
    {
     "name": "stdout",
     "output_type": "stream",
     "text": [
      "(10000, 64, 64, 4)\n"
     ]
    }
   ],
   "source": [
    "images_adrp = np.stack(maps,axis=0)\n",
    "print(images_adrp.shape)"
   ]
  },
  {
   "cell_type": "code",
   "execution_count": 23,
   "metadata": {},
   "outputs": [],
   "source": [
    "df_adrp = pd.read_csv(\"rescore_top10k.csv\")"
   ]
  },
  {
   "cell_type": "code",
   "execution_count": 59,
   "metadata": {},
   "outputs": [
    {
     "name": "stdout",
     "output_type": "stream",
     "text": [
      "./april27/PLPro/2/plpro_2.high.matrices.npy ./april27/PLPro/2/plpro_2.scores\n",
      "./april27/PLPro/1/plpro_1.high.matrices.npy ./april27/PLPro/1/plpro_1.scores\n",
      "./april27/NSP15_6w01/2/NSP15_2_6w01.high.matrices.npy ./april27/NSP15_6w01/2/NSP15_2_6w01.scores\n",
      "./april27/NSP15_6w01/1/NSP15_1_6w01.high.matrices.npy ./april27/NSP15_6w01/1/NSP15_1_6w01.scores\n",
      "./april27/NSP15_6vww/1/NSP15_1_6vww.high.matrices.npy ./april27/NSP15_6vww/1/NSP15_1_6vww.scores\n",
      "./april27/NSP15_6vww/2/NSP15_2_6vww.high.matrices.npy ./april27/NSP15_6vww/2/NSP15_2_6vww.scores\n",
      "./april27/3CLPro/1/3CLPro_1.high.matrices.npy ./april27/3CLPro/1/3CLPro_1.scores\n",
      "./april27/3CLPro/2/3CLPro_2.high.matrices.npy ./april27/3CLPro/2/3CLPro_2.scores\n",
      "./april27/3CLPro/3/3CLPro_3.high.matrices.npy ./april27/3CLPro/3/3CLPro_3.scores\n",
      "./april27/ADRP/ADRP_6W02_A_1_H.high.matrices.npy ./april27/ADRP/ADRP_6W02_A_1_H.scores\n",
      "./april27/DNMT3A/DNMT3A_chainA.high.matrices.npy ./april27/DNMT3A/DNMT3A_chainA.scores\n",
      "./april27/NSUN2/NSUN2_model.high.matrices.npy ./april27/NSUN2/NSUN2_model.scores\n"
     ]
    }
   ],
   "source": [
    "data_images =[]\n",
    "data_scores = []\n",
    "data_images_bottom =[]\n",
    "data_scores_bottom = []\n",
    "files_m = glob.glob('./**/*high.matrices.npy', recursive=True)\n",
    "files_s = glob.glob('./**/*.scores', recursive=True)\n",
    "for m,s in zip(files_m, files_s):\n",
    "    print(m,s)\n",
    "#     if \"bottom\" not in m:\n",
    "    data_images.append(np.load(m)[0:5000])\n",
    "    data_scores.append(pd.read_csv(s).iloc[0:5000])\n",
    "#     else:\n",
    "#     data_images_bottom.append(np.load(m)[-5000:])\n",
    "#     data_scores_bottom.append(pd.read_csv(s).iloc[-5000:])\n",
    "    "
   ]
  },
  {
   "cell_type": "code",
   "execution_count": 60,
   "metadata": {},
   "outputs": [],
   "source": [
    "X = np.vstack(data_images)\n",
    "y = pd.concat(data_scores)"
   ]
  },
  {
   "cell_type": "code",
   "execution_count": 49,
   "metadata": {},
   "outputs": [
    {
     "data": {
      "text/plain": [
       "<matplotlib.legend.Legend at 0x7effcefb61d0>"
      ]
     },
     "execution_count": 49,
     "metadata": {},
     "output_type": "execute_result"
    },
    {
     "data": {
      "image/png": "[encoded data removed]",
      "text/plain": [
       "<Figure size 432x288 with 1 Axes>"
      ]
     },
     "metadata": {
      "needs_background": "light"
     },
     "output_type": "display_data"
    }
   ],
   "source": [
    "for i in range(12):\n",
    "    plt.hist(-1*y['Chemgauss4'].iloc[5000*i:5000*(i+1)], label=i)\n",
    "plt.legend()    "
   ]
  },
  {
   "cell_type": "code",
   "execution_count": 61,
   "metadata": {},
   "outputs": [
    {
     "name": "stdout",
     "output_type": "stream",
     "text": [
      "(60000, 64, 64, 2)\n"
     ]
    },
    {
     "data": {
      "text/plain": [
       "<matplotlib.image.AxesImage at 0x7ef7dab3a150>"
      ]
     },
     "execution_count": 61,
     "metadata": {},
     "output_type": "execute_result"
    },
    {
     "data": {
      "image/png": "[encoded data removed]",
      "text/plain": [
       "<Figure size 432x288 with 1 Axes>"
      ]
     },
     "metadata": {
      "needs_background": "light"
     },
     "output_type": "display_data"
    }
   ],
   "source": [
    "X_2d = X[:,:,:,0:2]\n",
    "print(X_2d.shape)\n",
    "plt.imshow(X_2d[0][:,:,0])\n",
    "\n",
    "# X_2d_bottom = X_bottom[:,:,:,0:2]\n",
    "# print(X_2d_bottom.shape)"
   ]
  },
  {
   "cell_type": "code",
   "execution_count": 63,
   "metadata": {},
   "outputs": [],
   "source": [
    "def adapt_learning_rate(epoch):\n",
    "    return 1e-3 * epoch\n",
    "my_lr_scheduler = tf.keras.callbacks.LearningRateScheduler(adapt_learning_rate)"
   ]
  },
  {
   "cell_type": "code",
   "execution_count": 64,
   "metadata": {},
   "outputs": [],
   "source": [
    "def r2_keras(y_true, y_pred):\n",
    "    from tensorflow.keras import backend as K\n",
    "    SS_res =  K.sum(K.square(y_true - y_pred)) \n",
    "    SS_tot = K.sum(K.square(y_true - K.mean(y_true))) \n",
    "    return ( 1 - SS_res/(SS_tot + K.epsilon()) )"
   ]
  },
  {
   "cell_type": "code",
   "execution_count": 65,
   "metadata": {
    "scrolled": false
   },
   "outputs": [
    {
     "name": "stdout",
     "output_type": "stream",
     "text": [
      "Chemgauss4\n"
     ]
    },
    {
     "data": {
      "image/png": "[encoded data removed]",
      "text/plain": [
       "<Figure size 432x288 with 1 Axes>"
      ]
     },
     "metadata": {
      "needs_background": "light"
     },
     "output_type": "display_data"
    },
    {
     "name": "stdout",
     "output_type": "stream",
     "text": [
      "Model: \"sequential_12\"\n",
      "_________________________________________________________________\n",
      "Layer (type)                 Output Shape              Param #   \n",
      "=================================================================\n",
      "conv2d_36 (Conv2D)           (None, 59, 59, 8)         584       \n",
      "_________________________________________________________________\n",
      "conv2d_37 (Conv2D)           (None, 57, 57, 32)        2336      \n",
      "_________________________________________________________________\n",
      "conv2d_38 (Conv2D)           (None, 55, 55, 32)        9248      \n",
      "_________________________________________________________________\n",
      "max_pooling2d_12 (MaxPooling (None, 27, 27, 32)        0         \n",
      "_________________________________________________________________\n",
      "dropout_24 (Dropout)         (None, 27, 27, 32)        0         \n",
      "_________________________________________________________________\n",
      "flatten_12 (Flatten)         (None, 23328)             0         \n",
      "_________________________________________________________________\n",
      "dense_24 (Dense)             (None, 64)                1493056   \n",
      "_________________________________________________________________\n",
      "dropout_25 (Dropout)         (None, 64)                0         \n",
      "_________________________________________________________________\n",
      "dense_25 (Dense)             (None, 1)                 65        \n",
      "=================================================================\n",
      "Total params: 1,505,289\n",
      "Trainable params: 1,505,289\n",
      "Non-trainable params: 0\n",
      "_________________________________________________________________\n",
      "None\n",
      "Train on 45000 samples, validate on 15000 samples\n",
      "Epoch 1/50\n",
      "45000/45000 [==============================] - 6s 125us/sample - loss: 0.0166 - mean_squared_error: 0.0166 - r2_keras: 0.5857 - val_loss: 0.0044 - val_mean_squared_error: 0.0044 - val_r2_keras: 0.8904\n",
      "Epoch 2/50\n",
      "45000/45000 [==============================] - 5s 115us/sample - loss: 0.0060 - mean_squared_error: 0.0060 - r2_keras: 0.8498 - val_loss: 0.0036 - val_mean_squared_error: 0.0036 - val_r2_keras: 0.9103\n",
      "Epoch 3/50\n",
      "45000/45000 [==============================] - 5s 117us/sample - loss: 0.0051 - mean_squared_error: 0.0051 - r2_keras: 0.8720 - val_loss: 0.0033 - val_mean_squared_error: 0.0033 - val_r2_keras: 0.9176\n",
      "Epoch 4/50\n",
      "45000/45000 [==============================] - 5s 104us/sample - loss: 0.0047 - mean_squared_error: 0.0047 - r2_keras: 0.8832\n"
     ]
    },
    {
     "ename": "KeyboardInterrupt",
     "evalue": "",
     "output_type": "error",
     "traceback": [
      "\u001b[0;31m---------------------------------------------------------------------------\u001b[0m",
      "\u001b[0;31mKeyboardInterrupt\u001b[0m                         Traceback (most recent call last)",
      "\u001b[0;32m<ipython-input-65-6f893e1d1288>\u001b[0m in \u001b[0;36m<module>\u001b[0;34m\u001b[0m\n\u001b[1;32m     58\u001b[0m               \u001b[0mepochs\u001b[0m\u001b[0;34m=\u001b[0m\u001b[0;36m50\u001b[0m\u001b[0;34m,\u001b[0m\u001b[0;34m\u001b[0m\u001b[0;34m\u001b[0m\u001b[0m\n\u001b[1;32m     59\u001b[0m               \u001b[0mverbose\u001b[0m\u001b[0;34m=\u001b[0m\u001b[0;36m1\u001b[0m\u001b[0;34m,\u001b[0m\u001b[0;34m\u001b[0m\u001b[0;34m\u001b[0m\u001b[0m\n\u001b[0;32m---> 60\u001b[0;31m               validation_data=(X_test_top, dock_score_test))\n\u001b[0m\u001b[1;32m     61\u001b[0m \u001b[0;34m\u001b[0m\u001b[0m\n\u001b[1;32m     62\u001b[0m     \u001b[0;31m# Plot training & validation loss values\u001b[0m\u001b[0;34m\u001b[0m\u001b[0;34m\u001b[0m\u001b[0;34m\u001b[0m\u001b[0m\n",
      "\u001b[0;32m/vol/ml/shahashka/anaconda3/envs/ml-fragment/lib/python3.7/site-packages/tensorflow_core/python/keras/engine/training.py\u001b[0m in \u001b[0;36mfit\u001b[0;34m(self, x, y, batch_size, epochs, verbose, callbacks, validation_split, validation_data, shuffle, class_weight, sample_weight, initial_epoch, steps_per_epoch, validation_steps, validation_freq, max_queue_size, workers, use_multiprocessing, **kwargs)\u001b[0m\n\u001b[1;32m    817\u001b[0m         \u001b[0mmax_queue_size\u001b[0m\u001b[0;34m=\u001b[0m\u001b[0mmax_queue_size\u001b[0m\u001b[0;34m,\u001b[0m\u001b[0;34m\u001b[0m\u001b[0;34m\u001b[0m\u001b[0m\n\u001b[1;32m    818\u001b[0m         \u001b[0mworkers\u001b[0m\u001b[0;34m=\u001b[0m\u001b[0mworkers\u001b[0m\u001b[0;34m,\u001b[0m\u001b[0;34m\u001b[0m\u001b[0;34m\u001b[0m\u001b[0m\n\u001b[0;32m--> 819\u001b[0;31m         use_multiprocessing=use_multiprocessing)\n\u001b[0m\u001b[1;32m    820\u001b[0m \u001b[0;34m\u001b[0m\u001b[0m\n\u001b[1;32m    821\u001b[0m   def evaluate(self,\n",
      "\u001b[0;32m/vol/ml/shahashka/anaconda3/envs/ml-fragment/lib/python3.7/site-packages/tensorflow_core/python/keras/engine/training_v2.py\u001b[0m in \u001b[0;36mfit\u001b[0;34m(self, model, x, y, batch_size, epochs, verbose, callbacks, validation_split, validation_data, shuffle, class_weight, sample_weight, initial_epoch, steps_per_epoch, validation_steps, validation_freq, max_queue_size, workers, use_multiprocessing, **kwargs)\u001b[0m\n\u001b[1;32m    393\u001b[0m                       \u001b[0mmode\u001b[0m\u001b[0;34m=\u001b[0m\u001b[0mModeKeys\u001b[0m\u001b[0;34m.\u001b[0m\u001b[0mTEST\u001b[0m\u001b[0;34m,\u001b[0m\u001b[0;34m\u001b[0m\u001b[0;34m\u001b[0m\u001b[0m\n\u001b[1;32m    394\u001b[0m                       \u001b[0mtraining_context\u001b[0m\u001b[0;34m=\u001b[0m\u001b[0meval_context\u001b[0m\u001b[0;34m,\u001b[0m\u001b[0;34m\u001b[0m\u001b[0;34m\u001b[0m\u001b[0m\n\u001b[0;32m--> 395\u001b[0;31m                       total_epochs=1)\n\u001b[0m\u001b[1;32m    396\u001b[0m                   cbks.make_logs(model, epoch_logs, eval_result, ModeKeys.TEST,\n\u001b[1;32m    397\u001b[0m                                  prefix='val_')\n",
      "\u001b[0;32m/vol/ml/shahashka/anaconda3/envs/ml-fragment/lib/python3.7/site-packages/tensorflow_core/python/keras/engine/training_v2.py\u001b[0m in \u001b[0;36mrun_one_epoch\u001b[0;34m(model, iterator, execution_function, dataset_size, batch_size, strategy, steps_per_epoch, num_samples, mode, training_context, total_epochs)\u001b[0m\n\u001b[1;32m    126\u001b[0m         step=step, mode=mode, size=current_batch_size) as batch_logs:\n\u001b[1;32m    127\u001b[0m       \u001b[0;32mtry\u001b[0m\u001b[0;34m:\u001b[0m\u001b[0;34m\u001b[0m\u001b[0;34m\u001b[0m\u001b[0m\n\u001b[0;32m--> 128\u001b[0;31m         \u001b[0mbatch_outs\u001b[0m \u001b[0;34m=\u001b[0m \u001b[0mexecution_function\u001b[0m\u001b[0;34m(\u001b[0m\u001b[0miterator\u001b[0m\u001b[0;34m)\u001b[0m\u001b[0;34m\u001b[0m\u001b[0;34m\u001b[0m\u001b[0m\n\u001b[0m\u001b[1;32m    129\u001b[0m       \u001b[0;32mexcept\u001b[0m \u001b[0;34m(\u001b[0m\u001b[0mStopIteration\u001b[0m\u001b[0;34m,\u001b[0m \u001b[0merrors\u001b[0m\u001b[0;34m.\u001b[0m\u001b[0mOutOfRangeError\u001b[0m\u001b[0;34m)\u001b[0m\u001b[0;34m:\u001b[0m\u001b[0;34m\u001b[0m\u001b[0;34m\u001b[0m\u001b[0m\n\u001b[1;32m    130\u001b[0m         \u001b[0;31m# TODO(kaftan): File bug about tf function and errors.OutOfRangeError?\u001b[0m\u001b[0;34m\u001b[0m\u001b[0;34m\u001b[0m\u001b[0;34m\u001b[0m\u001b[0m\n",
      "\u001b[0;32m/vol/ml/shahashka/anaconda3/envs/ml-fragment/lib/python3.7/site-packages/tensorflow_core/python/keras/engine/training_v2_utils.py\u001b[0m in \u001b[0;36mexecution_function\u001b[0;34m(input_fn)\u001b[0m\n\u001b[1;32m     96\u001b[0m     \u001b[0;31m# `numpy` translates Tensors to values in Eager mode.\u001b[0m\u001b[0;34m\u001b[0m\u001b[0;34m\u001b[0m\u001b[0;34m\u001b[0m\u001b[0m\n\u001b[1;32m     97\u001b[0m     return nest.map_structure(_non_none_constant_value,\n\u001b[0;32m---> 98\u001b[0;31m                               distributed_function(input_fn))\n\u001b[0m\u001b[1;32m     99\u001b[0m \u001b[0;34m\u001b[0m\u001b[0m\n\u001b[1;32m    100\u001b[0m   \u001b[0;32mreturn\u001b[0m \u001b[0mexecution_function\u001b[0m\u001b[0;34m\u001b[0m\u001b[0;34m\u001b[0m\u001b[0m\n",
      "\u001b[0;32m/vol/ml/shahashka/anaconda3/envs/ml-fragment/lib/python3.7/site-packages/tensorflow_core/python/eager/def_function.py\u001b[0m in \u001b[0;36m__call__\u001b[0;34m(self, *args, **kwds)\u001b[0m\n\u001b[1;32m    566\u001b[0m         \u001b[0mxla_context\u001b[0m\u001b[0;34m.\u001b[0m\u001b[0mExit\u001b[0m\u001b[0;34m(\u001b[0m\u001b[0;34m)\u001b[0m\u001b[0;34m\u001b[0m\u001b[0;34m\u001b[0m\u001b[0m\n\u001b[1;32m    567\u001b[0m     \u001b[0;32melse\u001b[0m\u001b[0;34m:\u001b[0m\u001b[0;34m\u001b[0m\u001b[0;34m\u001b[0m\u001b[0m\n\u001b[0;32m--> 568\u001b[0;31m       \u001b[0mresult\u001b[0m \u001b[0;34m=\u001b[0m \u001b[0mself\u001b[0m\u001b[0;34m.\u001b[0m\u001b[0m_call\u001b[0m\u001b[0;34m(\u001b[0m\u001b[0;34m*\u001b[0m\u001b[0margs\u001b[0m\u001b[0;34m,\u001b[0m \u001b[0;34m**\u001b[0m\u001b[0mkwds\u001b[0m\u001b[0;34m)\u001b[0m\u001b[0;34m\u001b[0m\u001b[0;34m\u001b[0m\u001b[0m\n\u001b[0m\u001b[1;32m    569\u001b[0m \u001b[0;34m\u001b[0m\u001b[0m\n\u001b[1;32m    570\u001b[0m     \u001b[0;32mif\u001b[0m \u001b[0mtracing_count\u001b[0m \u001b[0;34m==\u001b[0m \u001b[0mself\u001b[0m\u001b[0;34m.\u001b[0m\u001b[0m_get_tracing_count\u001b[0m\u001b[0;34m(\u001b[0m\u001b[0;34m)\u001b[0m\u001b[0;34m:\u001b[0m\u001b[0;34m\u001b[0m\u001b[0;34m\u001b[0m\u001b[0m\n",
      "\u001b[0;32m/vol/ml/shahashka/anaconda3/envs/ml-fragment/lib/python3.7/site-packages/tensorflow_core/python/eager/def_function.py\u001b[0m in \u001b[0;36m_call\u001b[0;34m(self, *args, **kwds)\u001b[0m\n\u001b[1;32m    604\u001b[0m       \u001b[0;31m# In this case we have not created variables on the first call. So we can\u001b[0m\u001b[0;34m\u001b[0m\u001b[0;34m\u001b[0m\u001b[0;34m\u001b[0m\u001b[0m\n\u001b[1;32m    605\u001b[0m       \u001b[0;31m# run the first trace but we should fail if variables are created.\u001b[0m\u001b[0;34m\u001b[0m\u001b[0;34m\u001b[0m\u001b[0;34m\u001b[0m\u001b[0m\n\u001b[0;32m--> 606\u001b[0;31m       \u001b[0mresults\u001b[0m \u001b[0;34m=\u001b[0m \u001b[0mself\u001b[0m\u001b[0;34m.\u001b[0m\u001b[0m_stateful_fn\u001b[0m\u001b[0;34m(\u001b[0m\u001b[0;34m*\u001b[0m\u001b[0margs\u001b[0m\u001b[0;34m,\u001b[0m \u001b[0;34m**\u001b[0m\u001b[0mkwds\u001b[0m\u001b[0;34m)\u001b[0m\u001b[0;34m\u001b[0m\u001b[0;34m\u001b[0m\u001b[0m\n\u001b[0m\u001b[1;32m    607\u001b[0m       \u001b[0;32mif\u001b[0m \u001b[0mself\u001b[0m\u001b[0;34m.\u001b[0m\u001b[0m_created_variables\u001b[0m\u001b[0;34m:\u001b[0m\u001b[0;34m\u001b[0m\u001b[0;34m\u001b[0m\u001b[0m\n\u001b[1;32m    608\u001b[0m         raise ValueError(\"Creating variables on a non-first call to a function\"\n",
      "\u001b[0;32m/vol/ml/shahashka/anaconda3/envs/ml-fragment/lib/python3.7/site-packages/tensorflow_core/python/eager/function.py\u001b[0m in \u001b[0;36m__call__\u001b[0;34m(self, *args, **kwargs)\u001b[0m\n\u001b[1;32m   2361\u001b[0m     \u001b[0;32mwith\u001b[0m \u001b[0mself\u001b[0m\u001b[0;34m.\u001b[0m\u001b[0m_lock\u001b[0m\u001b[0;34m:\u001b[0m\u001b[0;34m\u001b[0m\u001b[0;34m\u001b[0m\u001b[0m\n\u001b[1;32m   2362\u001b[0m       \u001b[0mgraph_function\u001b[0m\u001b[0;34m,\u001b[0m \u001b[0margs\u001b[0m\u001b[0;34m,\u001b[0m \u001b[0mkwargs\u001b[0m \u001b[0;34m=\u001b[0m \u001b[0mself\u001b[0m\u001b[0;34m.\u001b[0m\u001b[0m_maybe_define_function\u001b[0m\u001b[0;34m(\u001b[0m\u001b[0margs\u001b[0m\u001b[0;34m,\u001b[0m \u001b[0mkwargs\u001b[0m\u001b[0;34m)\u001b[0m\u001b[0;34m\u001b[0m\u001b[0;34m\u001b[0m\u001b[0m\n\u001b[0;32m-> 2363\u001b[0;31m     \u001b[0;32mreturn\u001b[0m \u001b[0mgraph_function\u001b[0m\u001b[0;34m.\u001b[0m\u001b[0m_filtered_call\u001b[0m\u001b[0;34m(\u001b[0m\u001b[0margs\u001b[0m\u001b[0;34m,\u001b[0m \u001b[0mkwargs\u001b[0m\u001b[0;34m)\u001b[0m  \u001b[0;31m# pylint: disable=protected-access\u001b[0m\u001b[0;34m\u001b[0m\u001b[0;34m\u001b[0m\u001b[0m\n\u001b[0m\u001b[1;32m   2364\u001b[0m \u001b[0;34m\u001b[0m\u001b[0m\n\u001b[1;32m   2365\u001b[0m   \u001b[0;34m@\u001b[0m\u001b[0mproperty\u001b[0m\u001b[0;34m\u001b[0m\u001b[0;34m\u001b[0m\u001b[0m\n",
      "\u001b[0;32m/vol/ml/shahashka/anaconda3/envs/ml-fragment/lib/python3.7/site-packages/tensorflow_core/python/eager/function.py\u001b[0m in \u001b[0;36m_filtered_call\u001b[0;34m(self, args, kwargs)\u001b[0m\n\u001b[1;32m   1609\u001b[0m          if isinstance(t, (ops.Tensor,\n\u001b[1;32m   1610\u001b[0m                            resource_variable_ops.BaseResourceVariable))),\n\u001b[0;32m-> 1611\u001b[0;31m         self.captured_inputs)\n\u001b[0m\u001b[1;32m   1612\u001b[0m \u001b[0;34m\u001b[0m\u001b[0m\n\u001b[1;32m   1613\u001b[0m   \u001b[0;32mdef\u001b[0m \u001b[0m_call_flat\u001b[0m\u001b[0;34m(\u001b[0m\u001b[0mself\u001b[0m\u001b[0;34m,\u001b[0m \u001b[0margs\u001b[0m\u001b[0;34m,\u001b[0m \u001b[0mcaptured_inputs\u001b[0m\u001b[0;34m,\u001b[0m \u001b[0mcancellation_manager\u001b[0m\u001b[0;34m=\u001b[0m\u001b[0;32mNone\u001b[0m\u001b[0;34m)\u001b[0m\u001b[0;34m:\u001b[0m\u001b[0;34m\u001b[0m\u001b[0;34m\u001b[0m\u001b[0m\n",
      "\u001b[0;32m/vol/ml/shahashka/anaconda3/envs/ml-fragment/lib/python3.7/site-packages/tensorflow_core/python/eager/function.py\u001b[0m in \u001b[0;36m_call_flat\u001b[0;34m(self, args, captured_inputs, cancellation_manager)\u001b[0m\n\u001b[1;32m   1690\u001b[0m       \u001b[0;31m# No tape is watching; skip to running the function.\u001b[0m\u001b[0;34m\u001b[0m\u001b[0;34m\u001b[0m\u001b[0;34m\u001b[0m\u001b[0m\n\u001b[1;32m   1691\u001b[0m       return self._build_call_outputs(self._inference_function.call(\n\u001b[0;32m-> 1692\u001b[0;31m           ctx, args, cancellation_manager=cancellation_manager))\n\u001b[0m\u001b[1;32m   1693\u001b[0m     forward_backward = self._select_forward_and_backward_functions(\n\u001b[1;32m   1694\u001b[0m         \u001b[0margs\u001b[0m\u001b[0;34m,\u001b[0m\u001b[0;34m\u001b[0m\u001b[0;34m\u001b[0m\u001b[0m\n",
      "\u001b[0;32m/vol/ml/shahashka/anaconda3/envs/ml-fragment/lib/python3.7/site-packages/tensorflow_core/python/eager/function.py\u001b[0m in \u001b[0;36mcall\u001b[0;34m(self, ctx, args, cancellation_manager)\u001b[0m\n\u001b[1;32m    543\u001b[0m               \u001b[0minputs\u001b[0m\u001b[0;34m=\u001b[0m\u001b[0margs\u001b[0m\u001b[0;34m,\u001b[0m\u001b[0;34m\u001b[0m\u001b[0;34m\u001b[0m\u001b[0m\n\u001b[1;32m    544\u001b[0m               \u001b[0mattrs\u001b[0m\u001b[0;34m=\u001b[0m\u001b[0;34m(\u001b[0m\u001b[0;34m\"executor_type\"\u001b[0m\u001b[0;34m,\u001b[0m \u001b[0mexecutor_type\u001b[0m\u001b[0;34m,\u001b[0m \u001b[0;34m\"config_proto\"\u001b[0m\u001b[0;34m,\u001b[0m \u001b[0mconfig\u001b[0m\u001b[0;34m)\u001b[0m\u001b[0;34m,\u001b[0m\u001b[0;34m\u001b[0m\u001b[0;34m\u001b[0m\u001b[0m\n\u001b[0;32m--> 545\u001b[0;31m               ctx=ctx)\n\u001b[0m\u001b[1;32m    546\u001b[0m         \u001b[0;32melse\u001b[0m\u001b[0;34m:\u001b[0m\u001b[0;34m\u001b[0m\u001b[0;34m\u001b[0m\u001b[0m\n\u001b[1;32m    547\u001b[0m           outputs = execute.execute_with_cancellation(\n",
      "\u001b[0;32m/vol/ml/shahashka/anaconda3/envs/ml-fragment/lib/python3.7/site-packages/tensorflow_core/python/eager/execute.py\u001b[0m in \u001b[0;36mquick_execute\u001b[0;34m(op_name, num_outputs, inputs, attrs, ctx, name)\u001b[0m\n\u001b[1;32m     59\u001b[0m     tensors = pywrap_tensorflow.TFE_Py_Execute(ctx._handle, device_name,\n\u001b[1;32m     60\u001b[0m                                                \u001b[0mop_name\u001b[0m\u001b[0;34m,\u001b[0m \u001b[0minputs\u001b[0m\u001b[0;34m,\u001b[0m \u001b[0mattrs\u001b[0m\u001b[0;34m,\u001b[0m\u001b[0;34m\u001b[0m\u001b[0;34m\u001b[0m\u001b[0m\n\u001b[0;32m---> 61\u001b[0;31m                                                num_outputs)\n\u001b[0m\u001b[1;32m     62\u001b[0m   \u001b[0;32mexcept\u001b[0m \u001b[0mcore\u001b[0m\u001b[0;34m.\u001b[0m\u001b[0m_NotOkStatusException\u001b[0m \u001b[0;32mas\u001b[0m \u001b[0me\u001b[0m\u001b[0;34m:\u001b[0m\u001b[0;34m\u001b[0m\u001b[0;34m\u001b[0m\u001b[0m\n\u001b[1;32m     63\u001b[0m     \u001b[0;32mif\u001b[0m \u001b[0mname\u001b[0m \u001b[0;32mis\u001b[0m \u001b[0;32mnot\u001b[0m \u001b[0;32mNone\u001b[0m\u001b[0;34m:\u001b[0m\u001b[0;34m\u001b[0m\u001b[0;34m\u001b[0m\u001b[0m\n",
      "\u001b[0;31mKeyboardInterrupt\u001b[0m: "
     ]
    }
   ],
   "source": [
    "X_adrp = images_adrp[:,:,:,2:4]\n",
    "y=df_adrp\n",
    "columns = [ 'CG3:Steric', 'CG3:Clash', 'CG3:ProDesolv', 'CG3:LigDesolv',\n",
    "       'CG3:LigDesolvHB', 'CG4:HB', 'Chemgauss4']\n",
    "subsets = [ ['CG3:Steric', 'CG3:Clash', 'CG4:HB'], ['CG3:ProDesolv', 'CG3:LigDesolv',\n",
    "       'CG3:LigDesolvHB'], ['Chemgauss4']]\n",
    "total = ['Chemgauss4']\n",
    "for c in total:\n",
    "    print(c)\n",
    "    isList = isinstance(c,list)\n",
    "    df_new = y.copy(deep=True)\n",
    "    scaler = MinMaxScaler()\n",
    "    dock_score = np.abs(df_new[c].to_numpy())\n",
    "    if isList:\n",
    "        dock_score = scaler.fit_transform(np.sum(dock_score,axis=-1).reshape(-1,1))\n",
    "    else:\n",
    "        dock_score = scaler.fit_transform(dock_score.reshape(-1,1))\n",
    "    df_new['score'] = dock_score    \n",
    "    \n",
    "    X_train_top, X_test_top, y_train_top, y_test_top = train_test_split(X_adrp, df_new, test_size=0.25,\n",
    "                                                         shuffle=True)        \n",
    "\n",
    "    dock_score_train= y_train_top['score'].to_numpy()\n",
    "    dock_score_test = y_test_top['score'].to_numpy()\n",
    "    plt_train=scaler.inverse_transform(dock_score_train.reshape(-1,1))\n",
    "    plt_test=scaler.inverse_transform(dock_score_test.reshape(-1,1))\n",
    "        \n",
    "    # plot train/test split\n",
    "    plt.hist(plt_train, alpha=0.5, label='train')\n",
    "    plt.hist(plt_test,alpha=1, label='test')\n",
    "    plt.legend()\n",
    "    plt.show()\n",
    "    \n",
    "    # model stuff\n",
    "    dr = 0.1\n",
    "    model = Sequential()\n",
    "    model.add(Conv2D(8, kernel_size=(6, 6),\n",
    "                     activation='relu',\n",
    "                     input_shape=(64,64,2)))\n",
    "    model.add(Conv2D(32, (3, 3), activation='relu'))\n",
    "    model.add(Conv2D(32, (3, 3), activation='relu'))\n",
    "    model.add(MaxPooling2D(pool_size=(2,2)))\n",
    "    model.add(Dropout(dr))\n",
    "    model.add(Flatten())\n",
    "#     model.add(Dense(128, activation='relu'))\n",
    "#     model.add(Dense(64, activation='relu'))\n",
    "#     model.add(Dropout(dr))\n",
    "    model.add(Dense(64, activation='relu'))\n",
    "    model.add(Dropout(dr))\n",
    "    model.add(Dense(1))\n",
    "\n",
    "    model.compile(loss=tf.keras.losses.mean_squared_error,\n",
    "                  optimizer=tf.keras.optimizers.Adam(lr=1e-5),\n",
    "                  metrics=['mean_squared_error', r2_keras])\n",
    "    print(model.summary())\n",
    "    history = model.fit(X_train_top, dock_score_train,\n",
    "              batch_size=64,\n",
    "              epochs=50,\n",
    "              verbose=1,\n",
    "              validation_data=(X_test_top, dock_score_test))\n",
    "    \n",
    "    # Plot training & validation loss values\n",
    "    plt.plot(history.history['r2_keras'])\n",
    "    plt.plot(history.history['val_r2_keras'])\n",
    "    plt.title('Model r2 ' + ', '.join(c))\n",
    "    plt.ylabel('r2')\n",
    "    plt.xlabel('Epoch')\n",
    "    plt.legend(['Train', 'Test'], loc='upper left')\n",
    "    plt.show()\n",
    "\n",
    "    plt.plot(history.history['loss'])\n",
    "    plt.plot(history.history['val_loss'])\n",
    "    plt.title('Model loss ' + ', '.join(c))\n",
    "    plt.ylabel('Loss')\n",
    "\n",
    "    plt.xlabel('Epoch')\n",
    "    plt.legend(['Train', 'Test'], loc='upper left')\n",
    "    plt.show()\n",
    "    \n",
    "    y_pred = model.predict(X_test_top)\n",
    "    y_pred_inv = scaler.inverse_transform(y_pred)\n",
    "    y_test_inv = scaler.inverse_transform(dock_score_test.reshape(-1,1))\n",
    "\n",
    "    print(\"r2\", r2_score(y_test_inv, y_pred_inv))\n",
    "    print(\"pearson\", pearsonr(y_test_inv.flatten(),y_pred_inv.flatten()))\n",
    "    print(\"spearman\", spearmanr(y_test_inv.flatten(),y_pred_inv.flatten()))\n",
    "    print(\"MSE actual\", mean_squared_error(y_test_inv, y_pred_inv))\n",
    "\n",
    "    plt.hist(y_test_inv, alpha=0.5, label=\"test\")\n",
    "    plt.hist(y_pred_inv,alpha=0.5, label=\"pred\")\n",
    "    plt.legend()\n",
    "    plt.show()"
   ]
  },
  {
   "cell_type": "code",
   "execution_count": null,
   "metadata": {},
   "outputs": [],
   "source": [
    "print(np.max(y_pred_inv))\n",
    "print(np.max(y_test_inv))"
   ]
  },
  {
   "cell_type": "code",
   "execution_count": 66,
   "metadata": {},
   "outputs": [],
   "source": [
    "top_pred = y_test_top.iloc[np.argsort(y_pred_inv.flatten())[-1000:]][['SMILES']].to_numpy()\n",
    "top_true = y_test_top.iloc[np.argsort(y_test_inv.flatten())[-1000:]][['SMILES']].to_numpy()"
   ]
  },
  {
   "cell_type": "code",
   "execution_count": 67,
   "metadata": {},
   "outputs": [
    {
     "name": "stdout",
     "output_type": "stream",
     "text": [
      "357\n"
     ]
    }
   ],
   "source": [
    "check = []\n",
    "for i in range(top_pred.shape[0]):\n",
    "    check.append(top_pred[i] in top_true)\n",
    "print(np.sum(check))"
   ]
  },
  {
   "cell_type": "code",
   "execution_count": null,
   "metadata": {},
   "outputs": [],
   "source": []
  }
 ],
 "metadata": {
  "kernelspec": {
   "display_name": "Python 3",
   "language": "python",
   "name": "python3"
  },
  "language_info": {
   "codemirror_mode": {
    "name": "ipython",
    "version": 3
   },
   "file_extension": ".py",
   "mimetype": "text/x-python",
   "name": "python",
   "nbconvert_exporter": "python",
   "pygments_lexer": "ipython3",
   "version": "3.7.7"
  }
 },
 "nbformat": 4,
 "nbformat_minor": 4
}
