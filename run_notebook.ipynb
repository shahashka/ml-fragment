{
 "cells": [
  {
   "cell_type": "code",
   "execution_count": 1,
   "metadata": {},
   "outputs": [],
   "source": [
    "import mdtraj as md\n",
    "import numpy as np\n",
    "from pymol import cmd\n",
    "from pymol import stored\n",
    "import matplotlib.pyplot as plt\n",
    "import itertools\n",
    "import warnings\n",
    "import multiprocessing\n",
    "from tqdm import tqdm\n",
    "import cv2\n",
    "import os\n",
    "import warnings\n",
    "warnings.filterwarnings('ignore')\n",
    "import pickle\n",
    "import pandas as pd\n",
    "import glob"
   ]
  },
  {
   "cell_type": "code",
   "execution_count": 2,
   "metadata": {},
   "outputs": [],
   "source": [
    "import tensorflow as tf\n",
    "from tensorflow.keras.models import Sequential\n",
    "from tensorflow.keras.layers import Dense, Dropout, Flatten\n",
    "from tensorflow.keras.layers import Conv2D, MaxPooling2D, BatchNormalization\n",
    "import matplotlib.pyplot as plt\n",
    "from sklearn.preprocessing import MinMaxScaler, StandardScaler\n",
    "from sklearn.model_selection import train_test_split\n",
    "os.environ[\"CUDA_VISIBLE_DEVICES\"]=\"3\"\n"
   ]
  },
  {
   "cell_type": "code",
   "execution_count": 3,
   "metadata": {},
   "outputs": [],
   "source": [
    "def save_pocket(pdb, sdf, name):\n",
    "    cmd.reinitialize()\n",
    "    cmd.load(pdb)\n",
    "    cmd.load(sdf, \"LIG\")\n",
    "    cmd.select(\"POCK\",\"br. LIG around 4\")\n",
    "    stored.idx = 0\n",
    "    cmd.iterate(\"POCK and n. CA\", expression=\"stored.idx+=1\")\n",
    "    cmd.save(name, \"POCK\")\n",
    "    return stored.idx"
   ]
  },
  {
   "cell_type": "code",
   "execution_count": 5,
   "metadata": {},
   "outputs": [],
   "source": [
    "# dict_aa = {'CYS': 0, 'ASP': 1, 'SER': 2, 'GLN': 3, 'LYS': 4,\n",
    "#      'ILE': 5, 'PRO': 6, 'THR': 7, 'PHE': 8, 'ASN': 9, \n",
    "#      'GLY': 10, 'HIS': 11, 'LEU': 12, 'ARG': 13, 'TRP': 14, \n",
    "#      'ALA': 15, 'VAL':16, 'GLU': 17, 'TYR': 18, 'MET': 19}\n",
    "\n",
    "# dict_element = {\"H\": 20, \"I\":21,\n",
    "#        \"N\": 22,\n",
    "#        \"P\":23,\n",
    "#        \"C\": 24,\n",
    "#        \"O\":25,\n",
    "#        \"F\": 26,\n",
    "#        \"S\": 27,\n",
    "#        \"Li\": 28,\n",
    "#        \"Cl\": 29,\n",
    "#        \"Br\": 30}\n",
    "\n",
    "aa_hscale = {\n",
    "\"ALA\":  0.620,\n",
    "\"ARG\": -2.530,\n",
    "\"ASN\": -0.780,\n",
    "\"ASP\": -0.900,\n",
    "\"CYS\":  0.290,\n",
    "\"GLN\": -0.850,\n",
    "\"GLU\": -0.740,\n",
    "\"GLY\":  0.480,\n",
    "\"HIS\": -0.400,\n",
    "\"ILE\":  1.380,\n",
    "\"LEU\":  1.060,\n",
    "\"LYS\": -1.500,\n",
    "\"MET\":  0.640,\n",
    "\"PHE\":  1.190,\n",
    "\"PRO\":  0.120,\n",
    "\"SER\": -0.180,\n",
    "\"THR\": -0.050,\n",
    "\"TRP\":  0.810,\n",
    "\"TYR\":  0.260,\n",
    "\"VAL\":  1.080}\n",
    "\n",
    "element_charge = {\"H\": +1, \"I\":-1,\n",
    "           \"N\": -3,\n",
    "           \"P\":-3,\n",
    "           \"C\": +4,\n",
    "           \"O\":-2,\n",
    "           \"F\": -1,\n",
    "           \"S\": -2,\n",
    "           \"Li\": +1,\n",
    "           \"Cl\": -1,\n",
    "           \"Br\": -1}"
   ]
  },
  {
   "cell_type": "code",
   "execution_count": 8,
   "metadata": {},
   "outputs": [],
   "source": [
    "# convert files into list of strings\n",
    "# for the protein pdb and ligand sdf \n",
    "# (states are separated by $$$$)\n",
    "def stringify(sdf, pdb, num_states):\n",
    "    sdf_split = []\n",
    "    with open(sdf,'r') as f:\n",
    "        for key,group in itertools.groupby(f,lambda line: line.startswith('$$$$')):\n",
    "          if not key:\n",
    "            sdf_split.append(\"\".join(list(group)))\n",
    "          if len(sdf_split) == num_states:\n",
    "            break\n",
    "    with open(pdb,'r') as f:\n",
    "        pdb_string = f.readlines()       \n",
    "    return sdf_split, \"\".join(pdb_string)\n",
    "\n",
    "\n",
    "def create_pdb(sdf, pdb_string,i):\n",
    "    lines = sdf.split('\\n')\n",
    "    num_lines = (int)(lines[3].split(' ')[1])\n",
    "    lig = lines[4:4+num_lines-1]\n",
    "    lig = list(filter(lambda x: 'H' not in x, lig))\n",
    "    lig_pdb = list(map(create_line, lig, np.arange(1,len(lig)+1)))\n",
    "    f =  open(\"tmp{0}.pdb\".format(i), 'w+')\n",
    "    f.write(\"\\n\".join(lig_pdb))\n",
    "    f.write(\"\\n\")\n",
    "    f.write(pdb_string)\n",
    "    f.close()\n",
    "\n",
    "# Create one line in the new pdb file for one state\n",
    "# and the protein\n",
    "# Use the standardized pdb regex to create the correct string\n",
    "def create_line(line,i):\n",
    "    split = line.split(' ')\n",
    "    split = list(filter(lambda x: x != '', split))\n",
    "    vals1 = (float)(split[0])\n",
    "    vals2 = (float)(split[1])\n",
    "    vals3= (float)(split[2]) \n",
    "    atom = split[3]\n",
    "\n",
    "    # workaround to get the atoms in the ligand to be residues in mdtraj reader\n",
    "    if i >=10 :\n",
    "        new_string = \"{:6s}{:5d} {:^4s}{:1s}{:3s} {:1s}{:4d}{:1s}   {:8.3f}{:8.3f}{:8.3f}{:6.2f}{:6.2f}          {:>2s}{:2s}\".format(\"HETATM\",i,atom,'',\"U\"+str(i),'',0,'',vals1, vals2,vals3,0,0,atom,'')\n",
    "    else:\n",
    "        new_string = \"{:6s}{:5d} {:^4s}{:1s}{:3s} {:1s}{:4d}{:1s}   {:8.3f}{:8.3f}{:8.3f}{:6.2f}{:6.2f}          {:>2s}{:2s}\".format(\"HETATM\",i,atom,'',\"UN\"+str(i),'',0,'',vals1, vals2,vals3,0,0,atom,'')\n",
    "    return new_string\n",
    "\n",
    "# Create the data for ML model\n",
    "\n",
    "# First array is contact matrix\n",
    "# - ----------------| ligand atoms | protein residues\n",
    "# - ligand atoms    |              | \n",
    "# ------------------|--------------|-----------------\n",
    "# - protein residues|              |\n",
    "#\n",
    "# Second array is a mask for which cells correspond to ligand x ligand (-1), \n",
    "# protein x protein (1) and ligand x protein (0)\n",
    "#\n",
    "# Arrays are interpolated to 80x80\n",
    "def maker_w_strings(data):\n",
    "    i,sdf_state, num_residues, pdb = data\n",
    "    tmp_file = str(id(multiprocessing.current_process()))\n",
    "    create_pdb(sdf_state,pdb,tmp_file) # create the pdb for one states\n",
    "    \n",
    "    # Load the file into mdtraj\n",
    "    t = md.load(\"tmp{0}.pdb\".format(tmp_file))\n",
    "    pl = len(list(t.topology.residues))\n",
    "    resi = np.arange(pl)\n",
    "    pairs = list(itertools.product(resi, resi))\n",
    "    \n",
    "    # compute constacts\n",
    "    matrix, l = md.compute_contacts(t, contacts=pairs, scheme=\"closest-heavy\")\n",
    "    matrix = np.array(matrix).reshape((pl,pl))\n",
    "    \n",
    "    aa_matrix_h = np.zeros((pl, pl))\n",
    "    aa_matrix_v = np.zeros((pl, pl))\n",
    "    resi_list = list(t.topology.residues)\n",
    "    atom_list = list(t.topology.atoms)\n",
    "\n",
    "    for p in range(pl):\n",
    "        r = resi_list[p]\n",
    "        if not str(r).startswith('U'):\n",
    "            aa_matrix_v[:,p]=aa_hscale[r.name]\n",
    "            aa_matrix_h[p]=aa_hscale[r.name]\n",
    "        else:\n",
    "            a = atom_list[p]\n",
    "            aa_matrix_v[:,p] =element_charge[a.name]\n",
    "            aa_matrix_h[p]=element_charge[a.name]\n",
    "            \n",
    "    ### generate protein-ligand mask\n",
    "    mask = np.zeros((pl,pl))\n",
    "    for i in range(pl-num_residues):\n",
    "        for j in range(pl-num_residues):\n",
    "            # ligand\n",
    "            mask[i,j] = -1\n",
    "            \n",
    "    for i in range(pl - num_residues,pl):\n",
    "        for j in range( pl - num_residues,pl):\n",
    "            # protein\n",
    "            mask[i,j] = 1\n",
    "            \n",
    "    p_img = cv2.resize(matrix, dsize=(64, 64), interpolation=cv2.INTER_CUBIC).reshape(64,64,1)\n",
    "    m_img = cv2.resize(mask, dsize=(64, 64), interpolation=cv2.INTER_CUBIC).reshape(64,64,1)\n",
    "    v_img = cv2.resize(aa_matrix_v, dsize=(64, 64), interpolation=cv2.INTER_CUBIC).reshape(64,64,1)\n",
    "    h_img = cv2.resize(aa_matrix_h, dsize=(64, 64), interpolation=cv2.INTER_CUBIC).reshape(64,64,1)\n",
    "\n",
    "    p_contact_matrix = np.concatenate([p_img, m_img, v_img, h_img], axis=-1)\n",
    "    os.remove(\"tmp{0}.pdb\".format(tmp_file))\n",
    "    return p_contact_matrix\n",
    "    "
   ]
  },
  {
   "cell_type": "code",
   "execution_count": 9,
   "metadata": {},
   "outputs": [
    {
     "name": "stdout",
     "output_type": "stream",
     "text": [
      "done creating pocket\n"
     ]
    },
    {
     "name": "stderr",
     "output_type": "stream",
     "text": [
      "100%|██████████| 10000/10000 [00:53<00:00, 187.19it/s]\n"
     ]
    }
   ],
   "source": [
    "maps=[]\n",
    "num_residues = save_pocket(\"adrp_adpr/ADRP_6W02_A_1_H.pdb\", \"adrp_adpr/adrp_adpr_A_cat_sorted_top100.sdf\", \"adrp_adpr/adrp_gen_pocket.pdb\")\n",
    "print(\"done creating pocket\")\n",
    "s, pdb_string = stringify(\"adrp_adpr/adrp_adpr_A_cat_sorted.sdf\", \"adrp_adpr/adrp_gen_pocket.pdb\", 10000)\n",
    "pdb_string = [pdb_string for x in range(len(s))]\n",
    "\n",
    "with multiprocessing.Pool(32) as p:\n",
    "    num_states = len(s)\n",
    "    data = list(zip(range(num_states), s, num_residues*np.ones(num_states,dtype=int), pdb_string))\n",
    "    itern = p.imap(maker_w_strings, data)\n",
    "    for i,p_contact_matrix in enumerate(tqdm(itern, total=num_states)):\n",
    "        maps.append(p_contact_matrix)\n"
   ]
  },
  {
   "cell_type": "code",
   "execution_count": 10,
   "metadata": {},
   "outputs": [
    {
     "name": "stdout",
     "output_type": "stream",
     "text": [
      "(10000, 64, 64, 4)\n"
     ]
    }
   ],
   "source": [
    "images_100k = np.stack(maps,axis=0)\n",
    "print(images_100k.shape)"
   ]
  },
  {
   "cell_type": "code",
   "execution_count": 13,
   "metadata": {},
   "outputs": [
    {
     "data": {
      "text/plain": [
       "<matplotlib.colorbar.Colorbar at 0x7f9f7bd6c810>"
      ]
     },
     "execution_count": 13,
     "metadata": {},
     "output_type": "execute_result"
    },
    {
     "data": {
      "image/png": "[encoded data removed]",
      "text/plain": [
       "<Figure size 432x288 with 2 Axes>"
      ]
     },
     "metadata": {
      "needs_background": "light"
     },
     "output_type": "display_data"
    }
   ],
   "source": [
    "plt.imshow(maps[0][:,:,3])\n",
    "plt.colorbar()"
   ]
  },
  {
   "cell_type": "code",
   "execution_count": 27,
   "metadata": {},
   "outputs": [
    {
     "data": {
      "text/plain": [
       "<matplotlib.colorbar.Colorbar at 0x7f9f783044d0>"
      ]
     },
     "execution_count": 27,
     "metadata": {},
     "output_type": "execute_result"
    },
    {
     "data": {
      "image/png": "[encoded data removed]",
      "text/plain": [
       "<Figure size 432x288 with 2 Axes>"
      ]
     },
     "metadata": {
      "needs_background": "light"
     },
     "output_type": "display_data"
    }
   ],
   "source": [
    "plt.imshow(maps[10][:,:,2])\n",
    "plt.colorbar()"
   ]
  },
  {
   "cell_type": "code",
   "execution_count": 14,
   "metadata": {},
   "outputs": [],
   "source": [
    "scores = pd.read_csv(\"adrp_adpr/adrp_adpr_A_cat_sorted.csv\")[\"Chemgauss4\"]\n",
    "scores = np.clip(-100, 0, scores)\n",
    "scores = np.abs(scores.to_numpy())\n",
    "scaler = MinMaxScaler()\n",
    "scaled_scores = scaler.fit_transform(scores.reshape(-1,1))"
   ]
  },
  {
   "cell_type": "code",
   "execution_count": 53,
   "metadata": {},
   "outputs": [
    {
     "name": "stdout",
     "output_type": "stream",
     "text": [
      "./april27/PLPro/2/PLPRO_2_cat_sorted.matrices.npy ./april27/PLPro/2/PLPRO_2_cat_sorted.scores.npy\n",
      "./april27/PLPro/1/plpro_1_cat_sorted.matrices.npy ./april27/PLPro/1/plpro_1_cat_sorted.scores.npy\n",
      "./april27/NSP15_6w01/2/NSP15_2_6w01_cat_sorted.matrices.npy ./april27/NSP15_6w01/2/NSP15_2_6w01_cat_sorted.scores.npy\n",
      "./april27/NSP15_6w01/1/NSP15_1_6w01_cat_sorted.matrices.npy ./april27/NSP15_6w01/1/NSP15_1_6w01_cat_sorted.scores.npy\n",
      "./april27/NSP15_6vww/1/NSP15_1_6vww_cat_sorted.matrices.npy ./april27/NSP15_6vww/1/NSP15_1_6vww_cat_sorted.scores.npy\n",
      "./april27/NSP15_6vww/2/NSP15_2_6vww_cat_sorted.matrices.npy ./april27/NSP15_6vww/2/NSP15_2_6vww_cat_sorted.scores.npy\n",
      "./april27/3CLPro/1/3CLPro_1_cat_sorted.matrices.npy ./april27/3CLPro/1/3CLPro_1_cat_sorted.scores.npy\n",
      "./april27/3CLPro/2/3CLPro_2_cat_sorted.matrices.npy ./april27/3CLPro/2/3CLPro_2_cat_sorted.scores.npy\n",
      "./april27/3CLPro/3/3CLPro_3_cat_sorted.matrices.npy ./april27/3CLPro/3/3CLPro_3_cat_sorted.scores.npy\n",
      "./april27/ADRP/adrp_adpr_A_cat_sorted.matrices.npy ./april27/ADRP/adrp_adpr_A_cat_sorted.scores.npy\n",
      "./april27/DNMT3A/DNMT3A_chainA_cat_sorted.matrices.npy ./april27/DNMT3A/DNMT3A_chainA_cat_sorted.scores.npy\n",
      "./april27/NSUN2/NSUN2_model_cat_sorted.matrices.npy ./april27/NSUN2/NSUN2_model_cat_sorted.scores.npy\n"
     ]
    }
   ],
   "source": [
    "data_images =[]\n",
    "data_scores = []\n",
    "files_m = glob.glob('./**/*.matrices.npy', recursive=True)\n",
    "files_s = glob.glob('./**/*.scores.npy', recursive=True)\n",
    "for m,s in zip(files_m, files_s):\n",
    "    print(m,s)\n",
    "    data_images.append(np.load(m)[0:5000])\n",
    "    data_scores.append(np.load(s)[0:5000])"
   ]
  },
  {
   "cell_type": "code",
   "execution_count": 54,
   "metadata": {},
   "outputs": [
    {
     "name": "stdout",
     "output_type": "stream",
     "text": [
      "(60000, 64, 64, 4)\n"
     ]
    }
   ],
   "source": [
    "X = np.vstack(data_images)\n",
    "y = np.hstack(data_scores)\n",
    "# X = np.stack(maps,axis=0)\n",
    "print(X.shape)"
   ]
  },
  {
   "cell_type": "code",
   "execution_count": 55,
   "metadata": {},
   "outputs": [],
   "source": [
    "scaler = MinMaxScaler()\n",
    "y = np.clip(-100, 0, y)\n",
    "y = np.abs(y)\n",
    "y_scaled = scaler.fit_transform(y.reshape(-1,1))"
   ]
  },
  {
   "cell_type": "code",
   "execution_count": 56,
   "metadata": {},
   "outputs": [
    {
     "name": "stdout",
     "output_type": "stream",
     "text": [
      "(60000, 64, 64, 4) (60000, 1)\n"
     ]
    }
   ],
   "source": [
    "print(X.shape, y_scaled.shape)"
   ]
  },
  {
   "cell_type": "code",
   "execution_count": 57,
   "metadata": {},
   "outputs": [
    {
     "data": {
      "text/plain": [
       "<matplotlib.legend.Legend at 0x7f9edb6c5a50>"
      ]
     },
     "execution_count": 57,
     "metadata": {},
     "output_type": "execute_result"
    },
    {
     "data": {
      "image/png": "[encoded data removed]",
      "text/plain": [
       "<Figure size 432x288 with 1 Axes>"
      ]
     },
     "metadata": {
      "needs_background": "light"
     },
     "output_type": "display_data"
    }
   ],
   "source": [
    "for i in range(12):\n",
    "    plt.scatter(np.arange(5000), y[5000*i:5000*(i+1)], label=i)\n",
    "plt.legend()    "
   ]
  },
  {
   "cell_type": "code",
   "execution_count": 58,
   "metadata": {},
   "outputs": [
    {
     "name": "stdout",
     "output_type": "stream",
     "text": [
      "(60000, 64, 64, 2)\n"
     ]
    },
    {
     "data": {
      "text/plain": [
       "<matplotlib.image.AxesImage at 0x7f9eda0dd750>"
      ]
     },
     "execution_count": 58,
     "metadata": {},
     "output_type": "execute_result"
    },
    {
     "data": {
      "image/png": "[encoded data removed]",
      "text/plain": [
       "<Figure size 432x288 with 1 Axes>"
      ]
     },
     "metadata": {
      "needs_background": "light"
     },
     "output_type": "display_data"
    }
   ],
   "source": [
    "X_2d = X[:,:,:,0:2]\n",
    "print(X_2d.shape)\n",
    "plt.imshow(X_2d[0][:,:,0])"
   ]
  },
  {
   "cell_type": "code",
   "execution_count": 59,
   "metadata": {},
   "outputs": [
    {
     "name": "stdout",
     "output_type": "stream",
     "text": [
      "(20000, 64, 64, 2) (20000, 1)\n"
     ]
    }
   ],
   "source": [
    "X_bg = np.vstack((X_2d[0:10000], X_2d[20000:30000]))\n",
    "y_bg = np.vstack((y_scaled[0:10000], y_scaled[20000:30000]))\n",
    "print(X_bg.shape, y_bg.shape)\n",
    "X_ro = np.vstack((X_2d[10000:20000], X_2d[30000:40000]))\n",
    "y_ro = np.vstack((y_scaled[10000:20000], y_scaled[30000:40000]))\n",
    "X_1 = X_2d[0:10000]\n",
    "y_1 = y_scaled[0:10000]"
   ]
  },
  {
   "cell_type": "code",
   "execution_count": 93,
   "metadata": {},
   "outputs": [],
   "source": [
    "# X_train, X_test, y_train, y_test = train_test_split(X_set,y_set, test_size=0.25,\n",
    "#                                                      shuffle=True)\n",
    "X_train_top, X_test_top, y_train_top, y_test_top = train_test_split(X, y_scaled, test_size=0.25,\n",
    "                                                     shuffle=True)"
   ]
  },
  {
   "cell_type": "code",
   "execution_count": 94,
   "metadata": {},
   "outputs": [],
   "source": [
    "# X_train_3d = np.array([ np.concatenate((X_train_top[i],np.expand_dims(X_train_top[i][:,:,0], axis=-1)), axis=-1) for i in range(X_train_top.shape[0])])\n",
    "# print(X_train_3d.shape)\n",
    "# X_test_3d = np.array([ np.concatenate((X_test_top[i],np.expand_dims(X_test_top[i][:,:,0], axis=-1)), axis=-1) for i in range(X_test_top.shape[0])])\n",
    "# print(X_test_3d.shape)"
   ]
  },
  {
   "cell_type": "code",
   "execution_count": 95,
   "metadata": {},
   "outputs": [
    {
     "data": {
      "text/plain": [
       "<matplotlib.legend.Legend at 0x7f9ed7db2a90>"
      ]
     },
     "execution_count": 95,
     "metadata": {},
     "output_type": "execute_result"
    },
    {
     "data": {
      "image/png": "[encoded data removed]",
      "text/plain": [
       "<Figure size 432x288 with 1 Axes>"
      ]
     },
     "metadata": {
      "needs_background": "light"
     },
     "output_type": "display_data"
    }
   ],
   "source": [
    "plt.hist(scaler.inverse_transform(y_train_top), alpha=0.5, label='train')\n",
    "plt.hist(scaler.inverse_transform(y_test_top),alpha=1, label='test')\n",
    "#plt.hist(scores,alpha=0.25, label='100k scores')\n",
    "plt.legend()"
   ]
  },
  {
   "cell_type": "code",
   "execution_count": 96,
   "metadata": {},
   "outputs": [],
   "source": [
    "def adapt_learning_rate(epoch):\n",
    "    return 1e-3 * epoch\n",
    "my_lr_scheduler = tf.keras.callbacks.LearningRateScheduler(adapt_learning_rate)"
   ]
  },
  {
   "cell_type": "code",
   "execution_count": 97,
   "metadata": {},
   "outputs": [],
   "source": [
    "def r2_keras(y_true, y_pred):\n",
    "    from tensorflow.keras import backend as K\n",
    "    SS_res =  K.sum(K.square(y_true - y_pred)) \n",
    "    SS_tot = K.sum(K.square(y_true - K.mean(y_true))) \n",
    "    return ( 1 - SS_res/(SS_tot + K.epsilon()) )"
   ]
  },
  {
   "cell_type": "code",
   "execution_count": 98,
   "metadata": {},
   "outputs": [],
   "source": [
    "# from tensorflow.keras.preprocessing.image import ImageDataGenerator\n",
    "# # applying transformation to image\n",
    "# train_gen = ImageDataGenerator(rotation_range=180)\n",
    "# test_gen = ImageDataGenerator()\n",
    "# training_set= train_gen.flow(X_train_3d, y_train_top, batch_size=64)\n",
    "# test_set= train_gen.flow(X_test_3d, y_test_top, batch_size=64)"
   ]
  },
  {
   "cell_type": "code",
   "execution_count": 99,
   "metadata": {
    "scrolled": false
   },
   "outputs": [
    {
     "name": "stdout",
     "output_type": "stream",
     "text": [
      "Model: \"sequential_5\"\n",
      "_________________________________________________________________\n",
      "Layer (type)                 Output Shape              Param #   \n",
      "=================================================================\n",
      "conv2d_15 (Conv2D)           (None, 59, 59, 8)         1160      \n",
      "_________________________________________________________________\n",
      "conv2d_16 (Conv2D)           (None, 57, 57, 32)        2336      \n",
      "_________________________________________________________________\n",
      "conv2d_17 (Conv2D)           (None, 55, 55, 32)        9248      \n",
      "_________________________________________________________________\n",
      "max_pooling2d_5 (MaxPooling2 (None, 27, 27, 32)        0         \n",
      "_________________________________________________________________\n",
      "dropout_15 (Dropout)         (None, 27, 27, 32)        0         \n",
      "_________________________________________________________________\n",
      "flatten_5 (Flatten)          (None, 23328)             0         \n",
      "_________________________________________________________________\n",
      "dense_15 (Dense)             (None, 64)                1493056   \n",
      "_________________________________________________________________\n",
      "dropout_16 (Dropout)         (None, 64)                0         \n",
      "_________________________________________________________________\n",
      "dense_16 (Dense)             (None, 64)                4160      \n",
      "_________________________________________________________________\n",
      "dropout_17 (Dropout)         (None, 64)                0         \n",
      "_________________________________________________________________\n",
      "dense_17 (Dense)             (None, 1)                 65        \n",
      "=================================================================\n",
      "Total params: 1,510,025\n",
      "Trainable params: 1,510,025\n",
      "Non-trainable params: 0\n",
      "_________________________________________________________________\n",
      "None\n",
      "Train on 45000 samples, validate on 15000 samples\n",
      "Epoch 1/50\n",
      "45000/45000 [==============================] - 8s 169us/sample - loss: 0.0389 - mean_squared_error: 0.0389 - r2_keras: 0.0387 - val_loss: 0.0093 - val_mean_squared_error: 0.0093 - val_r2_keras: 0.7687\n",
      "Epoch 2/50\n",
      "45000/45000 [==============================] - 7s 145us/sample - loss: 0.0129 - mean_squared_error: 0.0129 - r2_keras: 0.6780 - val_loss: 0.0086 - val_mean_squared_error: 0.0086 - val_r2_keras: 0.7875\n",
      "Epoch 3/50\n",
      "45000/45000 [==============================] - 7s 149us/sample - loss: 0.0092 - mean_squared_error: 0.0092 - r2_keras: 0.7691 - val_loss: 0.0047 - val_mean_squared_error: 0.0047 - val_r2_keras: 0.8845\n",
      "Epoch 4/50\n",
      "45000/45000 [==============================] - 7s 149us/sample - loss: 0.0076 - mean_squared_error: 0.0076 - r2_keras: 0.8114 - val_loss: 0.0042 - val_mean_squared_error: 0.0042 - val_r2_keras: 0.8975\n",
      "Epoch 5/50\n",
      "45000/45000 [==============================] - 7s 152us/sample - loss: 0.0065 - mean_squared_error: 0.0065 - r2_keras: 0.8373 - val_loss: 0.0041 - val_mean_squared_error: 0.0041 - val_r2_keras: 0.8983\n",
      "Epoch 6/50\n",
      "45000/45000 [==============================] - 7s 148us/sample - loss: 0.0059 - mean_squared_error: 0.0059 - r2_keras: 0.8531 - val_loss: 0.0035 - val_mean_squared_error: 0.0035 - val_r2_keras: 0.9133\n",
      "Epoch 7/50\n",
      "45000/45000 [==============================] - 7s 149us/sample - loss: 0.0054 - mean_squared_error: 0.0054 - r2_keras: 0.8664 - val_loss: 0.0038 - val_mean_squared_error: 0.0038 - val_r2_keras: 0.9068\n",
      "Epoch 8/50\n",
      "45000/45000 [==============================] - 7s 146us/sample - loss: 0.0051 - mean_squared_error: 0.0051 - r2_keras: 0.8738 - val_loss: 0.0037 - val_mean_squared_error: 0.0037 - val_r2_keras: 0.9083\n",
      "Epoch 9/50\n",
      "45000/45000 [==============================] - 7s 148us/sample - loss: 0.0047 - mean_squared_error: 0.0047 - r2_keras: 0.8818 - val_loss: 0.0032 - val_mean_squared_error: 0.0032 - val_r2_keras: 0.9201\n",
      "Epoch 10/50\n",
      "45000/45000 [==============================] - 7s 145us/sample - loss: 0.0045 - mean_squared_error: 0.0045 - r2_keras: 0.8866 - val_loss: 0.0031 - val_mean_squared_error: 0.0031 - val_r2_keras: 0.9245\n",
      "Epoch 11/50\n",
      "45000/45000 [==============================] - 6s 144us/sample - loss: 0.0044 - mean_squared_error: 0.0044 - r2_keras: 0.8901 - val_loss: 0.0034 - val_mean_squared_error: 0.0034 - val_r2_keras: 0.9165\n",
      "Epoch 12/50\n",
      "45000/45000 [==============================] - 6s 142us/sample - loss: 0.0042 - mean_squared_error: 0.0042 - r2_keras: 0.8939 - val_loss: 0.0032 - val_mean_squared_error: 0.0032 - val_r2_keras: 0.9213\n",
      "Epoch 13/50\n",
      "45000/45000 [==============================] - 6s 144us/sample - loss: 0.0042 - mean_squared_error: 0.0042 - r2_keras: 0.8963 - val_loss: 0.0029 - val_mean_squared_error: 0.0029 - val_r2_keras: 0.9273\n",
      "Epoch 14/50\n",
      "45000/45000 [==============================] - 6s 144us/sample - loss: 0.0040 - mean_squared_error: 0.0040 - r2_keras: 0.8998 - val_loss: 0.0031 - val_mean_squared_error: 0.0031 - val_r2_keras: 0.9236\n",
      "Epoch 15/50\n",
      "45000/45000 [==============================] - 6s 140us/sample - loss: 0.0040 - mean_squared_error: 0.0040 - r2_keras: 0.9009 - val_loss: 0.0030 - val_mean_squared_error: 0.0030 - val_r2_keras: 0.9260\n",
      "Epoch 16/50\n",
      "45000/45000 [==============================] - 6s 143us/sample - loss: 0.0039 - mean_squared_error: 0.0039 - r2_keras: 0.9026 - val_loss: 0.0031 - val_mean_squared_error: 0.0031 - val_r2_keras: 0.9239\n",
      "Epoch 17/50\n",
      "45000/45000 [==============================] - 6s 144us/sample - loss: 0.0038 - mean_squared_error: 0.0038 - r2_keras: 0.9044 - val_loss: 0.0030 - val_mean_squared_error: 0.0030 - val_r2_keras: 0.9252\n",
      "Epoch 18/50\n",
      "45000/45000 [==============================] - 7s 145us/sample - loss: 0.0038 - mean_squared_error: 0.0038 - r2_keras: 0.9064 - val_loss: 0.0030 - val_mean_squared_error: 0.0030 - val_r2_keras: 0.9253\n",
      "Epoch 19/50\n",
      "45000/45000 [==============================] - 7s 145us/sample - loss: 0.0037 - mean_squared_error: 0.0037 - r2_keras: 0.9065 - val_loss: 0.0031 - val_mean_squared_error: 0.0031 - val_r2_keras: 0.9236\n",
      "Epoch 20/50\n",
      "45000/45000 [==============================] - 6s 143us/sample - loss: 0.0037 - mean_squared_error: 0.0037 - r2_keras: 0.9080 - val_loss: 0.0031 - val_mean_squared_error: 0.0031 - val_r2_keras: 0.9239\n",
      "Epoch 21/50\n",
      "45000/45000 [==============================] - 6s 144us/sample - loss: 0.0036 - mean_squared_error: 0.0036 - r2_keras: 0.9102 - val_loss: 0.0031 - val_mean_squared_error: 0.0031 - val_r2_keras: 0.9236\n",
      "Epoch 22/50\n",
      "45000/45000 [==============================] - 6s 142us/sample - loss: 0.0036 - mean_squared_error: 0.0036 - r2_keras: 0.9113 - val_loss: 0.0031 - val_mean_squared_error: 0.0031 - val_r2_keras: 0.9231\n",
      "Epoch 23/50\n",
      "45000/45000 [==============================] - 6s 143us/sample - loss: 0.0035 - mean_squared_error: 0.0035 - r2_keras: 0.9122 - val_loss: 0.0031 - val_mean_squared_error: 0.0031 - val_r2_keras: 0.9232\n",
      "Epoch 24/50\n",
      "45000/45000 [==============================] - 7s 145us/sample - loss: 0.0035 - mean_squared_error: 0.0035 - r2_keras: 0.9135 - val_loss: 0.0030 - val_mean_squared_error: 0.0030 - val_r2_keras: 0.9249\n",
      "Epoch 25/50\n",
      "45000/45000 [==============================] - 6s 144us/sample - loss: 0.0034 - mean_squared_error: 0.0034 - r2_keras: 0.9140 - val_loss: 0.0030 - val_mean_squared_error: 0.0030 - val_r2_keras: 0.9249\n",
      "Epoch 26/50\n",
      "45000/45000 [==============================] - 6s 140us/sample - loss: 0.0034 - mean_squared_error: 0.0034 - r2_keras: 0.9150 - val_loss: 0.0031 - val_mean_squared_error: 0.0031 - val_r2_keras: 0.9232\n",
      "Epoch 27/50\n",
      "45000/45000 [==============================] - 6s 139us/sample - loss: 0.0034 - mean_squared_error: 0.0034 - r2_keras: 0.9155 - val_loss: 0.0031 - val_mean_squared_error: 0.0031 - val_r2_keras: 0.9223\n",
      "Epoch 28/50\n",
      "45000/45000 [==============================] - 6s 141us/sample - loss: 0.0034 - mean_squared_error: 0.0034 - r2_keras: 0.9154 - val_loss: 0.0031 - val_mean_squared_error: 0.0031 - val_r2_keras: 0.9225\n",
      "Epoch 29/50\n",
      "45000/45000 [==============================] - 6s 141us/sample - loss: 0.0034 - mean_squared_error: 0.0034 - r2_keras: 0.9163 - val_loss: 0.0031 - val_mean_squared_error: 0.0031 - val_r2_keras: 0.9233\n",
      "Epoch 30/50\n",
      "45000/45000 [==============================] - 7s 145us/sample - loss: 0.0033 - mean_squared_error: 0.0033 - r2_keras: 0.9175 - val_loss: 0.0031 - val_mean_squared_error: 0.0031 - val_r2_keras: 0.9243\n"
     ]
    },
    {
     "name": "stdout",
     "output_type": "stream",
     "text": [
      "Epoch 31/50\n",
      "45000/45000 [==============================] - 6s 142us/sample - loss: 0.0033 - mean_squared_error: 0.0033 - r2_keras: 0.9178 - val_loss: 0.0031 - val_mean_squared_error: 0.0031 - val_r2_keras: 0.9237\n",
      "Epoch 32/50\n",
      "45000/45000 [==============================] - 6s 144us/sample - loss: 0.0032 - mean_squared_error: 0.0032 - r2_keras: 0.9194 - val_loss: 0.0031 - val_mean_squared_error: 0.0031 - val_r2_keras: 0.9225\n",
      "Epoch 33/50\n",
      "45000/45000 [==============================] - 6s 142us/sample - loss: 0.0032 - mean_squared_error: 0.0032 - r2_keras: 0.9193 - val_loss: 0.0032 - val_mean_squared_error: 0.0032 - val_r2_keras: 0.9218\n",
      "Epoch 34/50\n",
      "45000/45000 [==============================] - 7s 145us/sample - loss: 0.0032 - mean_squared_error: 0.0032 - r2_keras: 0.9194 - val_loss: 0.0032 - val_mean_squared_error: 0.0032 - val_r2_keras: 0.9214\n",
      "Epoch 35/50\n",
      "45000/45000 [==============================] - 6s 144us/sample - loss: 0.0032 - mean_squared_error: 0.0032 - r2_keras: 0.9192 - val_loss: 0.0032 - val_mean_squared_error: 0.0032 - val_r2_keras: 0.9207\n",
      "Epoch 36/50\n",
      "45000/45000 [==============================] - 6s 144us/sample - loss: 0.0032 - mean_squared_error: 0.0032 - r2_keras: 0.9204 - val_loss: 0.0032 - val_mean_squared_error: 0.0032 - val_r2_keras: 0.9220\n",
      "Epoch 37/50\n",
      "45000/45000 [==============================] - 6s 142us/sample - loss: 0.0031 - mean_squared_error: 0.0031 - r2_keras: 0.9216 - val_loss: 0.0031 - val_mean_squared_error: 0.0031 - val_r2_keras: 0.9231\n",
      "Epoch 38/50\n",
      "45000/45000 [==============================] - 6s 141us/sample - loss: 0.0031 - mean_squared_error: 0.0031 - r2_keras: 0.9221 - val_loss: 0.0031 - val_mean_squared_error: 0.0031 - val_r2_keras: 0.9240\n",
      "Epoch 39/50\n",
      "45000/45000 [==============================] - 6s 144us/sample - loss: 0.0031 - mean_squared_error: 0.0031 - r2_keras: 0.9217 - val_loss: 0.0032 - val_mean_squared_error: 0.0032 - val_r2_keras: 0.9202\n",
      "Epoch 40/50\n",
      "45000/45000 [==============================] - 6s 144us/sample - loss: 0.0031 - mean_squared_error: 0.0031 - r2_keras: 0.9226 - val_loss: 0.0031 - val_mean_squared_error: 0.0031 - val_r2_keras: 0.9232\n",
      "Epoch 41/50\n",
      "45000/45000 [==============================] - 6s 144us/sample - loss: 0.0031 - mean_squared_error: 0.0031 - r2_keras: 0.9231 - val_loss: 0.0031 - val_mean_squared_error: 0.0031 - val_r2_keras: 0.9246\n",
      "Epoch 42/50\n",
      "45000/45000 [==============================] - 6s 141us/sample - loss: 0.0031 - mean_squared_error: 0.0031 - r2_keras: 0.9234 - val_loss: 0.0030 - val_mean_squared_error: 0.0030 - val_r2_keras: 0.9247\n",
      "Epoch 43/50\n",
      "45000/45000 [==============================] - 6s 143us/sample - loss: 0.0030 - mean_squared_error: 0.0030 - r2_keras: 0.9237 - val_loss: 0.0031 - val_mean_squared_error: 0.0031 - val_r2_keras: 0.9226\n",
      "Epoch 44/50\n",
      "45000/45000 [==============================] - 6s 144us/sample - loss: 0.0030 - mean_squared_error: 0.0030 - r2_keras: 0.9247 - val_loss: 0.0032 - val_mean_squared_error: 0.0032 - val_r2_keras: 0.9217\n",
      "Epoch 45/50\n",
      "45000/45000 [==============================] - 6s 142us/sample - loss: 0.0030 - mean_squared_error: 0.0030 - r2_keras: 0.9252 - val_loss: 0.0031 - val_mean_squared_error: 0.0031 - val_r2_keras: 0.9233\n",
      "Epoch 46/50\n",
      "45000/45000 [==============================] - 6s 143us/sample - loss: 0.0030 - mean_squared_error: 0.0030 - r2_keras: 0.9256 - val_loss: 0.0031 - val_mean_squared_error: 0.0031 - val_r2_keras: 0.9223\n",
      "Epoch 47/50\n",
      "45000/45000 [==============================] - 6s 144us/sample - loss: 0.0029 - mean_squared_error: 0.0029 - r2_keras: 0.9263 - val_loss: 0.0030 - val_mean_squared_error: 0.0030 - val_r2_keras: 0.9264\n",
      "Epoch 48/50\n",
      "45000/45000 [==============================] - 6s 144us/sample - loss: 0.0029 - mean_squared_error: 0.0029 - r2_keras: 0.9264 - val_loss: 0.0031 - val_mean_squared_error: 0.0031 - val_r2_keras: 0.9230\n",
      "Epoch 49/50\n",
      "45000/45000 [==============================] - 6s 142us/sample - loss: 0.0029 - mean_squared_error: 0.0029 - r2_keras: 0.9263 - val_loss: 0.0030 - val_mean_squared_error: 0.0030 - val_r2_keras: 0.9251\n",
      "Epoch 50/50\n",
      "45000/45000 [==============================] - 6s 141us/sample - loss: 0.0029 - mean_squared_error: 0.0029 - r2_keras: 0.9279 - val_loss: 0.0030 - val_mean_squared_error: 0.0030 - val_r2_keras: 0.9256\n"
     ]
    }
   ],
   "source": [
    "dr = 0.25\n",
    "model = Sequential()\n",
    "model.add(Conv2D(8, kernel_size=(6, 6),\n",
    "                 activation='relu',\n",
    "                 input_shape=(64,64,4)))\n",
    "model.add(Conv2D(32, (3, 3), activation='relu'))\n",
    "model.add(Conv2D(32, (3, 3), activation='relu'))\n",
    "model.add(MaxPooling2D(pool_size=(2,2)))\n",
    "model.add(Dropout(dr))\n",
    "model.add(Flatten())\n",
    "# model.add(Dense(128, activation='relu'))\n",
    "# model.add(Dropout(dr))\n",
    "model.add(Dense(64, activation='relu'))\n",
    "model.add(Dropout(dr))\n",
    "model.add(Dense(64, activation='relu'))\n",
    "model.add(Dropout(dr))\n",
    "model.add(Dense(1))\n",
    "\n",
    "model.compile(loss=tf.keras.losses.mean_squared_error,\n",
    "              optimizer=tf.keras.optimizers.Adam(lr=5e-5),\n",
    "              metrics=['mean_squared_error', r2_keras])\n",
    "print(model.summary())\n",
    "history = model.fit(X_train_top, y_train_top,\n",
    "          batch_size=64,\n",
    "          epochs=50,\n",
    "          verbose=1,\n",
    "          validation_data=(X_test_top, y_test_top))"
   ]
  },
  {
   "cell_type": "code",
   "execution_count": 100,
   "metadata": {},
   "outputs": [
    {
     "data": {
      "image/png": "[encoded data removed]",
      "text/plain": [
       "<Figure size 432x288 with 1 Axes>"
      ]
     },
     "metadata": {
      "needs_background": "light"
     },
     "output_type": "display_data"
    },
    {
     "data": {
      "image/png": "[encoded data removed]",
      "text/plain": [
       "<Figure size 432x288 with 1 Axes>"
      ]
     },
     "metadata": {
      "needs_background": "light"
     },
     "output_type": "display_data"
    }
   ],
   "source": [
    "# Plot training & validation loss values\n",
    "plt.plot(history.history['r2_keras'][1:])\n",
    "plt.plot(history.history['val_r2_keras'][1:])\n",
    "plt.title('Model r2')\n",
    "plt.ylabel('r2')\n",
    "plt.xlabel('Epoch')\n",
    "plt.legend(['Train', 'Test'], loc='upper left')\n",
    "plt.show()\n",
    "\n",
    "plt.plot(history.history['loss'][1:])\n",
    "plt.plot(history.history['val_loss'][1:])\n",
    "plt.title('Model loss')\n",
    "plt.ylabel('Loss')\n",
    "\n",
    "plt.xlabel('Epoch')\n",
    "plt.legend(['Train', 'Test'], loc='upper left')\n",
    "plt.show()"
   ]
  },
  {
   "cell_type": "code",
   "execution_count": 101,
   "metadata": {},
   "outputs": [
    {
     "name": "stdout",
     "output_type": "stream",
     "text": [
      "0.9268537253593039\n",
      "[[0.33862436]\n",
      " [0.5295774 ]\n",
      " [0.1288377 ]\n",
      " ...\n",
      " [0.1635359 ]\n",
      " [0.13770588]\n",
      " [0.5904736 ]]\n",
      "[[0.32244124]\n",
      " [0.53146589]\n",
      " [0.07899032]\n",
      " ...\n",
      " [0.12600478]\n",
      " [0.12350506]\n",
      " [0.61976265]]\n"
     ]
    }
   ],
   "source": [
    "from sklearn.metrics import r2_score\n",
    "y_pred = model.predict(X_test_top)\n",
    "y_pred_inv = scaler.inverse_transform(y_pred)\n",
    "y_test_inv = scaler.inverse_transform(y_test_top)\n",
    "y_train_inv = scaler.inverse_transform(y_train_top)\n",
    "\n",
    "print(r2_score(y_test_inv, y_pred_inv))\n",
    "print(y_pred)\n",
    "print(y_test_top)"
   ]
  },
  {
   "cell_type": "code",
   "execution_count": 102,
   "metadata": {},
   "outputs": [
    {
     "name": "stdout",
     "output_type": "stream",
     "text": [
      "(0.9643410203177675, 0.0)\n",
      "SpearmanrResult(correlation=0.937164039152786, pvalue=0.0)\n"
     ]
    }
   ],
   "source": [
    "from scipy.stats import pearsonr\n",
    "from scipy.stats import spearmanr\n",
    "print(pearsonr(y_test_inv.flatten(),y_pred_inv.flatten()))\n",
    "print(spearmanr(y_test_inv.flatten(),y_pred_inv.flatten()))"
   ]
  },
  {
   "cell_type": "code",
   "execution_count": 103,
   "metadata": {},
   "outputs": [
    {
     "name": "stdout",
     "output_type": "stream",
     "text": [
      "0.0030106253742175778\n",
      "0.2665995432130245\n"
     ]
    }
   ],
   "source": [
    "from sklearn.metrics import mean_squared_error, mean_absolute_error\n",
    "print(mean_squared_error(y_test_top, y_pred))\n",
    "print(mean_squared_error(y_test_inv, y_pred_inv))"
   ]
  },
  {
   "cell_type": "code",
   "execution_count": 104,
   "metadata": {},
   "outputs": [
    {
     "name": "stdout",
     "output_type": "stream",
     "text": [
      "[8.725832] [17.258532]\n"
     ]
    }
   ],
   "source": [
    "print(min(y_test_inv), max(y_test_inv))"
   ]
  },
  {
   "cell_type": "code",
   "execution_count": 105,
   "metadata": {},
   "outputs": [
    {
     "data": {
      "image/png": "[encoded data removed]",
      "text/plain": [
       "<Figure size 432x288 with 1 Axes>"
      ]
     },
     "metadata": {
      "needs_background": "light"
     },
     "output_type": "display_data"
    }
   ],
   "source": [
    "#plt.hist(y_train_inv)\n",
    "#plt.show()\n",
    "plt.hist(y_test_inv, alpha=0.5, label=\"test\")\n",
    "#plt.show()\n",
    "plt.hist(y_pred_inv,alpha=0.5, label=\"pred\")\n",
    "plt.legend()\n",
    "plt.show()"
   ]
  },
  {
   "cell_type": "code",
   "execution_count": 68,
   "metadata": {},
   "outputs": [
    {
     "data": {
      "text/plain": [
       "('a/b/c', '.txt')"
      ]
     },
     "execution_count": 68,
     "metadata": {},
     "output_type": "execute_result"
    }
   ],
   "source": [
    "os.path.splitext(\"a/b/c.txt\")"
   ]
  },
  {
   "cell_type": "code",
   "execution_count": null,
   "metadata": {},
   "outputs": [],
   "source": []
  }
 ],
 "metadata": {
  "kernelspec": {
   "display_name": "Python 3",
   "language": "python",
   "name": "python3"
  },
  "language_info": {
   "codemirror_mode": {
    "name": "ipython",
    "version": 3
   },
   "file_extension": ".py",
   "mimetype": "text/x-python",
   "name": "python",
   "nbconvert_exporter": "python",
   "pygments_lexer": "ipython3",
   "version": "3.7.7"
  }
 },
 "nbformat": 4,
 "nbformat_minor": 4
}
