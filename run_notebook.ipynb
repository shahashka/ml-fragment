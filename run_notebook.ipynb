{
 "cells": [
  {
   "cell_type": "code",
   "execution_count": 68,
   "metadata": {},
   "outputs": [],
   "source": [
    "import mdtraj as md\n",
    "import numpy as np\n",
    "from pymol import cmd\n",
    "from pymol import stored\n",
    "import matplotlib.pyplot as plt\n",
    "import itertools\n",
    "import warnings\n",
    "import multiprocessing\n",
    "from tqdm import tqdm\n",
    "import cv2\n",
    "import os\n",
    "import warnings\n",
    "warnings.filterwarnings('ignore')\n",
    "import pickle\n",
    "import pandas as pd\n",
    "import glob"
   ]
  },
  {
   "cell_type": "code",
   "execution_count": 69,
   "metadata": {},
   "outputs": [],
   "source": [
    "import tensorflow as tf\n",
    "from tensorflow.keras.models import Sequential\n",
    "from tensorflow.keras.layers import Dense, Dropout, Flatten\n",
    "from tensorflow.keras.layers import Conv2D, MaxPooling2D, BatchNormalization\n",
    "import matplotlib.pyplot as plt\n",
    "from sklearn.preprocessing import MinMaxScaler, StandardScaler\n",
    "from sklearn.model_selection import train_test_split\n",
    "from scipy.stats import pearsonr\n",
    "from scipy.stats import spearmanr\n",
    "from sklearn.metrics import mean_squared_error, mean_absolute_error\n",
    "from sklearn.metrics import r2_score\n",
    "\n",
    "os.environ[\"CUDA_VISIBLE_DEVICES\"]=\"3\"\n"
   ]
  },
  {
   "cell_type": "code",
   "execution_count": 70,
   "metadata": {},
   "outputs": [],
   "source": [
    "from scipy import stats\n",
    "from sklearn.metrics import mean_absolute_error, r2_score, confusion_matrix, accuracy_score, precision_score, recall_score, roc_curve, auc\n",
    "from regression_enrichment_surface import regression_enrichment_surface as rds"
   ]
  },
  {
   "cell_type": "code",
   "execution_count": 71,
   "metadata": {},
   "outputs": [],
   "source": [
    "def save_pocket(pdb, sdf, name):\n",
    "    cmd.reinitialize()\n",
    "    cmd.load(pdb)\n",
    "    cmd.load(sdf, \"LIG\")\n",
    "    cmd.select(\"POCK\",\"br. LIG around 4\")\n",
    "    stored.idx = 0\n",
    "    cmd.iterate(\"POCK and n. CA\", expression=\"stored.idx+=1\")\n",
    "    cmd.save(name, \"POCK\")\n",
    "    return stored.idx"
   ]
  },
  {
   "cell_type": "code",
   "execution_count": 110,
   "metadata": {},
   "outputs": [],
   "source": [
    "element_charge = {\"H\": +1, \"I\":-1,\n",
    "           \"N\": -3,\n",
    "           \"P\":-3,\n",
    "           \"C\": +4,\n",
    "           \"O\":-2,\n",
    "           \"F\": -1,\n",
    "           \"S\": -2,\n",
    "           \"Li\": +1,\n",
    "           \"Cl\": -1,\n",
    "           \"Br\": -1}\n",
    "element_radius = {\"H\": 1.20, \"I\": 1.98,\n",
    "           \"N\": 1.55 ,\n",
    "           \"P\":1.95,\n",
    "           \"C\": 1.70,\n",
    "           \"O\":1.52,\n",
    "           \"F\": 1.47,\n",
    "           \"S\":1.80,\n",
    "           \"Li\": 1.82,\n",
    "           \"Cl\": 1.75,\n",
    "           \"Br\": 1.85}\n",
    "aa_hscale = {\n",
    "\"ALA\":  0.620,\n",
    "\"ARG\": -2.530,\n",
    "\"ASN\": -0.780,\n",
    "\"ASP\": -0.900,\n",
    "\"CYS\":  0.290,\n",
    "\"GLN\": -0.850,\n",
    "\"GLU\": -0.740,\n",
    "\"GLY\":  0.480,\n",
    "\"HIS\": -0.400,\n",
    "\"ILE\":  1.380,\n",
    "\"LEU\":  1.060,\n",
    "\"LYS\": -1.500,\n",
    "\"MET\":  0.640,\n",
    "\"PHE\":  1.190,\n",
    "\"PRO\":  0.120,\n",
    "\"SER\": -0.180,\n",
    "\"THR\": -0.050,\n",
    "\"TRP\":  0.810,\n",
    "\"TYR\":  0.260,\n",
    "\"VAL\":  1.080}\n",
    "\n",
    "element_charge = {\"H\": +1, \"I\":-1,\n",
    "           \"N\": -3,\n",
    "           \"P\":-3,\n",
    "           \"C\": +4,\n",
    "           \"O\":-2,\n",
    "           \"F\": -1,\n",
    "           \"S\": -2,\n",
    "           \"Li\": +1,\n",
    "           \"Cl\": -1,\n",
    "           \"Br\": -1}\n",
    "atomic_number = {\"H\": 1, \"I\":53,\n",
    "           \"N\": 7,\n",
    "           \"P\":15,\n",
    "           \"C\": 6,\n",
    "           \"O\":8,\n",
    "           \"F\": 9,\n",
    "           \"S\": 16,\n",
    "           \"Li\": 3,\n",
    "           \"Cl\": 17,\n",
    "           \"Br\": 35}"
   ]
  },
  {
   "cell_type": "code",
   "execution_count": 131,
   "metadata": {},
   "outputs": [],
   "source": [
    "def get_coulomb(i,j,z_i,z_j,r):\n",
    "    if i==j:\n",
    "        return 0.5*z_i**2.4\n",
    "    else:\n",
    "        return z_i*z_j/r\n",
    "\n",
    "def get_e_map(t,sdf_state, pqr, grid, d_matrix):\n",
    "    pocket = list(t.topology.residues)\n",
    "    indices =  [int(str(residue)[3:]) for residue in t.topology.residues]\n",
    "    # open the pqr and iterate through lines\n",
    "    pqr = open(pqr)\n",
    "    lines = pqr.readlines()\n",
    "    data = []\n",
    "\n",
    "    # discard lines that do not have the residue number\n",
    "    for l in lines:\n",
    "        split = l.split(' ')\n",
    "        split = list(filter(lambda x: x != '', split))\n",
    "        if split[0] == 'TER':\n",
    "            break\n",
    "        res = split[4]\n",
    "        if int(res) in indices:\n",
    "            # collect all x,y,charge, radius values\n",
    "            data.append([float(split[5]), float(split[6]), float(split[8]), float(split[9])])\n",
    "    data = np.asarray(data)\n",
    "\n",
    "    # initialize 2D array\n",
    "    e_map = np.zeros([grid,grid])\n",
    "    \n",
    "    for i range(e_map.shape[0]):\n",
    "        \n",
    "    x_cell = (np.max(data[:,0]) - np.min(data[:,0]))/grid\n",
    "    y_cell = (np.max(data[:,1]) - np.min(data[:,1]))/grid\n",
    "    x_min = np.min(data[:,0])\n",
    "    y_min = np.min(data[:,1])\n",
    "    x_axis = [x_min+x_cell*i for i in range(grid)]\n",
    "    y_axis = [y_min+y_cell*j for j in range(grid)]\n",
    "\n",
    "    # place (x,y) from file into appropriate grid point\n",
    "    for val in range(data.shape[0]):\n",
    "        d = data[val]\n",
    "        x_value = d[0]\n",
    "        y_value=d[1]\n",
    "        charge = d[2]\n",
    "        radius = d[3]\n",
    "\n",
    "        # naive \"box\" charge instead of point charge\n",
    "        # also assuming constant charge rather than 1/r^2 drop off\n",
    "        i_min = (int)(np.floor((x_value-x_min-radius)/x_cell))\n",
    "        i_max = (int)(np.floor((x_value-x_min+radius)/x_cell))\n",
    "        j_min = (int)(np.floor((y_value-y_min-radius)/y_cell))\n",
    "        j_max = (int)(np.floor((y_value-y_min+radius)/y_cell))\n",
    "\n",
    "        if i_min <0:\n",
    "            i_min=0\n",
    "        if j_min <0:\n",
    "            j_min=0\n",
    "        if i_max>=grid:\n",
    "            i_max=grid-1\n",
    "        if j_max>=grid:\n",
    "            j_max=grid-1\n",
    "\n",
    "        if i_min>i_max:\n",
    "            print(\"smoething went wrot=ng\")\n",
    "            break\n",
    "        if j_min>j_max:\n",
    "            print(\"something went wrong\")\n",
    "\n",
    "        e_map[i_min:i_max,j_min:j_max] += charge\n",
    "        \n",
    "    # for each atom in the ligand add in ionic charge according to ionic radius\n",
    "    lines = sdf_state.split('\\n')\n",
    "    lig = find_end(lines[4:])\n",
    "    lig = list(filter(lambda x: 'H' not in x, lig))\n",
    "    l_map = np.zeros([len(lig),len(lig)])\n",
    "\n",
    "#     for l in lig:\n",
    "#         split = l.split(' ')\n",
    "#         split = list(filter(lambda x: x != '', split))\n",
    "#         x_value = (float)(split[0])\n",
    "#         y_value=(float)(split[1])\n",
    "#         atom = split[3]\n",
    "#         charge = element_charge[atom]\n",
    "#         radius = element_radius[atom]\n",
    "\n",
    "#         # naive \"box\" charge instead of point charge\n",
    "#         # also assuming constant charge rather than 1/r^2 drop off\n",
    "#         i_min = (int)(np.floor((x_value-x_min-radius)/x_cell))\n",
    "#         i_max = (int)(np.floor((x_value-x_min+radius)/x_cell))\n",
    "#         j_min = (int)(np.floor((y_value-y_min-radius)/y_cell))\n",
    "#         j_max = (int)(np.floor((y_value-y_min+radius)/y_cell))\n",
    "\n",
    "#         if i_min <0:\n",
    "#             i_min=0\n",
    "#         if j_min <0:\n",
    "#             j_min=0\n",
    "#         if i_max>=grid:\n",
    "#             i_max=grid-1\n",
    "#         if j_max>=grid:\n",
    "#             j_max=grid-1\n",
    "\n",
    "#         if i_min>i_max:\n",
    "#             print(\"smoething went wrot=ng\")\n",
    "#             break\n",
    "#         if j_min>j_max:\n",
    "#             print(\"something went wrong\")\n",
    "\n",
    "#         l_map[i_min:i_max,j_min:j_max] += charge\n",
    "\n",
    "    for l in lig:\n",
    "        split = l.split(' ')\n",
    "        split = list(filter(lambda x: x != '', split))\n",
    "        x_value = (float)(split[0])\n",
    "        y_value=(float)(split[1])\n",
    "        atom = split[3]\n",
    "        charge = element_charge[atom]\n",
    "        radius = element_radius[atom]\n",
    "\n",
    "    l_map = cv2.resize(l_map, dsize=(grid,grid), interpolation=cv2.INTER_CUBIC)        \n",
    "    return e_map, l_map"
   ]
  },
  {
   "cell_type": "code",
   "execution_count": 132,
   "metadata": {},
   "outputs": [],
   "source": [
    "# convert files into list of strings\n",
    "# for the protein pdb and ligand sdf \n",
    "# (states are separated by $$$$)\n",
    "def stringify(sdf, pdb, num_states):\n",
    "    sdf_split = []\n",
    "    with open(sdf,'r') as f:\n",
    "        for key,group in itertools.groupby(f,lambda line: line.startswith('$$$$')):\n",
    "          if not key:\n",
    "            sdf_split.append(\"\".join(list(group)))\n",
    "          if len(sdf_split) == num_states:\n",
    "            break\n",
    "    \n",
    "#     with open(sdf,'r') as f:\n",
    "#         lines = f.readlines()\n",
    "#     lines = \"\".join(lines)\n",
    "#     test_split=lines.split(\"$$$$\")\n",
    "    \n",
    "#     correct=True\n",
    "#     for i,j in zip(test_split,sdf_split):\n",
    "#         correct = correct and i == j\n",
    "#         if i != j :\n",
    "#             print(i)\n",
    "#             print(j)\n",
    "#             return\n",
    "#     print(correct)\n",
    "#     return\n",
    "        \n",
    "    #sdf_split = sdf_split[-num_states:]\n",
    "    with open(pdb,'r') as f:\n",
    "        pdb_string = f.readlines()       \n",
    "    return sdf_split, \"\".join(pdb_string)\n",
    "\n",
    "def find_end(lines):\n",
    "    filtered_lines=[]\n",
    "    for l in lines:\n",
    "        split = l.split(' ')\n",
    "        split = list(filter(lambda x: x != '', split))\n",
    "        vals1 = (split[0])\n",
    "        \n",
    "        # stop when we get to the integers in the sdf\n",
    "        if vals1.isdigit():\n",
    "            return filtered_lines\n",
    "        filtered_lines.append(l)\n",
    "            \n",
    "def create_pdb(sdf, pdb_string,i):\n",
    "    lines = sdf.split('\\n')\n",
    "    #num_lines = (int)(lines[3].split(' ')[1])\n",
    "    \n",
    "    #lig = lines[4:4+num_lines-1]\n",
    "    lig = find_end(lines[4:])\n",
    "    lig = list(filter(lambda x: 'H' not in x, lig))\n",
    "    lig_pdb = list(map(create_line, lig, np.arange(1,len(lig)+1)))\n",
    "    f =  open(\"tmp{0}.pdb\".format(i), 'w+')\n",
    "    f.write(\"\\n\".join(lig_pdb))\n",
    "    f.write(\"\\n\")\n",
    "    f.write(pdb_string)\n",
    "    f.close()\n",
    "\n",
    "# Create one line in the new pdb file for one state\n",
    "# and the protein\n",
    "# Use the standardized pdb regex to create the correct string\n",
    "def create_line(line,i):\n",
    "    split = line.split(' ')\n",
    "    split = list(filter(lambda x: x != '', split))\n",
    "    vals1 = (float)(split[0])\n",
    "    vals2 = (float)(split[1])\n",
    "    vals3= (float)(split[2]) \n",
    "    atom = split[3]\n",
    "\n",
    "    # workaround to get the atoms in the ligand to be residues in mdtraj reader\n",
    "    if i >=10 :\n",
    "        new_string = \"{:6s}{:5d} {:^4s}{:1s}{:3s} {:1s}{:4d}{:1s}   {:8.3f}{:8.3f}{:8.3f}{:6.2f}{:6.2f}          {:>2s}{:2s}\".format(\"HETATM\",i,atom,'',\"U\"+str(i),'',0,'',vals1, vals2,vals3,0,0,atom,'')\n",
    "    else:\n",
    "        new_string = \"{:6s}{:5d} {:^4s}{:1s}{:3s} {:1s}{:4d}{:1s}   {:8.3f}{:8.3f}{:8.3f}{:6.2f}{:6.2f}          {:>2s}{:2s}\".format(\"HETATM\",i,atom,'',\"UN\"+str(i),'',0,'',vals1, vals2,vals3,0,0,atom,'')\n",
    "    return new_string\n",
    "\n",
    "# Create the data for ML model\n",
    "\n",
    "# First array is contact matrix\n",
    "# - ----------------| ligand atoms | protein residues\n",
    "# - ligand atoms    |              | \n",
    "# ------------------|--------------|-----------------\n",
    "# - protein residues|              |\n",
    "#\n",
    "# Second array is a mask for which cells correspond to ligand x ligand (-1), \n",
    "# protein x protein (1) and ligand x protein (0)\n",
    "#\n",
    "# Arrays are interpolated to 64x64\n",
    "def maker_w_strings(data):\n",
    "    i,sdf_state, num_residues, pdb = data\n",
    "    tmp_file = str(id(multiprocessing.current_process()))\n",
    "    create_pdb(sdf_state,pdb,tmp_file) # create the pdb for one states\n",
    "    \n",
    "    # Load the file into mdtraj\n",
    "    t = md.load(\"tmp{0}.pdb\".format(tmp_file))\n",
    "    pl = len(list(t.topology.residues))\n",
    "    resi = np.arange(pl)\n",
    "    pairs = list(itertools.product(resi, resi))\n",
    "    \n",
    "    # compute constacts\n",
    "    matrix, l = md.compute_contacts(t, contacts=pairs, scheme=\"closest-heavy\")\n",
    "    matrix = np.array(matrix).reshape((pl,pl))\n",
    "    \n",
    "    aa_matrix_h = np.zeros((pl, pl))\n",
    "    aa_matrix_v = np.zeros((pl, pl))\n",
    "    resi_list = list(t.topology.residues)\n",
    "    atom_list = list(t.topology.atoms)\n",
    "\n",
    "    for p in range(pl):\n",
    "        r = resi_list[p]\n",
    "        if not str(r).startswith('U'):\n",
    "            aa_matrix_v[:,p]=aa_hscale[r.name]\n",
    "            aa_matrix_h[p]=aa_hscale[r.name]\n",
    "        else:\n",
    "            a = atom_list[p]\n",
    "            aa_matrix_v[:,p] =element_charge[a.name]\n",
    "            aa_matrix_h[p]=element_charge[a.name]\n",
    "            \n",
    "    ### generate protein-ligand mask\n",
    "    mask = np.zeros((pl,pl))\n",
    "    for i in range(pl-num_residues):\n",
    "        for j in range(pl-num_residues):\n",
    "            # ligand\n",
    "            mask[i,j] = -1\n",
    "            \n",
    "    for i in range(pl - num_residues,pl):\n",
    "        for j in range( pl - num_residues,pl):\n",
    "            # protein\n",
    "            mask[i,j] = 1\n",
    "    e_map, l_map = get_e_map(t, sdf_state, \"mol.pqr\", 64, matrix)\n",
    "    p_img = cv2.resize(matrix, dsize=(64, 64), interpolation=cv2.INTER_CUBIC).reshape(64,64,1)\n",
    "    m_img = cv2.resize(mask, dsize=(64, 64), interpolation=cv2.INTER_CUBIC).reshape(64,64,1)\n",
    "    v_img = cv2.resize(aa_matrix_v, dsize=(64, 64), interpolation=cv2.INTER_CUBIC).reshape(64,64,1)\n",
    "    h_img = cv2.resize(aa_matrix_h, dsize=(64, 64), interpolation=cv2.INTER_CUBIC).reshape(64,64,1)\n",
    "    \n",
    "\n",
    "    p_contact_matrix = np.concatenate([p_img, m_img, e_map.reshape(64,64,1), l_map.reshape(64,64,1)], axis=-1)\n",
    "    os.remove(\"tmp{0}.pdb\".format(tmp_file))\n",
    "    return p_contact_matrix\n",
    "    "
   ]
  },
  {
   "cell_type": "code",
   "execution_count": 134,
   "metadata": {},
   "outputs": [
    {
     "name": "stdout",
     "output_type": "stream",
     "text": [
      "done creating pocket\n"
     ]
    },
    {
     "name": "stderr",
     "output_type": "stream",
     "text": [
      "100%|██████████| 10000/10000 [01:05<00:00, 151.60it/s]\n"
     ]
    }
   ],
   "source": [
    "maps=[]\n",
    "num_residues = save_pocket(\"april27/ADRP/ADRP_6W02_A_1_H.pdb\", \"april27/ADRP/adrp_adpr_A_cat_sorted_top100.sdf\", \"april27/ADRP/adrp_gen_pock.pdb\")\n",
    "print(\"done creating pocket\")\n",
    "s, pdb_string = stringify(\"april27/ADRP/adrp_adpr_A_cat_sorted.sdf\", \"april27/ADRP/adrp_gen_pock.pdb\", 10000)\n",
    "pdb_string = [pdb_string for x in range(len(s))]\n",
    "\n",
    "with multiprocessing.Pool(32) as p:\n",
    "    num_states = len(s)\n",
    "    data = list(zip(range(num_states), s, num_residues*np.ones(num_states,dtype=int), pdb_string))\n",
    "    itern = p.imap(maker_w_strings, data)\n",
    "    for i,p_contact_matrix in enumerate(tqdm(itern, total=num_states)):\n",
    "        maps.append(p_contact_matrix)\n"
   ]
  },
  {
   "cell_type": "code",
   "execution_count": 169,
   "metadata": {},
   "outputs": [
    {
     "data": {
      "text/plain": [
       "<matplotlib.image.AxesImage at 0x7f904c242a10>"
      ]
     },
     "execution_count": 169,
     "metadata": {},
     "output_type": "execute_result"
    },
    {
     "data": {
      "image/png": "[encoded data removed]",
      "text/plain": [
       "<Figure size 432x288 with 1 Axes>"
      ]
     },
     "metadata": {
      "needs_background": "light"
     },
     "output_type": "display_data"
    }
   ],
   "source": [
    "plt.imshow(maps[5][:,:,3])"
   ]
  },
  {
   "cell_type": "code",
   "execution_count": 145,
   "metadata": {},
   "outputs": [
    {
     "name": "stdout",
     "output_type": "stream",
     "text": [
      "(10000, 64, 64, 4)\n"
     ]
    }
   ],
   "source": [
    "images_adrp = np.stack(maps,axis=0)\n",
    "print(images_adrp.shape)"
   ]
  },
  {
   "cell_type": "code",
   "execution_count": 144,
   "metadata": {},
   "outputs": [],
   "source": [
    "df_adrp = pd.read_csv(\"rescore_top10k.csv\")"
   ]
  },
  {
   "cell_type": "code",
   "execution_count": 177,
   "metadata": {},
   "outputs": [
    {
     "name": "stdout",
     "output_type": "stream",
     "text": [
      "./april27/PLPro/2/plpro_2.high.matrices.npy ./april27/PLPro/2/plpro_2.scores\n",
      "./april27/PLPro/1/plpro_1.high.matrices.npy ./april27/PLPro/1/plpro_1.scores\n",
      "./april27/NSP15_6w01/2/NSP15_2_6w01.high.matrices.npy ./april27/NSP15_6w01/2/NSP15_2_6w01.scores\n",
      "./april27/NSP15_6w01/1/NSP15_1_6w01.high.matrices.npy ./april27/NSP15_6w01/1/NSP15_1_6w01.scores\n",
      "./april27/NSP15_6vww/1/NSP15_1_6vww.high.matrices.npy ./april27/NSP15_6vww/1/NSP15_1_6vww.scores\n",
      "./april27/NSP15_6vww/2/NSP15_2_6vww.high.matrices.npy ./april27/NSP15_6vww/2/NSP15_2_6vww.scores\n",
      "./april27/3CLPro/1/3CLPro_1.high.matrices.npy ./april27/3CLPro/1/3CLPro_1.scores\n",
      "./april27/3CLPro/2/3CLPro_2.high.matrices.npy ./april27/3CLPro/2/3CLPro_2.scores\n",
      "./april27/3CLPro/3/3CLPro_3.high.matrices.npy ./april27/3CLPro/3/3CLPro_3.scores\n",
      "./april27/ADRP/ADRP_6W02_A_1_H.high.matrices.npy ./april27/ADRP/ADRP_6W02_A_1_H.scores\n",
      "./april27/DNMT3A/DNMT3A_chainA.high.matrices.npy ./april27/DNMT3A/DNMT3A_chainA.scores\n",
      "./april27/NSUN2/NSUN2_model.high.matrices.npy ./april27/NSUN2/NSUN2_model.scores\n"
     ]
    }
   ],
   "source": [
    "data_images =[]\n",
    "data_scores = []\n",
    "data_images_bottom =[]\n",
    "data_scores_bottom = []\n",
    "files_m = glob.glob('./**/*high.matrices.npy', recursive=True)\n",
    "files_s = glob.glob('./**/*.scores', recursive=True)\n",
    "for m,s in zip(files_m, files_s):\n",
    "    print(m,s)\n",
    "#     if \"bottom\" not in m:\n",
    "    data_images.append(np.load(m)[0:5000])\n",
    "    data_scores.append(pd.read_csv(s).iloc[0:5000])\n",
    "#     else:\n",
    "#     data_images_bottom.append(np.load(m)[-5000:])\n",
    "#     data_scores_bottom.append(pd.read_csv(s).iloc[-5000:])\n",
    "    "
   ]
  },
  {
   "cell_type": "code",
   "execution_count": 178,
   "metadata": {},
   "outputs": [],
   "source": [
    "X = np.vstack(data_images)\n",
    "y = pd.concat(data_scores)"
   ]
  },
  {
   "cell_type": "code",
   "execution_count": 179,
   "metadata": {},
   "outputs": [
    {
     "name": "stdout",
     "output_type": "stream",
     "text": [
      "(60000, 64, 64, 4)\n",
      "      Unnamed: 0                                             SMILES  \\\n",
      "0              0       c1cc(cc(c1)NC(=O)NCc2ccncc2)NC(=O)c3ccc[nH]3   \n",
      "1              1            c1ccc2c(c1)c3c4c(c5cnccc5c3[nH]2)CNC4=O   \n",
      "2              2  Cc1c(cc(c2c1oc(c(c2=O)[O-])c3[nH]c(c[nH+]3)Cl)...   \n",
      "3              3  Cc1c(cc(c2c1oc(c(c2=O)[O-])c3[nH]c(c[nH+]3)OC)...   \n",
      "4              4  C[C@H]1[C@@H]2[C@H]3[C@H]4[C@@H]([C@@H]([C@@H]...   \n",
      "...          ...                                                ...   \n",
      "4995        4995  c1ccc(cc1)c2c[nH+]c([nH]2)CNC(=O)c3cc4cc(sc4[n...   \n",
      "4996        4996   C[C@@H](C(=O)N1CCC1)Sc2nc([nH]n2)c3ccc4c(c3)CCC4   \n",
      "4997        4997              c1ccc(c(c1)c2cc(n[nH]2)C(=O)NCCOCCO)O   \n",
      "4998        4998      C[C@@H](c1cccs1)NC(=O)c2cc([nH]n2)c3ccc(cc3)F   \n",
      "4999        4999      C[C@@H](c1cccs1)NC(=O)c2cc([nH]n2)c3ccc(cc3)F   \n",
      "\n",
      "               TITLE                   receptor  Chemgauss4  \n",
      "0         T2K-520944    april27/PLPro/2/plpro_2  -13.482728  \n",
      "1     SIM-501635-ZIN    april27/PLPro/2/plpro_2  -13.324015  \n",
      "2          CAS=11098    april27/PLPro/2/plpro_2  -13.313546  \n",
      "3          CAS=11306    april27/PLPro/2/plpro_2  -13.262964  \n",
      "4         T2K-146987    april27/PLPro/2/plpro_2  -13.218845  \n",
      "...              ...                        ...         ...  \n",
      "4995      T2K-473398  april27/NSUN2/NSUN2_model  -10.162597  \n",
      "4996  SIM-129178-ENA  april27/NSUN2/NSUN2_model  -10.162563  \n",
      "4997      T2K-501671  april27/NSUN2/NSUN2_model  -10.162533  \n",
      "4998  SIM-127682-ZIN  april27/NSUN2/NSUN2_model  -10.162489  \n",
      "4999      EDB=177403  april27/NSUN2/NSUN2_model  -10.162489  \n",
      "\n",
      "[60000 rows x 5 columns]\n"
     ]
    }
   ],
   "source": [
    "print(X.shape)\n",
    "print(y)"
   ]
  },
  {
   "cell_type": "code",
   "execution_count": 180,
   "metadata": {},
   "outputs": [
    {
     "data": {
      "text/plain": [
       "<matplotlib.legend.Legend at 0x7f88ee3a3ed0>"
      ]
     },
     "execution_count": 180,
     "metadata": {},
     "output_type": "execute_result"
    },
    {
     "data": {
      "image/png": "[encoded data removed]",
      "text/plain": [
       "<Figure size 432x288 with 1 Axes>"
      ]
     },
     "metadata": {
      "needs_background": "light"
     },
     "output_type": "display_data"
    }
   ],
   "source": [
    "for i in range(12):\n",
    "    plt.scatter(np.arange(5000), y['Chemgauss4'].iloc[5000*i:5000*(i+1)], label=i)\n",
    "plt.legend()    "
   ]
  },
  {
   "cell_type": "code",
   "execution_count": 181,
   "metadata": {},
   "outputs": [
    {
     "name": "stdout",
     "output_type": "stream",
     "text": [
      "(60000, 64, 64, 2)\n"
     ]
    },
    {
     "data": {
      "text/plain": [
       "<matplotlib.image.AxesImage at 0x7f88b425d5d0>"
      ]
     },
     "execution_count": 181,
     "metadata": {},
     "output_type": "execute_result"
    },
    {
     "data": {
      "image/png": "[encoded data removed]",
      "text/plain": [
       "<Figure size 432x288 with 1 Axes>"
      ]
     },
     "metadata": {
      "needs_background": "light"
     },
     "output_type": "display_data"
    }
   ],
   "source": [
    "X_2d = X[:,:,:,0:2]\n",
    "print(X_2d.shape)\n",
    "plt.imshow(X_2d[0][:,:,0])\n",
    "\n",
    "# X_2d_bottom = X_bottom[:,:,:,0:2]\n",
    "# print(X_2d_bottom.shape)"
   ]
  },
  {
   "cell_type": "code",
   "execution_count": 146,
   "metadata": {},
   "outputs": [],
   "source": [
    "def adapt_learning_rate(epoch):\n",
    "    return 1e-3 * epoch\n",
    "my_lr_scheduler = tf.keras.callbacks.LearningRateScheduler(adapt_learning_rate)"
   ]
  },
  {
   "cell_type": "code",
   "execution_count": 147,
   "metadata": {},
   "outputs": [],
   "source": [
    "def r2_keras(y_true, y_pred):\n",
    "    from tensorflow.keras import backend as K\n",
    "    SS_res =  K.sum(K.square(y_true - y_pred)) \n",
    "    SS_tot = K.sum(K.square(y_true - K.mean(y_true))) \n",
    "    return ( 1 - SS_res/(SS_tot + K.epsilon()) )"
   ]
  },
  {
   "cell_type": "code",
   "execution_count": 176,
   "metadata": {
    "scrolled": false
   },
   "outputs": [
    {
     "name": "stdout",
     "output_type": "stream",
     "text": [
      "(10000, 64, 64, 3)\n",
      "Chemgauss4\n"
     ]
    },
    {
     "data": {
      "image/png": "[encoded data removed]",
      "text/plain": [
       "<Figure size 432x288 with 1 Axes>"
      ]
     },
     "metadata": {
      "needs_background": "light"
     },
     "output_type": "display_data"
    },
    {
     "name": "stdout",
     "output_type": "stream",
     "text": [
      "Model: \"sequential_24\"\n",
      "_________________________________________________________________\n",
      "Layer (type)                 Output Shape              Param #   \n",
      "=================================================================\n",
      "conv2d_64 (Conv2D)           (None, 59, 59, 8)         872       \n",
      "_________________________________________________________________\n",
      "conv2d_65 (Conv2D)           (None, 57, 57, 32)        2336      \n",
      "_________________________________________________________________\n",
      "conv2d_66 (Conv2D)           (None, 55, 55, 32)        9248      \n",
      "_________________________________________________________________\n",
      "max_pooling2d_23 (MaxPooling (None, 27, 27, 32)        0         \n",
      "_________________________________________________________________\n",
      "dropout_66 (Dropout)         (None, 27, 27, 32)        0         \n",
      "_________________________________________________________________\n",
      "flatten_23 (Flatten)         (None, 23328)             0         \n",
      "_________________________________________________________________\n",
      "dense_65 (Dense)             (None, 64)                1493056   \n",
      "_________________________________________________________________\n",
      "dropout_67 (Dropout)         (None, 64)                0         \n",
      "_________________________________________________________________\n",
      "dense_66 (Dense)             (None, 1)                 65        \n",
      "=================================================================\n",
      "Total params: 1,505,577\n",
      "Trainable params: 1,505,577\n",
      "Non-trainable params: 0\n",
      "_________________________________________________________________\n",
      "None\n",
      "Train on 7500 samples, validate on 2500 samples\n",
      "Epoch 1/50\n",
      "7500/7500 [==============================] - 2s 207us/sample - loss: 0.0185 - mean_squared_error: 0.0185 - r2_keras: -0.3005 - val_loss: 0.0143 - val_mean_squared_error: 0.0143 - val_r2_keras: -0.2691\n",
      "Epoch 2/50\n",
      "7500/7500 [==============================] - 1s 146us/sample - loss: 0.0150 - mean_squared_error: 0.0150 - r2_keras: -0.0226 - val_loss: 0.0142 - val_mean_squared_error: 0.0142 - val_r2_keras: -0.2051\n",
      "Epoch 3/50\n",
      "7500/7500 [==============================] - 1s 139us/sample - loss: 0.0146 - mean_squared_error: 0.0146 - r2_keras: -1.5154e-04 - val_loss: 0.0141 - val_mean_squared_error: 0.0141 - val_r2_keras: -0.1978\n",
      "Epoch 4/50\n",
      "7500/7500 [==============================] - 1s 140us/sample - loss: 0.0146 - mean_squared_error: 0.0146 - r2_keras: -0.0016 - val_loss: 0.0141 - val_mean_squared_error: 0.0141 - val_r2_keras: -0.1934\n",
      "Epoch 5/50\n",
      "7500/7500 [==============================] - 1s 141us/sample - loss: 0.0144 - mean_squared_error: 0.0144 - r2_keras: 0.0167 - val_loss: 0.0138 - val_mean_squared_error: 0.0138 - val_r2_keras: -0.2414\n",
      "Epoch 6/50\n",
      "7500/7500 [==============================] - 1s 136us/sample - loss: 0.0142 - mean_squared_error: 0.0142 - r2_keras: 0.0190 - val_loss: 0.0140 - val_mean_squared_error: 0.0140 - val_r2_keras: -0.2174\n",
      "Epoch 7/50\n",
      "7500/7500 [==============================] - 1s 145us/sample - loss: 0.0141 - mean_squared_error: 0.0141 - r2_keras: 0.0368 - val_loss: 0.0138 - val_mean_squared_error: 0.0138 - val_r2_keras: -0.1845\n",
      "Epoch 8/50\n",
      "7500/7500 [==============================] - 1s 146us/sample - loss: 0.0141 - mean_squared_error: 0.0141 - r2_keras: 0.0368 - val_loss: 0.0139 - val_mean_squared_error: 0.0139 - val_r2_keras: -0.3853\n",
      "Epoch 9/50\n",
      "7500/7500 [==============================] - 1s 137us/sample - loss: 0.0140 - mean_squared_error: 0.0140 - r2_keras: 0.0373 - val_loss: 0.0135 - val_mean_squared_error: 0.0135 - val_r2_keras: -0.3797\n",
      "Epoch 10/50\n",
      "7500/7500 [==============================] - 1s 137us/sample - loss: 0.0137 - mean_squared_error: 0.0137 - r2_keras: 0.0543 - val_loss: 0.0135 - val_mean_squared_error: 0.0135 - val_r2_keras: -0.2222\n",
      "Epoch 11/50\n",
      "7500/7500 [==============================] - 1s 140us/sample - loss: 0.0137 - mean_squared_error: 0.0137 - r2_keras: 0.0539 - val_loss: 0.0136 - val_mean_squared_error: 0.0136 - val_r2_keras: -0.3201\n",
      "Epoch 12/50\n",
      "7500/7500 [==============================] - 1s 129us/sample - loss: 0.0134 - mean_squared_error: 0.0134 - r2_keras: 0.0800 - val_loss: 0.0136 - val_mean_squared_error: 0.0136 - val_r2_keras: -0.1964\n",
      "Epoch 13/50\n",
      "7500/7500 [==============================] - 1s 124us/sample - loss: 0.0134 - mean_squared_error: 0.0134 - r2_keras: 0.0855 - val_loss: 0.0133 - val_mean_squared_error: 0.0133 - val_r2_keras: -0.3329\n",
      "Epoch 14/50\n",
      "7500/7500 [==============================] - 1s 128us/sample - loss: 0.0133 - mean_squared_error: 0.0133 - r2_keras: 0.0939 - val_loss: 0.0134 - val_mean_squared_error: 0.0134 - val_r2_keras: -0.4400\n",
      "Epoch 15/50\n",
      "7500/7500 [==============================] - 1s 132us/sample - loss: 0.0132 - mean_squared_error: 0.0132 - r2_keras: 0.0866 - val_loss: 0.0134 - val_mean_squared_error: 0.0134 - val_r2_keras: -0.4349\n",
      "Epoch 16/50\n",
      "7500/7500 [==============================] - 1s 134us/sample - loss: 0.0130 - mean_squared_error: 0.0130 - r2_keras: 0.0988 - val_loss: 0.0132 - val_mean_squared_error: 0.0132 - val_r2_keras: -0.3169\n",
      "Epoch 17/50\n",
      "7500/7500 [==============================] - 1s 144us/sample - loss: 0.0129 - mean_squared_error: 0.0129 - r2_keras: 0.0965 - val_loss: 0.0132 - val_mean_squared_error: 0.0132 - val_r2_keras: -0.2828\n",
      "Epoch 18/50\n",
      "7500/7500 [==============================] - 1s 130us/sample - loss: 0.0128 - mean_squared_error: 0.0128 - r2_keras: 0.1086 - val_loss: 0.0132 - val_mean_squared_error: 0.0132 - val_r2_keras: -0.4353\n",
      "Epoch 19/50\n",
      "7500/7500 [==============================] - 1s 129us/sample - loss: 0.0127 - mean_squared_error: 0.0127 - r2_keras: 0.1203 - val_loss: 0.0134 - val_mean_squared_error: 0.0134 - val_r2_keras: -0.2260\n",
      "Epoch 20/50\n",
      "7500/7500 [==============================] - 1s 129us/sample - loss: 0.0126 - mean_squared_error: 0.0126 - r2_keras: 0.1311 - val_loss: 0.0132 - val_mean_squared_error: 0.0132 - val_r2_keras: -0.3907\n",
      "Epoch 21/50\n",
      "7500/7500 [==============================] - 1s 132us/sample - loss: 0.0123 - mean_squared_error: 0.0123 - r2_keras: 0.1539 - val_loss: 0.0141 - val_mean_squared_error: 0.0141 - val_r2_keras: -0.7114\n",
      "Epoch 22/50\n",
      "7500/7500 [==============================] - 1s 124us/sample - loss: 0.0124 - mean_squared_error: 0.0124 - r2_keras: 0.1405 - val_loss: 0.0131 - val_mean_squared_error: 0.0131 - val_r2_keras: -0.3167\n",
      "Epoch 23/50\n",
      "7500/7500 [==============================] - 1s 125us/sample - loss: 0.0124 - mean_squared_error: 0.0124 - r2_keras: 0.1461 - val_loss: 0.0132 - val_mean_squared_error: 0.0132 - val_r2_keras: -0.3634\n",
      "Epoch 24/50\n",
      "7500/7500 [==============================] - 1s 127us/sample - loss: 0.0122 - mean_squared_error: 0.0122 - r2_keras: 0.1291 - val_loss: 0.0132 - val_mean_squared_error: 0.0132 - val_r2_keras: -0.4539\n",
      "Epoch 25/50\n",
      "7500/7500 [==============================] - 1s 134us/sample - loss: 0.0120 - mean_squared_error: 0.0120 - r2_keras: 0.1683 - val_loss: 0.0131 - val_mean_squared_error: 0.0131 - val_r2_keras: -0.3850\n",
      "Epoch 26/50\n",
      "7500/7500 [==============================] - 1s 138us/sample - loss: 0.0117 - mean_squared_error: 0.0117 - r2_keras: 0.1900 - val_loss: 0.0131 - val_mean_squared_error: 0.0131 - val_r2_keras: -0.4325\n",
      "Epoch 27/50\n",
      "7500/7500 [==============================] - 1s 130us/sample - loss: 0.0117 - mean_squared_error: 0.0117 - r2_keras: 0.1952 - val_loss: 0.0146 - val_mean_squared_error: 0.0146 - val_r2_keras: -0.2023\n",
      "Epoch 28/50\n",
      "7500/7500 [==============================] - 1s 142us/sample - loss: 0.0115 - mean_squared_error: 0.0115 - r2_keras: 0.2062 - val_loss: 0.0131 - val_mean_squared_error: 0.0131 - val_r2_keras: -0.3510\n",
      "Epoch 29/50\n",
      "7500/7500 [==============================] - 1s 136us/sample - loss: 0.0113 - mean_squared_error: 0.0113 - r2_keras: 0.2072 - val_loss: 0.0133 - val_mean_squared_error: 0.0133 - val_r2_keras: -0.2999\n",
      "Epoch 30/50\n",
      "7500/7500 [==============================] - 1s 146us/sample - loss: 0.0111 - mean_squared_error: 0.0111 - r2_keras: 0.2255 - val_loss: 0.0132 - val_mean_squared_error: 0.0132 - val_r2_keras: -0.4382\n",
      "Epoch 31/50\n",
      "7500/7500 [==============================] - 1s 133us/sample - loss: 0.0111 - mean_squared_error: 0.0111 - r2_keras: 0.2232 - val_loss: 0.0132 - val_mean_squared_error: 0.0132 - val_r2_keras: -0.5366\n",
      "Epoch 32/50\n"
     ]
    },
    {
     "name": "stdout",
     "output_type": "stream",
     "text": [
      "7500/7500 [==============================] - 1s 138us/sample - loss: 0.0111 - mean_squared_error: 0.0111 - r2_keras: 0.2356 - val_loss: 0.0139 - val_mean_squared_error: 0.0139 - val_r2_keras: -0.2368\n",
      "Epoch 33/50\n",
      "7500/7500 [==============================] - 1s 139us/sample - loss: 0.0110 - mean_squared_error: 0.0110 - r2_keras: 0.2315 - val_loss: 0.0136 - val_mean_squared_error: 0.0136 - val_r2_keras: -0.1780\n",
      "Epoch 34/50\n",
      "7500/7500 [==============================] - 1s 138us/sample - loss: 0.0107 - mean_squared_error: 0.0107 - r2_keras: 0.2651 - val_loss: 0.0131 - val_mean_squared_error: 0.0131 - val_r2_keras: -0.3564\n",
      "Epoch 35/50\n",
      "7500/7500 [==============================] - 1s 139us/sample - loss: 0.0104 - mean_squared_error: 0.0104 - r2_keras: 0.2839 - val_loss: 0.0135 - val_mean_squared_error: 0.0135 - val_r2_keras: -0.3810\n",
      "Epoch 36/50\n",
      "7500/7500 [==============================] - 1s 136us/sample - loss: 0.0102 - mean_squared_error: 0.0102 - r2_keras: 0.2900 - val_loss: 0.0135 - val_mean_squared_error: 0.0135 - val_r2_keras: -0.6013\n",
      "Epoch 37/50\n",
      "7500/7500 [==============================] - 1s 128us/sample - loss: 0.0102 - mean_squared_error: 0.0102 - r2_keras: 0.2882 - val_loss: 0.0135 - val_mean_squared_error: 0.0135 - val_r2_keras: -0.4796\n",
      "Epoch 38/50\n",
      "7500/7500 [==============================] - 1s 123us/sample - loss: 0.0102 - mean_squared_error: 0.0102 - r2_keras: 0.2855 - val_loss: 0.0134 - val_mean_squared_error: 0.0134 - val_r2_keras: -0.2899\n",
      "Epoch 39/50\n",
      "7500/7500 [==============================] - 1s 127us/sample - loss: 0.0100 - mean_squared_error: 0.0100 - r2_keras: 0.2981 - val_loss: 0.0134 - val_mean_squared_error: 0.0134 - val_r2_keras: -0.2263\n",
      "Epoch 40/50\n",
      "7500/7500 [==============================] - 1s 130us/sample - loss: 0.0097 - mean_squared_error: 0.0097 - r2_keras: 0.3269 - val_loss: 0.0136 - val_mean_squared_error: 0.0136 - val_r2_keras: -0.1641\n",
      "Epoch 41/50\n",
      "7500/7500 [==============================] - 1s 131us/sample - loss: 0.0096 - mean_squared_error: 0.0096 - r2_keras: 0.3107 - val_loss: 0.0134 - val_mean_squared_error: 0.0134 - val_r2_keras: -0.2158\n",
      "Epoch 42/50\n",
      "7500/7500 [==============================] - 1s 126us/sample - loss: 0.0097 - mean_squared_error: 0.0097 - r2_keras: 0.3268 - val_loss: 0.0136 - val_mean_squared_error: 0.0136 - val_r2_keras: -0.2073\n",
      "Epoch 43/50\n",
      "7500/7500 [==============================] - 1s 125us/sample - loss: 0.0094 - mean_squared_error: 0.0094 - r2_keras: 0.3394 - val_loss: 0.0133 - val_mean_squared_error: 0.0133 - val_r2_keras: -0.2395\n",
      "Epoch 44/50\n",
      "7500/7500 [==============================] - 1s 125us/sample - loss: 0.0092 - mean_squared_error: 0.0092 - r2_keras: 0.3607 - val_loss: 0.0137 - val_mean_squared_error: 0.0137 - val_r2_keras: -0.1886\n",
      "Epoch 45/50\n",
      "7500/7500 [==============================] - 1s 127us/sample - loss: 0.0090 - mean_squared_error: 0.0090 - r2_keras: 0.3788 - val_loss: 0.0134 - val_mean_squared_error: 0.0134 - val_r2_keras: -0.3083\n",
      "Epoch 46/50\n",
      "7500/7500 [==============================] - 1s 128us/sample - loss: 0.0090 - mean_squared_error: 0.0090 - r2_keras: 0.3586 - val_loss: 0.0136 - val_mean_squared_error: 0.0136 - val_r2_keras: -0.3406\n",
      "Epoch 47/50\n",
      "7500/7500 [==============================] - 1s 142us/sample - loss: 0.0087 - mean_squared_error: 0.0087 - r2_keras: 0.3872 - val_loss: 0.0136 - val_mean_squared_error: 0.0136 - val_r2_keras: -0.2267\n",
      "Epoch 48/50\n",
      "7500/7500 [==============================] - 1s 138us/sample - loss: 0.0086 - mean_squared_error: 0.0086 - r2_keras: 0.3971 - val_loss: 0.0137 - val_mean_squared_error: 0.0137 - val_r2_keras: -0.1407\n",
      "Epoch 49/50\n",
      "7500/7500 [==============================] - 1s 132us/sample - loss: 0.0084 - mean_squared_error: 0.0084 - r2_keras: 0.4112 - val_loss: 0.0136 - val_mean_squared_error: 0.0136 - val_r2_keras: -0.1387\n",
      "Epoch 50/50\n",
      "7500/7500 [==============================] - 1s 143us/sample - loss: 0.0082 - mean_squared_error: 0.0082 - r2_keras: 0.4220 - val_loss: 0.0137 - val_mean_squared_error: 0.0137 - val_r2_keras: -0.1679\n"
     ]
    },
    {
     "data": {
      "image/png": "[encoded data removed]",
      "text/plain": [
       "<Figure size 432x288 with 1 Axes>"
      ]
     },
     "metadata": {
      "needs_background": "light"
     },
     "output_type": "display_data"
    },
    {
     "data": {
      "image/png": "[encoded data removed]",
      "text/plain": [
       "<Figure size 432x288 with 1 Axes>"
      ]
     },
     "metadata": {
      "needs_background": "light"
     },
     "output_type": "display_data"
    },
    {
     "name": "stdout",
     "output_type": "stream",
     "text": [
      "r2 0.07806315245360318\n",
      "pearson (0.33535560655796404, 9.138985586748948e-67)\n",
      "spearman SpearmanrResult(correlation=0.2635180626168581, pvalue=5.504176375574818e-41)\n",
      "MSE actual 0.2868264853097933\n"
     ]
    },
    {
     "data": {
      "image/png": "[encoded data removed]",
      "text/plain": [
       "<Figure size 432x288 with 1 Axes>"
      ]
     },
     "metadata": {
      "needs_background": "light"
     },
     "output_type": "display_data"
    }
   ],
   "source": [
    "X_adrp = images_adrp[:,:,:,[0,1,2]]\n",
    "print(X_adrp.shape)\n",
    "y=df_adrp\n",
    "columns = [ 'CG3:Steric', 'CG3:Clash', 'CG3:ProDesolv', 'CG3:LigDesolv',\n",
    "       'CG3:LigDesolvHB', 'CG4:HB', 'Chemgauss4']\n",
    "subsets = [ ['CG3:Steric', 'CG3:Clash', 'CG4:HB'], ['CG3:ProDesolv', 'CG3:LigDesolv',\n",
    "       'CG3:LigDesolvHB'], ['Chemgauss4']]\n",
    "total = ['Chemgauss4']\n",
    "for c in total:\n",
    "    print(c)\n",
    "    isList = isinstance(c,list)\n",
    "    df_new = y.copy(deep=True)\n",
    "    scaler = MinMaxScaler()\n",
    "    dock_score = np.abs(df_new[c].to_numpy())\n",
    "    if isList:\n",
    "        dock_score = scaler.fit_transform(np.sum(dock_score,axis=-1).reshape(-1,1))\n",
    "    else:\n",
    "        dock_score = scaler.fit_transform(dock_score.reshape(-1,1))\n",
    "    df_new['score'] = dock_score    \n",
    "    \n",
    "    X_train_top, X_test_top, y_train_top, y_test_top = train_test_split(X_adrp, df_new, test_size=0.25,\n",
    "                                                         shuffle=True)        \n",
    "\n",
    "    dock_score_train= y_train_top['score'].to_numpy()\n",
    "    dock_score_test = y_test_top['score'].to_numpy()\n",
    "    plt_train=scaler.inverse_transform(dock_score_train.reshape(-1,1))\n",
    "    plt_test=scaler.inverse_transform(dock_score_test.reshape(-1,1))\n",
    "        \n",
    "    # plot train/test split\n",
    "    plt.hist(plt_train, alpha=0.5, label='train')\n",
    "    plt.hist(plt_test,alpha=1, label='test')\n",
    "    plt.legend()\n",
    "    plt.show()\n",
    "    \n",
    "    # model stuff\n",
    "    dr = 0.1\n",
    "    model = Sequential()\n",
    "    model.add(Conv2D(8, kernel_size=(6, 6),\n",
    "                     activation='relu',\n",
    "                     input_shape=(64,64,3)))\n",
    "    model.add(Conv2D(32, (3, 3), activation='relu'))\n",
    "    model.add(Conv2D(32, (3, 3), activation='relu'))\n",
    "    model.add(MaxPooling2D(pool_size=(2,2)))\n",
    "    model.add(Dropout(dr))\n",
    "    model.add(Flatten())\n",
    "#     model.add(Dense(128, activation='relu'))\n",
    "#     model.add(Dense(64, activation='relu'))\n",
    "#     model.add(Dropout(dr))\n",
    "    model.add(Dense(64, activation='relu'))\n",
    "    model.add(Dropout(dr))\n",
    "    model.add(Dense(1))\n",
    "\n",
    "    model.compile(loss=tf.keras.losses.mean_squared_error,\n",
    "                  optimizer=tf.keras.optimizers.Adam(lr=1e-4),\n",
    "                  metrics=['mean_squared_error', r2_keras])\n",
    "    print(model.summary())\n",
    "    history = model.fit(X_train_top, dock_score_train,\n",
    "              batch_size=64,\n",
    "              epochs=50,\n",
    "              verbose=1,\n",
    "              validation_data=(X_test_top, dock_score_test))\n",
    "    \n",
    "    # Plot training & validation loss values\n",
    "    plt.plot(history.history['r2_keras'])\n",
    "    plt.plot(history.history['val_r2_keras'])\n",
    "    plt.title('Model r2 ' + ', '.join(c))\n",
    "    plt.ylabel('r2')\n",
    "    plt.xlabel('Epoch')\n",
    "    plt.legend(['Train', 'Test'], loc='upper left')\n",
    "    plt.show()\n",
    "\n",
    "    plt.plot(history.history['loss'])\n",
    "    plt.plot(history.history['val_loss'])\n",
    "    plt.title('Model loss ' + ', '.join(c))\n",
    "    plt.ylabel('Loss')\n",
    "\n",
    "    plt.xlabel('Epoch')\n",
    "    plt.legend(['Train', 'Test'], loc='upper left')\n",
    "    plt.show()\n",
    "    \n",
    "    y_pred = model.predict(X_test_top)\n",
    "    y_pred_inv = scaler.inverse_transform(y_pred)\n",
    "    y_test_inv = scaler.inverse_transform(dock_score_test.reshape(-1,1))\n",
    "\n",
    "    print(\"r2\", r2_score(y_test_inv, y_pred_inv))\n",
    "    print(\"pearson\", pearsonr(y_test_inv.flatten(),y_pred_inv.flatten()))\n",
    "    print(\"spearman\", spearmanr(y_test_inv.flatten(),y_pred_inv.flatten()))\n",
    "    print(\"MSE actual\", mean_squared_error(y_test_inv, y_pred_inv))\n",
    "\n",
    "    plt.hist(y_test_inv, alpha=0.5, label=\"test\")\n",
    "    plt.hist(y_pred_inv,alpha=0.5, label=\"pred\")\n",
    "    plt.legend()\n",
    "    plt.show()"
   ]
  },
  {
   "cell_type": "code",
   "execution_count": null,
   "metadata": {},
   "outputs": [],
   "source": [
    "print(np.max(y_pred_inv))\n",
    "print(np.max(y_test_inv))"
   ]
  },
  {
   "cell_type": "code",
   "execution_count": 66,
   "metadata": {},
   "outputs": [],
   "source": [
    "top_pred = y_test_top.iloc[np.argsort(y_pred_inv.flatten())[-1000:]][['SMILES']].to_numpy()\n",
    "top_true = y_test_top.iloc[np.argsort(y_test_inv.flatten())[-1000:]][['SMILES']].to_numpy()"
   ]
  },
  {
   "cell_type": "code",
   "execution_count": 67,
   "metadata": {},
   "outputs": [
    {
     "name": "stdout",
     "output_type": "stream",
     "text": [
      "357\n"
     ]
    }
   ],
   "source": [
    "check = []\n",
    "for i in range(top_pred.shape[0]):\n",
    "    check.append(top_pred[i] in top_true)\n",
    "print(np.sum(check))"
   ]
  },
  {
   "cell_type": "code",
   "execution_count": 68,
   "metadata": {},
   "outputs": [
    {
     "name": "stdout",
     "output_type": "stream",
     "text": [
      "pearson (0.9657815168813626, 0.0)\n",
      "r2 0.928013301244986\n",
      "mae 0.3753450291607625\n",
      "precision, recall 0.6695652173913044 0.051333333333333335\n",
      "auc 0.5242592592592592\n"
     ]
    },
    {
     "data": {
      "image/png": "[encoded data removed]",
      "text/plain": [
       "<Figure size 576x360 with 2 Axes>"
      ]
     },
     "metadata": {
      "needs_background": "light"
     },
     "output_type": "display_data"
    }
   ],
   "source": [
    "values = y_test_inv.flatten()\n",
    "preds = y_pred_inv.flatten()\n",
    "quant = np.quantile(values, 0.90)\n",
    "values_bin = [0 if val < quant else 1 for val in values]\n",
    "preds_bin = [0 if val < quant else 1 for val in preds]\n",
    "print(\"pearson\", stats.pearsonr(values, preds))\n",
    "print(\"r2\", r2_score(values, preds))\n",
    "print(\"mae\", mean_absolute_error(values, preds))\n",
    "print(\"precision, recall\" ,precision_score(values_bin, preds_bin), recall_score(values_bin, preds_bin))\n",
    "fpr, tpr, thresholds = roc_curve(values_bin, preds_bin)\n",
    "print(\"auc\", auc(fpr, tpr))\n",
    "\n",
    "rds_model = rds.RegressionEnrichmentSurface(percent_min=-4)\n",
    "rds_model.compute(values, preds, samples=50)\n",
    "rds_model.plot(title='Regression Enrichment Surface contact matrix model')"
   ]
  },
  {
   "cell_type": "code",
   "execution_count": null,
   "metadata": {},
   "outputs": [],
   "source": []
  }
 ],
 "metadata": {
  "kernelspec": {
   "display_name": "Python 3",
   "language": "python",
   "name": "python3"
  },
  "language_info": {
   "codemirror_mode": {
    "name": "ipython",
    "version": 3
   },
   "file_extension": ".py",
   "mimetype": "text/x-python",
   "name": "python",
   "nbconvert_exporter": "python",
   "pygments_lexer": "ipython3",
   "version": "3.7.7"
  }
 },
 "nbformat": 4,
 "nbformat_minor": 4
}
