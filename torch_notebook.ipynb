{
 "cells": [
  {
   "cell_type": "code",
   "execution_count": 42,
   "metadata": {},
   "outputs": [],
   "source": [
    "import torch.nn as nn\n",
    "import torch\n",
    "import pandas as pd\n",
    "import pickle\n",
    "import matplotlib.pyplot as plt\n",
    "from apex import amp\n",
    "import numpy as np\n",
    "from sklearn.model_selection import train_test_split\n",
    "from sklearn.preprocessing import MinMaxScaler\n",
    "import glob\n",
    "from scipy.stats import pearsonr\n",
    "from sklearn.metrics import mean_squared_error, r2_score, mean_absolute_error\n",
    "from torch.utils.tensorboard import SummaryWriter\n",
    "import time\n",
    "\n",
    "# create nn module for ConvNet model\n",
    "class ContactModel(nn.Module):\n",
    "    def __init__(self,dr=0.1):\n",
    "        super(ContactModel, self).__init__()\n",
    "        self.cnn = nn.Sequential(\n",
    "            nn.Conv2d(in_channels=2, out_channels=8, kernel_size=6),\n",
    "            nn.ReLU(),\n",
    "            nn.Conv2d(in_channels=8, out_channels=32, kernel_size=3),\n",
    "            nn.ReLU(),\n",
    "            nn.Conv2d(in_channels=32, out_channels=32, kernel_size=3),\n",
    "            nn.ReLU(),\n",
    "            nn.MaxPool2d(kernel_size=2),\n",
    "            nn.Dropout(dr))\n",
    "        \n",
    "        self.linear = nn.Sequential(\n",
    "            nn.Linear(32*27*27,64),\n",
    "            nn.ReLU(),\n",
    "            nn.Dropout(dr),\n",
    "            nn.Linear(64,1))\n",
    "    def forward(self,x):\n",
    "        x = self.cnn(x)\n",
    "        x = x.view(x.size(0), -1) # where x.size(0) is the batch size\n",
    "        x = self.linear(x)\n",
    "        return x\n",
    "\n",
    "    # create nn module for ConvNet model\n",
    "class ContactModelPaper(nn.Module):\n",
    "    def __init__(self,dr=0.1):\n",
    "        super(ContactModelPaper, self).__init__()\n",
    "        self.cnn = nn.Sequential(\n",
    "            nn.Conv2d(in_channels=2, out_channels=64, kernel_size=4, stride=2, padding=1),\n",
    "            nn.LeakyReLU(0.2),\n",
    "            nn.Dropout(dr),\n",
    "            nn.Conv2d(in_channels=64, out_channels=128, kernel_size=4, stride=2, padding=1),\n",
    "            nn.BatchNorm2d(128),\n",
    "            nn.LeakyReLU(0.2),\n",
    "            nn.Dropout(dr),\n",
    "            nn.Conv2d(in_channels=128, out_channels=256, kernel_size=4, stride=2, padding=1),\n",
    "            nn.BatchNorm2d(256),\n",
    "            nn.LeakyReLU(0.2),\n",
    "            nn.Conv2d(in_channels=256, out_channels=512, kernel_size=4, stride=2, padding=1),\n",
    "            nn.BatchNorm2d(512),\n",
    "            nn.LeakyReLU(0.2),\n",
    "            nn.Dropout(dr))\n",
    "        \n",
    "        self.linear = nn.Sequential(\n",
    "            nn.Linear(512*4*4,64),\n",
    "            nn.ReLU(),\n",
    "            nn.Dropout(dr),\n",
    "            nn.Linear(64,1))\n",
    "    def forward(self,x):\n",
    "        x = self.cnn(x)\n",
    "        x = x.view(x.size(0), -1) # where x.size(0) is the batch size\n",
    "        x = self.linear(x)\n",
    "        return x\n",
    "    \n",
    "class ContactDataset(torch.utils.data.Dataset):\n",
    "    def __init__(self, images, dock_score):\n",
    "        'Initialization'\n",
    "        self.images = images\n",
    "        self.dock_score = dock_score\n",
    "\n",
    "    def __len__(self):\n",
    "        'Denotes the total number of samples'\n",
    "        return len(self.dock_score)\n",
    "\n",
    "    def __getitem__(self, index):\n",
    "        'Generates one sample of data'\n",
    "        X = self.images[index]\n",
    "        y = self.dock_score[index]\n",
    "        return X, y\n",
    "    \n",
    "# load data\n",
    "def load_data():\n",
    "    with open('dset_adrp.pkl', 'rb') as pickle_file:\n",
    "        x,y = pickle.load(pickle_file)\n",
    "    scaler = MinMaxScaler()\n",
    "    y = np.abs(y)\n",
    "    y = scaler.fit_transform(y.reshape(-1,1))\n",
    "    x = torch.FloatTensor(x)\n",
    "    x = np.transpose(x,(0,3,1,2))\n",
    "    y = torch.FloatTensor(y)\n",
    "    return x, y, scaler\n",
    "    "
   ]
  },
  {
   "cell_type": "code",
   "execution_count": 47,
   "metadata": {},
   "outputs": [],
   "source": [
    "# main\n",
    "x,y, scaler = load_data()"
   ]
  },
  {
   "cell_type": "code",
   "execution_count": 48,
   "metadata": {},
   "outputs": [
    {
     "name": "stdout",
     "output_type": "stream",
     "text": [
      "torch.Size([10000, 2, 64, 64])\n",
      "torch.Size([10000, 1])\n"
     ]
    },
    {
     "data": {
      "text/plain": [
       "<matplotlib.image.AxesImage at 0x7f56c81f4e90>"
      ]
     },
     "execution_count": 48,
     "metadata": {},
     "output_type": "execute_result"
    },
    {
     "data": {
      "image/png": "[encoded data removed]",
      "text/plain": [
       "<Figure size 432x288 with 1 Axes>"
      ]
     },
     "metadata": {
      "needs_background": "light"
     },
     "output_type": "display_data"
    }
   ],
   "source": [
    "print(x.shape)\n",
    "print(y.shape)\n",
    "plt.imshow(x[0][0])"
   ]
  },
  {
   "cell_type": "code",
   "execution_count": 49,
   "metadata": {},
   "outputs": [],
   "source": [
    "x_train, x_val, y_train, y_val = train_test_split(x,y,test_size=0.2, shuffle=True)\n",
    "train_dataset = ContactDataset(x_train,y_train)\n",
    "test_dataset = ContactDataset(x_val,y_val)\n",
    "\n",
    "train_dataloader = torch.utils.data.DataLoader(train_dataset, shuffle=True, batch_size=64, num_workers=0)\n",
    "test_dataloader = torch.utils.data.DataLoader(test_dataset, shuffle=True, batch_size=64, num_workers=0)"
   ]
  },
  {
   "cell_type": "code",
   "execution_count": 50,
   "metadata": {},
   "outputs": [
    {
     "data": {
      "text/plain": [
       "ContactModelPaper(\n",
       "  (cnn): Sequential(\n",
       "    (0): Conv2d(2, 64, kernel_size=(4, 4), stride=(2, 2), padding=(1, 1))\n",
       "    (1): LeakyReLU(negative_slope=0.2)\n",
       "    (2): Dropout(p=0.1, inplace=False)\n",
       "    (3): Conv2d(64, 128, kernel_size=(4, 4), stride=(2, 2), padding=(1, 1))\n",
       "    (4): BatchNorm2d(128, eps=1e-05, momentum=0.1, affine=True, track_running_stats=True)\n",
       "    (5): LeakyReLU(negative_slope=0.2)\n",
       "    (6): Dropout(p=0.1, inplace=False)\n",
       "    (7): Conv2d(128, 256, kernel_size=(4, 4), stride=(2, 2), padding=(1, 1))\n",
       "    (8): BatchNorm2d(256, eps=1e-05, momentum=0.1, affine=True, track_running_stats=True)\n",
       "    (9): LeakyReLU(negative_slope=0.2)\n",
       "    (10): Conv2d(256, 512, kernel_size=(4, 4), stride=(2, 2), padding=(1, 1))\n",
       "    (11): BatchNorm2d(512, eps=1e-05, momentum=0.1, affine=True, track_running_stats=True)\n",
       "    (12): LeakyReLU(negative_slope=0.2)\n",
       "    (13): Dropout(p=0.1, inplace=False)\n",
       "  )\n",
       "  (linear): Sequential(\n",
       "    (0): Linear(in_features=8192, out_features=64, bias=True)\n",
       "    (1): ReLU()\n",
       "    (2): Dropout(p=0.1, inplace=False)\n",
       "    (3): Linear(in_features=64, out_features=1, bias=True)\n",
       "  )\n",
       ")"
      ]
     },
     "execution_count": 50,
     "metadata": {},
     "output_type": "execute_result"
    }
   ],
   "source": [
    "use_cuda = torch.cuda.is_available()\n",
    "device = torch.device(\"cuda:0\" if use_cuda else \"cpu\")\n",
    "model = ContactModelPaper()\n",
    "model.to(device)"
   ]
  },
  {
   "cell_type": "code",
   "execution_count": 52,
   "metadata": {
    "scrolled": false
   },
   "outputs": [
    {
     "name": "stdout",
     "output_type": "stream",
     "text": [
      "0 0.014984541080892085 0.015878019970841706 -0.09820688982824577\n",
      "2.2901532649993896\n",
      "1 0.014455868031829595 0.014397372433450073 -0.0008684494276804955\n",
      "2.2662627696990967\n",
      "2 0.014271621897816658 0.014475781819783151 -0.018346691015266092\n",
      "2.266965389251709\n",
      "3 0.014027083430439234 0.014199935598298907 0.01456484350315368\n",
      "2.268202543258667\n",
      "4 0.013539404068142176 0.014185315347276628 0.0019815304451956672\n",
      "2.266904830932617\n",
      "5 0.013504139676690102 0.015599161270074546 -0.08165094616350976\n",
      "2.268110990524292\n",
      "6 0.013277776893228293 0.01398680311103817 0.019571082301828135\n",
      "2.2682156562805176\n",
      "7 0.012859698876738549 0.01425508427200839 6.526498258385693e-06\n",
      "2.2683820724487305\n",
      "8 0.012986230347305536 0.014699715160531923 -0.0075236249960259904\n",
      "2.2679853439331055\n",
      "9 0.012549672313034534 0.01435333551489748 0.019380583045841893\n",
      "2.2678656578063965\n",
      "10 0.012241374049335719 0.013595835393061861 0.04225179318703054\n",
      "2.267857313156128\n",
      "11 0.011990585960447789 0.014075615035835654 0.02234618345431838\n",
      "2.2658441066741943\n",
      "12 0.011975293260067701 0.01473346768761985 -0.025738676174434927\n",
      "2.267481565475464\n",
      "13 0.011545328948646783 0.014360371700604446 -0.011613999176153467\n",
      "2.266371726989746\n",
      "14 0.011213760182261468 0.014281463547376916 -0.003417136986244129\n",
      "2.2666382789611816\n",
      "15 0.010998333979398011 0.015544518013484776 -0.08544765220130524\n",
      "2.2676119804382324\n",
      "16 0.010523978661745786 0.01725157827604562 -0.18349210583428888\n",
      "2.2666406631469727\n",
      "17 0.010234305083751678 0.014261811869801022 -0.010702292100574606\n",
      "2.267782688140869\n",
      "18 0.009733796123415232 0.014887778874253854 -0.02294630535470965\n",
      "2.2664480209350586\n",
      "19 0.009571044906973839 0.015739477414172143 -0.11235915521353479\n",
      "2.2677738666534424\n",
      "20 0.008885348103940488 0.015235940896673128 -0.047912281645186905\n",
      "2.266519546508789\n",
      "21 0.00856121863424778 0.01530731123057194 -0.07764724480655838\n",
      "2.2681336402893066\n",
      "22 0.00827373057231307 0.016092871606815606 -0.11421772068505676\n",
      "2.2679789066314697\n",
      "23 0.008152020275592803 0.015016696124803275 -0.061912521751332994\n",
      "2.2671689987182617\n",
      "24 0.007408464509993792 0.015559966443106532 -0.08243813948815437\n",
      "2.267709732055664\n",
      "25 0.007058082602918148 0.016694532037945464 -0.13082255641723828\n",
      "2.2679617404937744\n",
      "26 0.00667416038364172 0.015483794937608764 -0.08409759541403505\n",
      "2.2683558464050293\n",
      "27 0.006358857354149222 0.015536124643404037 -0.08864725286388109\n",
      "2.267185926437378\n",
      "28 0.006247495209798217 0.01610751450061798 -0.1345986225737792\n",
      "2.2676072120666504\n",
      "29 0.005590368691831827 0.01627087773522362 -0.13614269516342836\n",
      "2.2679383754730225\n",
      "30 0.005396613590419292 0.016297007561661303 -0.13993147936192107\n",
      "2.2681655883789062\n",
      "31 0.005007311914116144 0.016231810994213447 -0.13097575854795873\n",
      "2.2688400745391846\n",
      "32 0.004815127495676279 0.016876049543498084 -0.1885087757332733\n",
      "2.2714405059814453\n",
      "33 0.004741747522726655 0.01599341566907242 -0.12974971910238775\n",
      "2.2692925930023193\n",
      "34 0.004572856407612562 0.016567464685067534 -0.14878313902501605\n",
      "2.268216848373413\n",
      "35 0.004235897300764918 0.016257048642728478 -0.13623730832062053\n",
      "2.270340919494629\n",
      "36 0.004164647962898016 0.016027947247494012 -0.10634675205563782\n",
      "2.2686989307403564\n",
      "37 0.0038455465231090782 0.015904706277069636 -0.10746329646163333\n",
      "2.2694079875946045\n",
      "38 0.003666723608970642 0.01551845166250132 -0.09422972701538623\n",
      "2.2690839767456055\n",
      "39 0.0036523943059146406 0.015415802336065099 -0.07829163674814033\n",
      "2.2689225673675537\n",
      "40 0.003543106511235237 0.01695362920872867 -0.18709762231575033\n",
      "2.2685234546661377\n",
      "41 0.0034256450328975915 0.016982106171781197 -0.18481873299781704\n",
      "2.2684571743011475\n",
      "42 0.0033193799201399086 0.01555158695555292 -0.08185495314914704\n",
      "2.2685961723327637\n",
      "43 0.003247072795405984 0.015396017741295509 -0.08555841395122821\n",
      "2.269890785217285\n",
      "44 0.002964141933247447 0.01748850557487458 -0.2146176460039071\n",
      "2.268859624862671\n",
      "45 0.0030228303615003824 0.016275846515782177 -0.11367220119528687\n",
      "2.3622117042541504\n",
      "46 0.0028990683825686576 0.01686658090329729 -0.18524009781003659\n",
      "2.2690553665161133\n",
      "47 0.002880967634730041 0.016411258897278458 -0.1535076990966231\n",
      "2.269479274749756\n",
      "48 0.0028654588665813206 0.016201466554775834 -0.12440768887450715\n",
      "2.2698988914489746\n",
      "49 0.0025906201573088765 0.015438961039762944 -0.052817030748977256\n",
      "2.269172430038452\n"
     ]
    }
   ],
   "source": [
    "\n",
    "# create loss function and optimizer\n",
    "opt = torch.optim.Adam(model.parameters(), lr=1e-4)\n",
    "criterion = nn.MSELoss()\n",
    "writer = SummaryWriter(f'tensorboard/runs')\n",
    "# epoch loop\n",
    "num_epochs=50\n",
    "loss_train_store=[]\n",
    "loss_test_store=[]\n",
    "step=0\n",
    "for i in range(num_epochs):\n",
    "    model.train()\n",
    "    # Training\n",
    "    loss_acc=0\n",
    "    iters=0\n",
    "    start = time.time()\n",
    "    for local_batch, local_labels in train_dataloader:\n",
    "        # Transfer to GPU\n",
    "        local_batch, local_labels = local_batch.to(device), local_labels.to(device)\n",
    "\n",
    "        #train\n",
    "        y_pred = model(local_batch)\n",
    "        loss_train = criterion(y_pred.flatten(),local_labels.flatten())\n",
    "        \n",
    "        #backprop + update\n",
    "        opt.zero_grad()\n",
    "        loss_train.backward()\n",
    "        opt.step()\n",
    "        \n",
    "        loss_acc+=loss_train.item()\n",
    "        iters+=1\n",
    "        writer.add_scalar('Training_loss', loss_train, global_step=step)\n",
    "        step+=1\n",
    "        \n",
    "    loss_train_store.append(loss_acc/iters)\n",
    "    \n",
    "    # Testing\n",
    "    loss_acc=0\n",
    "    iters=0\n",
    "    y_pred_values=[]\n",
    "    y_test_values=[]\n",
    "    with torch.no_grad():\n",
    "        for local_batch, local_labels in test_dataloader:\n",
    "            # Transfer to GPU\n",
    "            local_batch, local_labels = local_batch.to(device), local_labels.to(device)\n",
    "            #train\n",
    "            y_pred = model(local_batch)\n",
    "            loss_test = criterion(y_pred.flatten(),local_labels.flatten())\n",
    "            loss_acc+=loss_test.item()\n",
    "            iters+=1\n",
    "            y_pred_values.append(y_pred.cpu())\n",
    "            y_test_values.append(local_labels.cpu())\n",
    "    y_pred_values = [item for sublist in y_pred_values for item in sublist]    \n",
    "    y_test_values = [item for sublist in y_test_values for item in sublist]    \n",
    "\n",
    "    r2_epoch = r2_score( y_test_values, y_pred_values)    \n",
    "    loss_test_store.append(loss_acc/iters)\n",
    "    print(i, loss_train_store[-1], loss_test_store[-1], r2_epoch)\n",
    "    end = time.time()\n",
    "    print(end-start)"
   ]
  },
  {
   "cell_type": "code",
   "execution_count": 29,
   "metadata": {},
   "outputs": [
    {
     "data": {
      "text/plain": [
       "[<matplotlib.lines.Line2D at 0x7fab2d2582d0>]"
      ]
     },
     "execution_count": 29,
     "metadata": {},
     "output_type": "execute_result"
    },
    {
     "data": {
      "image/png": "[encoded data removed]",
      "text/plain": [
       "<Figure size 432x288 with 1 Axes>"
      ]
     },
     "metadata": {
      "needs_background": "light"
     },
     "output_type": "display_data"
    }
   ],
   "source": [
    "plt.plot(loss_train_store, label='train loss')\n",
    "plt.plot(loss_test_store, label='test loss')"
   ]
  },
  {
   "cell_type": "code",
   "execution_count": 30,
   "metadata": {},
   "outputs": [
    {
     "data": {
      "text/plain": [
       "<matplotlib.legend.Legend at 0x7fab92d2e410>"
      ]
     },
     "execution_count": 30,
     "metadata": {},
     "output_type": "execute_result"
    },
    {
     "data": {
      "image/png": "[encoded data removed]",
      "text/plain": [
       "<Figure size 432x288 with 1 Axes>"
      ]
     },
     "metadata": {
      "needs_background": "light"
     },
     "output_type": "display_data"
    }
   ],
   "source": [
    "test = scaler.inverse_transform(np.array(y_test_values).reshape(-1,1))\n",
    "pred = scaler.inverse_transform(np.array(y_pred_values).reshape(-1,1))\n",
    "\n",
    "plt.hist(test, label=\"test\", alpha=0.5)\n",
    "plt.hist(pred, label=\"pred\", alpha=0.5)\n",
    "\n",
    "plt.legend()"
   ]
  },
  {
   "cell_type": "code",
   "execution_count": null,
   "metadata": {},
   "outputs": [],
   "source": [
    "plt.hist(y_train)"
   ]
  },
  {
   "cell_type": "code",
   "execution_count": null,
   "metadata": {},
   "outputs": [],
   "source": []
  }
 ],
 "metadata": {
  "kernelspec": {
   "display_name": "Python 3",
   "language": "python",
   "name": "python3"
  },
  "language_info": {
   "codemirror_mode": {
    "name": "ipython",
    "version": 3
   },
   "file_extension": ".py",
   "mimetype": "text/x-python",
   "name": "python",
   "nbconvert_exporter": "python",
   "pygments_lexer": "ipython3",
   "version": "3.7.7"
  }
 },
 "nbformat": 4,
 "nbformat_minor": 4
}
