{
 "cells": [
  {
   "cell_type": "code",
   "execution_count": 1,
   "metadata": {},
   "outputs": [],
   "source": [
    "import pandas as pd\n",
    "import numpy as np\n",
    "from pymol import cmd\n",
    "import itertools\n",
    "from matplotlib import pyplot as plt\n",
    "import os\n",
    "import warnings\n",
    "from pymol import stored\n",
    "import multiprocessing\n",
    "import cv2\n",
    "import mdtraj as md\n",
    "from tqdm import tqdm\n",
    "warnings.filterwarnings('ignore')"
   ]
  },
  {
   "cell_type": "code",
   "execution_count": 3,
   "metadata": {},
   "outputs": [],
   "source": [
    "import time\n",
    "class Timer(object):\n",
    "    \"\"\"Timer class\n",
    "       Wrap a will with a timing function\n",
    "    \"\"\"\n",
    "    \n",
    "    def __init__(self, name):\n",
    "        self.name = name\n",
    "        \n",
    "    def __enter__(self):\n",
    "        self.t = time.time()\n",
    "        \n",
    "    def __exit__(self, *args, **kwargs):\n",
    "        print(\"{} took {} seconds\".format(\n",
    "        self.name, time.time() - self.t))"
   ]
  },
  {
   "cell_type": "code",
   "execution_count": 88,
   "metadata": {},
   "outputs": [],
   "source": [
    "def save_pocket(pdb, sdf, name):\n",
    "    cmd.reinitialize()\n",
    "    cmd.load(pdb)\n",
    "    cmd.load(sdf, \"LIG\")\n",
    "    cmd.select(\"POCK\",\"br. LIG around 4\")\n",
    "    stored.idx = 0\n",
    "    cmd.iterate(\"POCK and n. CA\", expression=\"stored.idx+=1\")\n",
    "    cmd.save(name, \"POCK\")\n",
    "    return stored.idx"
   ]
  },
  {
   "cell_type": "code",
   "execution_count": 89,
   "metadata": {},
   "outputs": [],
   "source": [
    "def split_sdf(filename):\n",
    "    split = []\n",
    "    with open(filename,'r') as f:\n",
    "        for key,group in itertools.groupby(f,lambda line: line.startswith('$$$$')):\n",
    "          if not key:\n",
    "            split.append(\"\".join(list(group)))\n",
    "    num_files = (int)(np.ceil(len(split)/10000))\n",
    "    print(num_files)\n",
    "    for i in range(num_files):\n",
    "        f =  open(\"tmp{0}.sdf\".format(i), 'w+')\n",
    "        if i+10000 >= len(split):\n",
    "            f.write(\"$$$$\\n\".join(split[i:]))\n",
    "        else:\n",
    "            f.write(\"$$$$\\n\".join(split[i:i+10000]))"
   ]
  },
  {
   "cell_type": "code",
   "execution_count": 90,
   "metadata": {},
   "outputs": [],
   "source": [
    "apo_pdb = \"ADRP_6W02_A_1_H.pdb\"\n",
    "sdf = \"adrp_adpr_A_cat_sorted.sdf\""
   ]
  },
  {
   "cell_type": "code",
   "execution_count": 91,
   "metadata": {},
   "outputs": [],
   "source": [
    "#split_sdf(sdf)\n",
    "#pock_pdb = \"gen_pocket_adrp.pdb\"\n",
    "#num_residues = save_pocket(apo_pdb, sdf, pock_pdb) "
   ]
  },
  {
   "cell_type": "code",
   "execution_count": 92,
   "metadata": {},
   "outputs": [],
   "source": [
    "pock_pdb = \"adrp_pocket.pdb\"\n",
    "def maker(data, tmp_file=None):\n",
    "    i,_ = data\n",
    "    if tmp_file is None:\n",
    "        tmp_file = str(id(multiprocessing.current_process()))\n",
    "    cmd.load(pock_pdb, 'pdb', i+1)    \n",
    "    stored.idx = 0\n",
    "    cmd.iterate(\"pdb and n. CA\", expression=\"stored.idx+=1\")\n",
    "    num_residues = stored.idx\n",
    "    \n",
    "    cmd.save(\"test_sdf_load{}.pdb\".format(tmp_file), 'not resn EDO and not resn ACE and not resn NME', i + 1)\n",
    "    with open(\"test_sdf_load{}.pdb\".format(tmp_file), 'r') as f:\n",
    "        filn = f.read().split(\"\\n\")\n",
    "    lines = []\n",
    "    for i,line in enumerate(filn):\n",
    "        if \"UNK\" in line:\n",
    "            if i < 10:\n",
    "                line = line.replace(\"UNK\", \"UN{}\".format(i))\n",
    "            elif i < 100:\n",
    "                line = line.replace(\"UNK\", \"U{}\".format(i))\n",
    "            else:\n",
    "                assert(False)\n",
    "        lines.append(line)\n",
    "    with open(\"test_sdf_load{}.pdb\".format(tmp_file), 'w') as f:\n",
    "        f.write(\"\\n\".join(lines))\n",
    "    \n",
    "    ## Load in PDB make contact map\n",
    "    t = md.load(\"test_sdf_load{}.pdb\".format(tmp_file))\n",
    "    pl = len(list(t.topology.residues))\n",
    "    resi = np.arange(pl)\n",
    "    resi = np.arange(pl)\n",
    "    pairs = list(itertools.product(resi, resi))\n",
    "    matrix, l = md.compute_contacts(t, contacts=pairs, scheme=\"closest-heavy\")\n",
    "    matrix = np.array(matrix).reshape((pl,pl))\n",
    "    p_contact_matrix = matrix\n",
    "    \n",
    "    ##\n",
    "    mask = np.zeros((pl, pl, 1))\n",
    "    \n",
    "    ### generate protein-ligand mask\n",
    "    for i in range(pl - num_residues, pl):\n",
    "        for j in range(pl - num_residues, pl):\n",
    "            mask[i,j] = 1\n",
    "            mask[j,i] = 1\n",
    "    for i in range(pl - num_residues):\n",
    "        for j in range( pl - num_residues):\n",
    "            mask[i,j] = -1\n",
    "            mask[j,i] = -1\n",
    "    p_img = cv2.resize(matrix, dsize=(64, 64), interpolation=cv2.INTER_CUBIC).reshape(64,64,1) \n",
    "    m_img = cv2.resize(mask, dsize=(64, 64), interpolation=cv2.INTER_CUBIC).reshape(64,64,1) \n",
    "    p_contact_matrix = np.concatenate([p_img, m_img], axis=-1)\n",
    "    os.remove(\"test_sdf_load{}.pdb\".format(tmp_file))\n",
    "    return p_contact_matrix.astype(np.float32)"
   ]
  },
  {
   "cell_type": "code",
   "execution_count": 93,
   "metadata": {},
   "outputs": [],
   "source": [
    "def run_sim_multiprocess(i):\n",
    "    with multiprocessing.Pool(16) as p:\n",
    "        sdf = \"tmp{0}.sdf\".format(i)\n",
    "        print(\"reading sdf\")\n",
    "        print(i)\n",
    "        cmd.reinitialize()\n",
    "        cmd.load(sdf, \"OBJ0\")\n",
    "        cmd.do(\"remove hydrogens\")\n",
    "        num_states = cmd.count_states()\n",
    "        data = list(zip(range(num_states), range(num_states)))\n",
    "        itern = p.imap(maker, data)\n",
    "        for i,p_contact_matrix in enumerate(tqdm(itern, total=num_states)):\n",
    "            maps.append(p_contact_matrix)\n",
    "    "
   ]
  },
  {
   "cell_type": "code",
   "execution_count": 94,
   "metadata": {},
   "outputs": [],
   "source": [
    "def run_sim(filename, progress=False):\n",
    "    if progress:\n",
    "        print(\"reading sdf\")\n",
    "    cmd.reinitialize()\n",
    "    cmd.load(filename, \"OBJ0\")\n",
    "    if progress:\n",
    "        print(\"loaded sdf\")\n",
    "    cmd.do(\"remove hydrogens\")\n",
    "    num_states = cmd.count_states()\n",
    "    data = list(zip(range(num_states), range(num_states)))\n",
    "    if progress:\n",
    "        print(\"running maker\")\n",
    "    for i in range(num_states):\n",
    "        p_contact_matrix = maker(data[i])\n",
    "        maps.append(p_contact_matrix)\n",
    "        if progress and (i+1) % 100 == 0:\n",
    "            print(i+1)\n",
    "    if progress:\n",
    "        print(\"done\")"
   ]
  },
  {
   "cell_type": "code",
   "execution_count": 95,
   "metadata": {},
   "outputs": [],
   "source": [
    "import itertools\n",
    "def run_sim_string(f):\n",
    "    s, pdb_list = stringify(\"tmp{0}.sdf\".format(f), \"adrp_pocket.pdb\")\n",
    "    with multiprocessing.Pool(32) as p:\n",
    "        num_states = len(s)\n",
    "        data = list(zip(range(num_states), s))\n",
    "        itern = p.imap(maker_w_strings, data)\n",
    "        for i,p_contact_matrix in enumerate(tqdm(itern, total=num_states)):\n",
    "            maps.append(p_contact_matrix)\n"
   ]
  },
  {
   "cell_type": "code",
   "execution_count": 96,
   "metadata": {},
   "outputs": [],
   "source": [
    "scores = \"adrp_adpr_A_cat_sorted.csv\"\n",
    "scores = pd.read_csv(scores)"
   ]
  },
  {
   "cell_type": "code",
   "execution_count": 12,
   "metadata": {},
   "outputs": [
    {
     "name": "stdout",
     "output_type": "stream",
     "text": [
      "reading sdf\n",
      "0\n",
      " PyMOL not running, entering library mode (experimental)\n"
     ]
    },
    {
     "name": "stderr",
     "output_type": "stream",
     "text": [
      "\r",
      "  0%|          | 0/10000 [00:00<?, ?it/s]"
     ]
    },
    {
     "name": "stdout",
     "output_type": "stream",
     "text": [
      " PyMOL not running, entering library mode (experimental)\n",
      " PyMOL not running, entering library mode (experimental)\n",
      " PyMOL not running, entering library mode (experimental)\n",
      " PyMOL not running, entering library mode (experimental)\n",
      " PyMOL not running, entering library mode (experimental)\n",
      " PyMOL not running, entering library mode (experimental)\n",
      " PyMOL not running, entering library mode (experimental)\n",
      " PyMOL not running, entering library mode (experimental)\n",
      " PyMOL not running, entering library mode (experimental)\n",
      " PyMOL not running, entering library mode (experimental)\n",
      " PyMOL not running, entering library mode (experimental)\n",
      " PyMOL not running, entering library mode (experimental)\n",
      " PyMOL not running, entering library mode (experimental)\n",
      " PyMOL not running, entering library mode (experimental)\n",
      " PyMOL not running, entering library mode (experimental)\n",
      " PyMOL not running, entering library mode (experimental)\n"
     ]
    },
    {
     "name": "stderr",
     "output_type": "stream",
     "text": [
      "100%|██████████| 10000/10000 [00:37<00:00, 265.74it/s]\n"
     ]
    }
   ],
   "source": [
    "maps=[]\n",
    "for i in np.arange(1):\n",
    "    run_sim_multiprocess(i)\n",
    "maps_mult_tmp = maps    "
   ]
  },
  {
   "cell_type": "code",
   "execution_count": 97,
   "metadata": {},
   "outputs": [],
   "source": [
    "def stringify(sdf, pdb):\n",
    "    sdf_split = []\n",
    "    with open(sdf,'r') as f:\n",
    "        for key,group in itertools.groupby(f,lambda line: line.startswith('$$$$')):\n",
    "          if not key:\n",
    "            sdf_split.append(\"\".join(list(group)))\n",
    "    with open(pdb,'r') as f:\n",
    "        pdb_string = f.readlines()\n",
    "    return sdf_split, pdb_string"
   ]
  },
  {
   "cell_type": "code",
   "execution_count": 98,
   "metadata": {},
   "outputs": [],
   "source": [
    "def create_pdb(sdf, pdb_string,i):\n",
    "    lines = sdf.split('\\n')\n",
    "    num_lines = (int)(lines[3].split(' ')[1])\n",
    "    lig = lines[4:4+num_lines-1]\n",
    "    lig = list(filter(lambda x: 'H' not in x, lig))\n",
    "    lig_pdb = list(map(create_line, lig, np.arange(1,len(lig)+1)))\n",
    "    f =  open(\"tmp{0}.pdb\".format(i), 'w+')\n",
    "    f.write(\"\\n\".join(lig_pdb))\n",
    "    f.write(\"\\n\")\n",
    "    f.write(\"\".join(pdb_string))\n",
    "    f.close()\n",
    "    \n",
    "def create_line(line,i):\n",
    "    split = line.split(' ')\n",
    "    split = list(filter(lambda x: x != '', split))\n",
    "    atom = split[3]\n",
    "    vals1 = (float)(split[0])\n",
    "    vals2 = (float)(split[1])\n",
    "    vals3= (float)(split[2]) \n",
    "    if i >=10 :\n",
    "        new_string = \"{:6s}{:5d} {:^4s}{:1s}{:3s} {:1s}{:4d}{:1s}   {:8.3f}{:8.3f}{:8.3f}{:6.2f}{:6.2f}          {:>2s}{:2s}\".format(\"HETATM\",i,atom,'',\"U\"+str(i),'',0,'',vals1, vals2,vals3,0,0,atom,'')\n",
    "    else:\n",
    "        new_string = \"{:6s}{:5d} {:^4s}{:1s}{:3s} {:1s}{:4d}{:1s}   {:8.3f}{:8.3f}{:8.3f}{:6.2f}{:6.2f}          {:>2s}{:2s}\".format(\"HETATM\",i,atom,'',\"UN\"+str(i),'',0,'',vals1, vals2,vals3,0,0,atom,'')\n",
    "    return new_string"
   ]
  },
  {
   "cell_type": "code",
   "execution_count": 165,
   "metadata": {},
   "outputs": [],
   "source": [
    "def maker_w_strings(data):\n",
    "    i,sdf_state = data\n",
    "    tmp_file = str(id(multiprocessing.current_process()))\n",
    "    create_pdb(sdf_state,pdb_list,tmp_file)\n",
    "    t = md.load(\"tmp{0}.pdb\".format(tmp_file))\n",
    "    pl = len(list(t.topology.residues))\n",
    "    resi = np.arange(pl)\n",
    "    pairs = list(itertools.product(resi, resi))\n",
    "    matrix, l = md.compute_contacts(t, contacts=pairs, scheme=\"closest-heavy\")\n",
    "    matrix = np.array(matrix).reshape((pl,pl))\n",
    "    p_contact_matrix = matrix\n",
    "    \n",
    "    # TODO hardcoded\n",
    "    num_residues=26\n",
    "    \n",
    "    mask = np.zeros((pl, pl, 1))    \n",
    "    ### generate protein-ligand mask\n",
    "    for i in range(pl - num_residues, pl):\n",
    "        for j in range(pl - num_residues, pl):\n",
    "            # ligand\n",
    "            mask[i,j] = 1\n",
    "            mask[j,i] = 1\n",
    "    for i in range(pl - num_residues):\n",
    "        for j in range( pl - num_residues):\n",
    "            # protein\n",
    "            mask[i,j] = -1\n",
    "            mask[j,i] = -1\n",
    "            \n",
    "    charge = np.zeros((pl,pl,1))\n",
    "    c = get_charges(t)\n",
    "    for i in range(pl):\n",
    "        for j in range(pl):\n",
    "            charge[i][j] = (c[i]+c[j])/2\n",
    "            \n",
    "    p_img = cv2.resize(matrix, dsize=(64, 64), interpolation=cv2.INTER_CUBIC).reshape(64,64,1) \n",
    "    m_img = cv2.resize(mask, dsize=(64, 64), interpolation=cv2.INTER_CUBIC).reshape(64,64,1) \n",
    "    c_img = cv2.resize(charge, dsize=(64, 64), interpolation=cv2.INTER_CUBIC).reshape(64,64,1) \n",
    "    \n",
    "    p_contact_matrix = np.concatenate([p_img, m_img, c_img], axis=-1)\n",
    "    os.remove(\"tmp{0}.pdb\".format(tmp_file))\n",
    "    return p_contact_matrix.astype(np.float32)"
   ]
  },
  {
   "cell_type": "code",
   "execution_count": 170,
   "metadata": {},
   "outputs": [],
   "source": [
    "def get_charges(t):\n",
    "    # create dictionary of charges\n",
    "    dict_element = {\"H\": +1, \"I\":-1,\n",
    "           \"N\": -3,\n",
    "           \"P\":-3,\n",
    "           \"C\": +4,\n",
    "           \"O\":-2,\n",
    "           \"F\": -1,\n",
    "           \"S\": -2,\n",
    "           \"Li\": +1,\n",
    "           \"Cl\": -1,\n",
    "           \"Br\": -1}\n",
    "    dict_aa = {\"ASP\": -1, \"GLU\":-1, \"LYS\":+1, \"ARG\":+1, \"HIS\":+1}\n",
    "    charges=[]\n",
    "    # iterate through all ligand residues and assign charge\n",
    "    for r in list(t.topology.atoms):\n",
    "        if str(r).startswith('U'):\n",
    "            charges.append(dict_element[r.name])\n",
    "    # iterate through all protein residues and assign charge\n",
    "    for r in list(t.topology.residues):\n",
    "        if not str(r).startswith('U'):\n",
    "            if r.name in dict_aa:\n",
    "                charges.append(dict_aa[r.name])\n",
    "            else:\n",
    "                charges.append(0)\n",
    "    return charges            "
   ]
  },
  {
   "cell_type": "code",
   "execution_count": 175,
   "metadata": {},
   "outputs": [
    {
     "name": "stderr",
     "output_type": "stream",
     "text": [
      "100%|██████████| 10000/10000 [01:14<00:00, 134.56it/s]\n",
      "100%|██████████| 10000/10000 [01:14<00:00, 134.17it/s]\n",
      "100%|██████████| 10000/10000 [01:14<00:00, 134.91it/s]\n",
      "100%|██████████| 10000/10000 [01:14<00:00, 135.08it/s]\n",
      "100%|██████████| 10000/10000 [01:14<00:00, 135.05it/s]\n",
      "100%|██████████| 10000/10000 [01:16<00:00, 130.79it/s]\n",
      "100%|██████████| 10000/10000 [01:15<00:00, 131.81it/s]\n",
      "100%|██████████| 10000/10000 [01:15<00:00, 131.92it/s]\n",
      "100%|██████████| 10000/10000 [01:16<00:00, 131.29it/s]\n",
      "100%|██████████| 10000/10000 [01:37<00:00, 102.47it/s]\n"
     ]
    }
   ],
   "source": [
    "import itertools\n",
    "maps=[]\n",
    "for f in range(10):\n",
    "    s, pdb_list = stringify(\"tmp{0}.sdf\".format(f), \"adrp_pocket.pdb\")\n",
    "    with multiprocessing.Pool(32) as p:\n",
    "        num_states = len(s)\n",
    "        data = list(zip(range(num_states), s))\n",
    "        itern = p.imap(maker_w_strings, data)\n",
    "        for i,p_contact_matrix in enumerate(tqdm(itern, total=num_states)):\n",
    "            maps.append(p_contact_matrix)\n",
    "maps_string_tmp=maps            \n"
   ]
  },
  {
   "cell_type": "code",
   "execution_count": 176,
   "metadata": {},
   "outputs": [
    {
     "name": "stdout",
     "output_type": "stream",
     "text": [
      "100000\n"
     ]
    }
   ],
   "source": [
    "print(len(maps))"
   ]
  },
  {
   "cell_type": "code",
   "execution_count": 177,
   "metadata": {},
   "outputs": [],
   "source": [
    "f = open(\"data_wcharge_100k.pkl\",\"wb\")\n",
    "pickle.dump(maps,f)"
   ]
  },
  {
   "cell_type": "code",
   "execution_count": 163,
   "metadata": {},
   "outputs": [
    {
     "data": {
      "text/plain": [
       "<matplotlib.colorbar.Colorbar at 0x7f607952b550>"
      ]
     },
     "execution_count": 163,
     "metadata": {},
     "output_type": "execute_result"
    },
    {
     "data": {
      "image/png": "[encoded data removed]",
      "text/plain": [
       "<Figure size 432x288 with 2 Axes>"
      ]
     },
     "metadata": {
      "needs_background": "light"
     },
     "output_type": "display_data"
    }
   ],
   "source": [
    "plt.imshow(maps[0][:,:,0])\n",
    "plt.colorbar()"
   ]
  },
  {
   "cell_type": "code",
   "execution_count": 17,
   "metadata": {},
   "outputs": [
    {
     "name": "stderr",
     "output_type": "stream",
     "text": [
      "100%|██████████| 10000/10000 [00:43<00:00, 231.59it/s]\n"
     ]
    }
   ],
   "source": [
    "maps=[]\n",
    "for f in range(1):\n",
    "    s, pdb_list = stringify(\"adrp_adpr_A_cat_sorted_top10000.sdf\", \"adrp_pocket.pdb\")\n",
    "    with multiprocessing.Pool(32) as p:\n",
    "        num_states = len(s)\n",
    "        data = list(zip(range(num_states), s))\n",
    "        itern = p.imap(maker_w_strings, data)\n",
    "        for i,p_contact_matrix in enumerate(tqdm(itern, total=num_states)):\n",
    "            maps.append(p_contact_matrix)\n",
    "maps_string_top=maps "
   ]
  },
  {
   "cell_type": "code",
   "execution_count": 61,
   "metadata": {},
   "outputs": [],
   "source": [
    "scores_sub = \"adrp_adpr_A_cat_sorted_top100.csv\"\n",
    "scores_sub = pd.read_csv(scores_sub)"
   ]
  },
  {
   "cell_type": "code",
   "execution_count": 62,
   "metadata": {},
   "outputs": [
    {
     "name": "stdout",
     "output_type": "stream",
     "text": [
      "reading sdf\n",
      "loaded sdf\n",
      "running maker\n",
      "100\n",
      "done\n"
     ]
    }
   ],
   "source": [
    "maps=[]\n",
    "run_sim(\"adrp_adpr_A_cat_sorted_top100.sdf\", progress=True)\n",
    "maps_100_baseline=maps"
   ]
  },
  {
   "cell_type": "code",
   "execution_count": 34,
   "metadata": {},
   "outputs": [
    {
     "data": {
      "image/png": "[encoded data removed]",
      "text/plain": [
       "<Figure size 432x288 with 1 Axes>"
      ]
     },
     "metadata": {
      "needs_background": "light"
     },
     "output_type": "display_data"
    },
    {
     "data": {
      "text/plain": [
       "<matplotlib.image.AxesImage at 0x7f607e234810>"
      ]
     },
     "execution_count": 34,
     "metadata": {},
     "output_type": "execute_result"
    },
    {
     "data": {
      "image/png": "[encoded data removed]",
      "text/plain": [
       "<Figure size 432x288 with 1 Axes>"
      ]
     },
     "metadata": {
      "needs_background": "light"
     },
     "output_type": "display_data"
    }
   ],
   "source": [
    "plt.imshow(maps_string_top[0][:,:,0])\n",
    "plt.show()\n",
    "plt.imshow(maps_100_baseline[0][:,:,0])"
   ]
  },
  {
   "cell_type": "code",
   "execution_count": 25,
   "metadata": {},
   "outputs": [
    {
     "name": "stdout",
     "output_type": "stream",
     "text": [
      "[0. 0. 0. 0. 0. 0. 0. 0. 0. 0. 0. 0. 0. 0. 0. 0. 0. 0. 0. 0. 0. 0. 0. 0.\n",
      " 0. 0. 0. 0. 0. 0. 0. 0. 0. 0. 0. 0. 0. 0. 0. 0. 0. 0. 0. 0. 0. 0. 0. 0.\n",
      " 0. 0. 0. 0. 0. 0. 0. 0. 0. 0. 0. 0. 0. 0. 0. 0. 0. 0. 0. 0. 0. 0. 0. 0.\n",
      " 0. 0. 0. 0. 0. 0. 0. 0. 0. 0. 0. 0. 0. 0. 0. 0. 0. 0. 0. 0. 0. 0. 0. 0.\n",
      " 0. 0. 0. 0.]\n"
     ]
    }
   ],
   "source": [
    "# compare scores\n",
    "print(scores['Chemgauss4'].iloc[0:100].to_numpy()-scores_sub['Chemgauss4'].to_numpy())"
   ]
  },
  {
   "cell_type": "code",
   "execution_count": 42,
   "metadata": {},
   "outputs": [
    {
     "name": "stdout",
     "output_type": "stream",
     "text": [
      "0.00018799305\n"
     ]
    }
   ],
   "source": [
    "diff=[]\n",
    "for i in range(100):\n",
    "    diff.append(np.max(maps_100_baseline[i][:,:,0] - maps_string_top[i][:,:,0]))\n",
    "print(np.max(diff))    "
   ]
  },
  {
   "cell_type": "code",
   "execution_count": 63,
   "metadata": {},
   "outputs": [],
   "source": [
    "import pickle\n",
    "arr = pickle.load(open(\"data_large_fixed.pkl\",'rb'))"
   ]
  },
  {
   "cell_type": "code",
   "execution_count": 64,
   "metadata": {},
   "outputs": [
    {
     "name": "stdout",
     "output_type": "stream",
     "text": [
      "0.0\n"
     ]
    }
   ],
   "source": [
    "diff=[]\n",
    "for i in range(100):\n",
    "    diff.append(np.max(maps_100_baseline[i][:,:,1] - arr[0][i][:,:,1]))\n",
    "print(np.max(diff)) "
   ]
  },
  {
   "cell_type": "code",
   "execution_count": 147,
   "metadata": {},
   "outputs": [],
   "source": [
    "t = md.load(\"tmp140052712638416.pdb\")\n",
    "charges = get_charges(t)"
   ]
  },
  {
   "cell_type": "code",
   "execution_count": 148,
   "metadata": {},
   "outputs": [
    {
     "name": "stdout",
     "output_type": "stream",
     "text": [
      "[4, 4, 4, 4, 4, 4, 4, 4, 4, 4, 4, 4, 4, 4, 4, 4, 4, 4, 4, 4, -3, -3, -3, -3, -3, -3, -2, -2, -2, 0, -1, 0, 0, -1, 0, 0, 0, 0, 0, 0, 0, 0, 0, 0, 0, 0, 0, 0, 0, 0, 0, 0, -1, 0, 0]\n"
     ]
    }
   ],
   "source": [
    "print(charges)"
   ]
  },
  {
   "cell_type": "code",
   "execution_count": null,
   "metadata": {},
   "outputs": [],
   "source": []
  }
 ],
 "metadata": {
  "kernelspec": {
   "display_name": "Python 3",
   "language": "python",
   "name": "python3"
  },
  "language_info": {
   "codemirror_mode": {
    "name": "ipython",
    "version": 3
   },
   "file_extension": ".py",
   "mimetype": "text/x-python",
   "name": "python",
   "nbconvert_exporter": "python",
   "pygments_lexer": "ipython3",
   "version": "3.7.7"
  }
 },
 "nbformat": 4,
 "nbformat_minor": 4
}
